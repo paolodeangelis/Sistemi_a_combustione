{
 "cells": [
  {
   "cell_type": "markdown",
   "metadata": {},
   "source": [
    "# Theoretical velocity profile"
   ]
  },
  {
   "cell_type": "code",
   "execution_count": 62,
   "metadata": {},
   "outputs": [],
   "source": [
    "# import matplotlib.pyplot as plt\n",
    "import numpy as np\n",
    "\n",
    "SEED = 12345"
   ]
  },
  {
   "cell_type": "code",
   "execution_count": 63,
   "metadata": {},
   "outputs": [],
   "source": [
    "def get_vel_profile(\n",
    "    Re: float, mu: float, rho: float, L: float, R: float, Nr: int\n",
    ") -> (np.ndarray, np.ndarray):\n",
    "    \"\"\"\n",
    "    Calculate the velocity profile in a duct.\n",
    "\n",
    "    Args:\n",
    "        Re (float): Reynolds number.\n",
    "        mu (float): Viscosity of the fluid [Pas].\n",
    "        rho (float): Density of the fluid [kg/m^3].\n",
    "        L (float): Length of the duct [m].\n",
    "        R (float): Radius of the duct [m].\n",
    "        Nr (int): Number of radial points for the profile.\n",
    "\n",
    "    Returns:\n",
    "        r (np.ndarray): Array of radial coordinates [m].\n",
    "        velx_y (np.ndarray): Array of velocities at radial positions [m/s].\n",
    "\n",
    "    If Re is within the laminar range (Re <= 2000), it computes the velocity profile using\n",
    "    Hagen-Poiseuille equation.\n",
    "    If Re is in the transitional range (2000 < Re <= 10000), it returns None.\n",
    "    If Re is in the turbulent range (10000 < Re <= 10000000), it calculates the velocity\n",
    "    profile using a power-law model.\n",
    "    \"\"\"\n",
    "    Ks = 2.2e9  # Bulk modulus od water [Pa]\n",
    "    r = np.linspace(0, R, Nr)\n",
    "    velx_avg = Re * mu / (rho * 2 * R)  # average velocity [m/s]\n",
    "    Ma = velx_avg / np.sqrt(Ks / 1000)\n",
    "    if Re <= 2000 and Ma < 0.8:  # laminar (Hagen-Poiseuille)\n",
    "        deltap = -8 * mu * velx_avg * L / (R**2)\n",
    "        velx_y = 1 / 4 * deltap / (mu * L) * (r**2 - R**2)\n",
    "\n",
    "    elif 2000 < Re <= 10000 and Ma < 0.8:\n",
    "        velx_y = None\n",
    "    elif 10000 < Re <= 10000000 and Ma < 0.8:  # turbulent\n",
    "        n = 2.021 * Re**0.1077  # for Re between 1e4 and 1e6\n",
    "        velx_max = velx_avg / (\n",
    "            2 * n**2 / ((n + 1) * (2 * n + 1))\n",
    "        )  # can be demonstrated for a power law\n",
    "        velx_y = velx_max * (1 - r / R) ** (1 / n)  # power-law velocity profile\n",
    "    else:\n",
    "        velx_y = None\n",
    "    return r, velx_y"
   ]
  },
  {
   "cell_type": "code",
   "execution_count": 64,
   "metadata": {},
   "outputs": [],
   "source": [
    "N_profiles = 80000\n",
    "Nr = 50\n",
    "rand_gen = np.random.default_rng(seed=SEED)\n",
    "\n",
    "Re_all = np.zeros((N_profiles, 1))\n",
    "space_all = np.zeros((N_profiles, Nr))\n",
    "data_all = np.zeros((N_profiles, Nr + 4))\n",
    "\n",
    "i = 0\n",
    "while i < N_profiles:\n",
    "    # sampling\n",
    "    if rand_gen.random() < 0.15:\n",
    "        # laminar\n",
    "        Re = rand_gen.uniform(1.0, 2e3)  # Reynolds number [-] in interval (1.0, 1e6)\n",
    "    else:\n",
    "        # turbulent\n",
    "        Re = rand_gen.uniform(1e4, 1e6)  # Reynolds number [-] in interval (1.0, 1e6)\n",
    "    R = rand_gen.uniform(0.05, 0.5)  # Radius of the duct [m] in interval (0.1, .5)\n",
    "    L = rand_gen.uniform(5.0, 100.0)  # Length of the duct [m] in interval (5.0, 100.0)\n",
    "    rho = np.abs(\n",
    "        rand_gen.normal(loc=1000.0, scale=50.0)\n",
    "    )  # Density of the liquid [kg/m^3] in interval (.0, +inf)\n",
    "    mu = np.abs(\n",
    "        rand_gen.normal(loc=1e-3, scale=5e-4)\n",
    "    )  # Viscosity of the liquid [Pas] in interval (.0, +inf)\n",
    "    # print(Re, mu, rho, L, R)\n",
    "    r, velx_y = get_vel_profile(Re, mu, rho, L, R, Nr)\n",
    "    if velx_y is None:\n",
    "        # print(\"Skip Re:\", Re)\n",
    "        continue\n",
    "    # store\n",
    "    Re_all[i, :] = Re\n",
    "    space_all[i, :] = r\n",
    "    data_all[i, :] = np.concatenate((np.array([mu, rho, L, R]), velx_y))\n",
    "    # plt.plot(velx_y, r)\n",
    "    # plt.xlabel('u [m/s]')\n",
    "    # plt.ylabel('r [m]')\n",
    "    # plt.xlim([0, 0.0001])\n",
    "    i += 1"
   ]
  },
  {
   "cell_type": "markdown",
   "metadata": {},
   "source": [
    "Save on file"
   ]
  },
  {
   "cell_type": "code",
   "execution_count": 65,
   "metadata": {},
   "outputs": [],
   "source": [
    "np.savetxt(\n",
    "    \"velprof-data.csv\",\n",
    "    data_all,\n",
    "    delimiter=\",\",\n",
    "    fmt=\"%12.8e\",\n",
    "    header=\",\".join([\"mu(Pas)\", \"rho(kg/m3)\", \"L(m)\", \"R(m)\"])\n",
    "    + \",\".join([f\"vel[{i}](m/s)\" for i in range(Nr)]),\n",
    "    comments=\"\",\n",
    ")\n",
    "np.savetxt(\n",
    "    \"velprof-space.csv\",\n",
    "    space_all,\n",
    "    delimiter=\",\",\n",
    "    fmt=\"%12.8e\",\n",
    "    header=\",\".join([f\"r[{i}](m)\" for i in range(Nr)]),\n",
    "    comments=\"\",\n",
    ")\n",
    "np.savetxt(\n",
    "    \"velprof-Re.csv\", Re_all, delimiter=\",\", fmt=\"%12.8e\", header=\"Re(-)\", comments=\"\"\n",
    ")"
   ]
  },
  {
   "cell_type": "code",
   "execution_count": 66,
   "metadata": {},
   "outputs": [],
   "source": [
    "# plt.hist(Re_all, bins=300)"
   ]
  },
  {
   "cell_type": "code",
   "execution_count": null,
   "metadata": {},
   "outputs": [],
   "source": []
  }
 ],
 "metadata": {
  "kernelspec": {
   "display_name": ".venv",
   "language": "python",
   "name": "python3"
  },
  "language_info": {
   "codemirror_mode": {
    "name": "ipython",
    "version": 3
   },
   "file_extension": ".py",
   "mimetype": "text/x-python",
   "name": "python",
   "nbconvert_exporter": "python",
   "pygments_lexer": "ipython3",
   "version": "3.11.5"
  }
 },
 "nbformat": 4,
 "nbformat_minor": 2
}
