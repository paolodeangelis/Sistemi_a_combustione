{
  "cells": [
    {
      "cell_type": "markdown",
      "metadata": {
        "id": "8xJJYcgvDZQm"
      },
      "source": [
        "# Neural Network model for fluid dynamics (Part 2)"
      ]
    },
    {
      "cell_type": "markdown",
      "metadata": {
        "id": "tkiFIdrTDZRG"
      },
      "source": [
        "[![Open In Colab](https://colab.research.google.com/assets/colab-badge.svg)](https://colab.research.google.com/github/paolodeangelis/Sistemi_a_combustione/blob/main/2.2-NN_Reynolds_P2.ipynb)"
      ]
    },
    {
      "cell_type": "markdown",
      "metadata": {
        "id": "E1fgkgmEDp52"
      },
      "source": [
        "## Intro TODO"
      ]
    },
    {
      "cell_type": "markdown",
      "metadata": {
        "id": "Ez_1bo8gGCz5"
      },
      "source": [
        "## Enabling and testing the GPU\n",
        "\n",
        "First, you'll need to enable GPUs for the notebook:\n",
        "\n",
        "- Navigate to `Edit` > `Notebook Settings`\n",
        "- select `T4 GPU` from the Hardware Accelerator drop-down\n",
        "\n",
        "Next, we'll check that we can connect to the GPU:"
      ]
    },
    {
      "cell_type": "code",
      "execution_count": 1,
      "metadata": {
        "colab": {
          "base_uri": "https://localhost:8080/"
        },
        "id": "roYngX96GfoT",
        "outputId": "867c92a2-6b4f-4551-ca27-6e71c7720741"
      },
      "outputs": [
        {
          "output_type": "stream",
          "name": "stdout",
          "text": [
            "Tensorflow version 2.14.0\n"
          ]
        },
        {
          "output_type": "stream",
          "name": "stderr",
          "text": [
            "<ipython-input-1-2d4856826883>:12: UserWarning: GPU device not found\n",
            "  warnings.warn(\"GPU device not found\")\n",
            "<ipython-input-1-2d4856826883>:25: UserWarning: TPU device not found\n",
            "  warnings.warn(\"TPU device not found\")\n",
            "<ipython-input-1-2d4856826883>:26: UserWarning: Default parallization strategy will be used\n",
            "  warnings.warn(\"Default parallization strategy will be used\")\n"
          ]
        }
      ],
      "source": [
        "import warnings\n",
        "\n",
        "import tensorflow as tf\n",
        "\n",
        "print(\"Tensorflow version \" + tf.__version__)\n",
        "\n",
        "device_name = tf.test.gpu_device_name()  # GPU detection\n",
        "if device_name == \"/device:GPU:0\":\n",
        "    strategy = tf.distribute.OneDeviceStrategy(device=\"/gpu:0\")\n",
        "    print(f\"Running on GPU at: {device_name}\")\n",
        "else:\n",
        "    warnings.warn(\"GPU device not found\")\n",
        "    try:\n",
        "        resolver = tf.distribute.cluster_resolver.TPUClusterResolver(\n",
        "            tpu=\"\"\n",
        "        )  # TPU detection\n",
        "        tf.config.experimental_connect_to_cluster(resolver)\n",
        "        tf.tpu.experimental.initialize_tpu_system(resolver)\n",
        "        strategy = tf.distribute.TPUStrategy(resolver)\n",
        "        print(\n",
        "            \"Running on TPU at:\",\n",
        "            \"\\n\\t\".join([f\"{i}\" for i in tf.config.list_logical_devices(\"TPU\")]),\n",
        "        )\n",
        "    except ValueError:\n",
        "        warnings.warn(\"TPU device not found\")\n",
        "        warnings.warn(\"Default parallization strategy will be used\")\n",
        "        strategy = tf.distribute.get_strategy()"
      ]
    },
    {
      "cell_type": "markdown",
      "metadata": {
        "id": "5HODMa97DvP2"
      },
      "source": [
        "## Installing Libraries\n",
        "\n",
        "We begin by installing the necessary libraries to support our data manipulation, visualization, and deep learning modeling. (Note: `Tensorflow` and `Keras` are already installed on Colab)"
      ]
    },
    {
      "cell_type": "code",
      "execution_count": 2,
      "metadata": {
        "colab": {
          "base_uri": "https://localhost:8080/"
        },
        "id": "L9lFAQhVEClk",
        "outputId": "8c5454cd-4968-491d-f5a0-1095a5f8690c"
      },
      "outputs": [
        {
          "output_type": "stream",
          "name": "stdout",
          "text": [
            "Requirement already satisfied: numpy in /usr/local/lib/python3.10/dist-packages (1.23.5)\n",
            "Requirement already satisfied: pandas in /usr/local/lib/python3.10/dist-packages (1.5.3)\n",
            "Requirement already satisfied: scipy in /usr/local/lib/python3.10/dist-packages (1.11.3)\n",
            "Requirement already satisfied: matplotlib in /usr/local/lib/python3.10/dist-packages (3.7.1)\n",
            "Requirement already satisfied: scikit-learn in /usr/local/lib/python3.10/dist-packages (1.2.2)\n",
            "Requirement already satisfied: python-dateutil>=2.8.1 in /usr/local/lib/python3.10/dist-packages (from pandas) (2.8.2)\n",
            "Requirement already satisfied: pytz>=2020.1 in /usr/local/lib/python3.10/dist-packages (from pandas) (2023.3.post1)\n",
            "Requirement already satisfied: contourpy>=1.0.1 in /usr/local/lib/python3.10/dist-packages (from matplotlib) (1.1.1)\n",
            "Requirement already satisfied: cycler>=0.10 in /usr/local/lib/python3.10/dist-packages (from matplotlib) (0.12.1)\n",
            "Requirement already satisfied: fonttools>=4.22.0 in /usr/local/lib/python3.10/dist-packages (from matplotlib) (4.43.1)\n",
            "Requirement already satisfied: kiwisolver>=1.0.1 in /usr/local/lib/python3.10/dist-packages (from matplotlib) (1.4.5)\n",
            "Requirement already satisfied: packaging>=20.0 in /usr/local/lib/python3.10/dist-packages (from matplotlib) (23.2)\n",
            "Requirement already satisfied: pillow>=6.2.0 in /usr/local/lib/python3.10/dist-packages (from matplotlib) (9.4.0)\n",
            "Requirement already satisfied: pyparsing>=2.3.1 in /usr/local/lib/python3.10/dist-packages (from matplotlib) (3.1.1)\n",
            "Requirement already satisfied: joblib>=1.1.1 in /usr/local/lib/python3.10/dist-packages (from scikit-learn) (1.3.2)\n",
            "Requirement already satisfied: threadpoolctl>=2.0.0 in /usr/local/lib/python3.10/dist-packages (from scikit-learn) (3.2.0)\n",
            "Requirement already satisfied: six>=1.5 in /usr/local/lib/python3.10/dist-packages (from python-dateutil>=2.8.1->pandas) (1.16.0)\n"
          ]
        }
      ],
      "source": [
        "%pip install numpy pandas scipy matplotlib  scikit-learn"
      ]
    },
    {
      "cell_type": "markdown",
      "metadata": {
        "id": "PCLXim7CrLiU"
      },
      "source": [
        "And now we import the necessary libraries"
      ]
    },
    {
      "cell_type": "code",
      "execution_count": 3,
      "metadata": {
        "id": "hvGzVOkNrMqV"
      },
      "outputs": [],
      "source": [
        "import os  # Operating system-related functions\n",
        "import pathlib  # Path manipulation and filesystem-related operations\n",
        "\n",
        "import matplotlib.pyplot as plt  # Data visualization library\n",
        "import numpy as np  # Numerical computing library\n",
        "import pandas as pd  # Data manipulation and analysis library\n",
        "import tensorflow as tf  # Deep learning framework for neural networks\n",
        "from sklearn.metrics import r2_score\n",
        "from tensorflow.keras import Sequential, layers, losses, optimizers"
      ]
    },
    {
      "cell_type": "markdown",
      "metadata": {
        "id": "XaYFSqhnvi1Y"
      },
      "source": [
        "## Data download and downsamplig\n",
        "\n",
        "In this section, we will download the dataset and  reduce its size to speed up the training."
      ]
    },
    {
      "cell_type": "markdown",
      "metadata": {
        "id": "igeIcVy1AIU0"
      },
      "source": [
        "### Download dataset files"
      ]
    },
    {
      "cell_type": "code",
      "execution_count": 4,
      "metadata": {
        "colab": {
          "base_uri": "https://localhost:8080/"
        },
        "id": "n9SsgVKDvZT_",
        "outputId": "cb31404a-8cc9-4a40-ae26-b85ff8eccef1"
      },
      "outputs": [
        {
          "output_type": "stream",
          "name": "stdout",
          "text": [
            "--2023-10-31 09:56:53--  https://raw.githubusercontent.com/paolodeangelis/Sistemi_a_combustione/main/data/lab2/velprof-Re.csv\n",
            "Resolving raw.githubusercontent.com (raw.githubusercontent.com)... 185.199.108.133, 185.199.109.133, 185.199.110.133, ...\n",
            "Connecting to raw.githubusercontent.com (raw.githubusercontent.com)|185.199.108.133|:443... connected.\n",
            "HTTP request sent, awaiting response... 200 OK\n",
            "Length: 1500006 (1.4M) [text/plain]\n",
            "Saving to: ‘velprof-Re.csv’\n",
            "\n",
            "velprof-Re.csv      100%[===================>]   1.43M  --.-KB/s    in 0.03s   \n",
            "\n",
            "2023-10-31 09:56:54 (56.2 MB/s) - ‘velprof-Re.csv’ saved [1500006/1500006]\n",
            "\n",
            "--2023-10-31 09:56:54--  https://raw.githubusercontent.com/paolodeangelis/Sistemi_a_combustione/main/data/lab2/velprof-data.csv\n",
            "Resolving raw.githubusercontent.com (raw.githubusercontent.com)... 185.199.108.133, 185.199.109.133, 185.199.110.133, ...\n",
            "Connecting to raw.githubusercontent.com (raw.githubusercontent.com)|185.199.108.133|:443... connected.\n",
            "HTTP request sent, awaiting response... 200 OK\n",
            "Length: 81015554 (77M) [text/plain]\n",
            "Saving to: ‘velprof-data.csv’\n",
            "\n",
            "velprof-data.csv    100%[===================>]  77.26M   397MB/s    in 0.2s    \n",
            "\n",
            "2023-10-31 09:56:58 (397 MB/s) - ‘velprof-data.csv’ saved [81015554/81015554]\n",
            "\n",
            "--2023-10-31 09:56:58--  https://raw.githubusercontent.com/paolodeangelis/Sistemi_a_combustione/main/data/lab2/velprof-space.csv\n",
            "Resolving raw.githubusercontent.com (raw.githubusercontent.com)... 185.199.108.133, 185.199.109.133, 185.199.110.133, ...\n",
            "Connecting to raw.githubusercontent.com (raw.githubusercontent.com)|185.199.108.133|:443... connected.\n",
            "HTTP request sent, awaiting response... 200 OK\n",
            "Length: 75000440 (72M) [text/plain]\n",
            "Saving to: ‘velprof-space.csv’\n",
            "\n",
            "velprof-space.csv   100%[===================>]  71.53M   170MB/s    in 0.4s    \n",
            "\n",
            "2023-10-31 09:57:06 (170 MB/s) - ‘velprof-space.csv’ saved [75000440/75000440]\n",
            "\n"
          ]
        }
      ],
      "source": [
        "!wget https://raw.githubusercontent.com/paolodeangelis/Sistemi_a_combustione/main/data/lab2/velprof-Re.csv\n",
        "!wget https://raw.githubusercontent.com/paolodeangelis/Sistemi_a_combustione/main/data/lab2/velprof-data.csv\n",
        "!wget https://raw.githubusercontent.com/paolodeangelis/Sistemi_a_combustione/main/data/lab2/velprof-space.csv"
      ]
    },
    {
      "cell_type": "markdown",
      "metadata": {
        "id": "dUxOmbg2zSjx"
      },
      "source": [
        "### Read Reynolds (the labels for our model)\n",
        "\n",
        "We'll start by reading the Reynolds data, which serves as the labels for our model."
      ]
    },
    {
      "cell_type": "code",
      "execution_count": 5,
      "metadata": {
        "colab": {
          "base_uri": "https://localhost:8080/",
          "height": 206
        },
        "id": "uq00UhcGwRiW",
        "outputId": "dd45681f-535d-4a70-a2b0-89bbddfd69d7"
      },
      "outputs": [
        {
          "output_type": "execute_result",
          "data": {
            "text/plain": [
              "          Re(-)\n",
              "0    2950.27502\n",
              "1  194866.84400\n",
              "2  104938.95600\n",
              "3  227933.60600\n",
              "4    9078.88202"
            ],
            "text/html": [
              "\n",
              "  <div id=\"df-97057277-31e9-4d71-9b94-5790ee85df26\" class=\"colab-df-container\">\n",
              "    <div>\n",
              "<style scoped>\n",
              "    .dataframe tbody tr th:only-of-type {\n",
              "        vertical-align: middle;\n",
              "    }\n",
              "\n",
              "    .dataframe tbody tr th {\n",
              "        vertical-align: top;\n",
              "    }\n",
              "\n",
              "    .dataframe thead th {\n",
              "        text-align: right;\n",
              "    }\n",
              "</style>\n",
              "<table border=\"1\" class=\"dataframe\">\n",
              "  <thead>\n",
              "    <tr style=\"text-align: right;\">\n",
              "      <th></th>\n",
              "      <th>Re(-)</th>\n",
              "    </tr>\n",
              "  </thead>\n",
              "  <tbody>\n",
              "    <tr>\n",
              "      <th>0</th>\n",
              "      <td>2950.27502</td>\n",
              "    </tr>\n",
              "    <tr>\n",
              "      <th>1</th>\n",
              "      <td>194866.84400</td>\n",
              "    </tr>\n",
              "    <tr>\n",
              "      <th>2</th>\n",
              "      <td>104938.95600</td>\n",
              "    </tr>\n",
              "    <tr>\n",
              "      <th>3</th>\n",
              "      <td>227933.60600</td>\n",
              "    </tr>\n",
              "    <tr>\n",
              "      <th>4</th>\n",
              "      <td>9078.88202</td>\n",
              "    </tr>\n",
              "  </tbody>\n",
              "</table>\n",
              "</div>\n",
              "    <div class=\"colab-df-buttons\">\n",
              "\n",
              "  <div class=\"colab-df-container\">\n",
              "    <button class=\"colab-df-convert\" onclick=\"convertToInteractive('df-97057277-31e9-4d71-9b94-5790ee85df26')\"\n",
              "            title=\"Convert this dataframe to an interactive table.\"\n",
              "            style=\"display:none;\">\n",
              "\n",
              "  <svg xmlns=\"http://www.w3.org/2000/svg\" height=\"24px\" viewBox=\"0 -960 960 960\">\n",
              "    <path d=\"M120-120v-720h720v720H120Zm60-500h600v-160H180v160Zm220 220h160v-160H400v160Zm0 220h160v-160H400v160ZM180-400h160v-160H180v160Zm440 0h160v-160H620v160ZM180-180h160v-160H180v160Zm440 0h160v-160H620v160Z\"/>\n",
              "  </svg>\n",
              "    </button>\n",
              "\n",
              "  <style>\n",
              "    .colab-df-container {\n",
              "      display:flex;\n",
              "      gap: 12px;\n",
              "    }\n",
              "\n",
              "    .colab-df-convert {\n",
              "      background-color: #E8F0FE;\n",
              "      border: none;\n",
              "      border-radius: 50%;\n",
              "      cursor: pointer;\n",
              "      display: none;\n",
              "      fill: #1967D2;\n",
              "      height: 32px;\n",
              "      padding: 0 0 0 0;\n",
              "      width: 32px;\n",
              "    }\n",
              "\n",
              "    .colab-df-convert:hover {\n",
              "      background-color: #E2EBFA;\n",
              "      box-shadow: 0px 1px 2px rgba(60, 64, 67, 0.3), 0px 1px 3px 1px rgba(60, 64, 67, 0.15);\n",
              "      fill: #174EA6;\n",
              "    }\n",
              "\n",
              "    .colab-df-buttons div {\n",
              "      margin-bottom: 4px;\n",
              "    }\n",
              "\n",
              "    [theme=dark] .colab-df-convert {\n",
              "      background-color: #3B4455;\n",
              "      fill: #D2E3FC;\n",
              "    }\n",
              "\n",
              "    [theme=dark] .colab-df-convert:hover {\n",
              "      background-color: #434B5C;\n",
              "      box-shadow: 0px 1px 3px 1px rgba(0, 0, 0, 0.15);\n",
              "      filter: drop-shadow(0px 1px 2px rgba(0, 0, 0, 0.3));\n",
              "      fill: #FFFFFF;\n",
              "    }\n",
              "  </style>\n",
              "\n",
              "    <script>\n",
              "      const buttonEl =\n",
              "        document.querySelector('#df-97057277-31e9-4d71-9b94-5790ee85df26 button.colab-df-convert');\n",
              "      buttonEl.style.display =\n",
              "        google.colab.kernel.accessAllowed ? 'block' : 'none';\n",
              "\n",
              "      async function convertToInteractive(key) {\n",
              "        const element = document.querySelector('#df-97057277-31e9-4d71-9b94-5790ee85df26');\n",
              "        const dataTable =\n",
              "          await google.colab.kernel.invokeFunction('convertToInteractive',\n",
              "                                                    [key], {});\n",
              "        if (!dataTable) return;\n",
              "\n",
              "        const docLinkHtml = 'Like what you see? Visit the ' +\n",
              "          '<a target=\"_blank\" href=https://colab.research.google.com/notebooks/data_table.ipynb>data table notebook</a>'\n",
              "          + ' to learn more about interactive tables.';\n",
              "        element.innerHTML = '';\n",
              "        dataTable['output_type'] = 'display_data';\n",
              "        await google.colab.output.renderOutput(dataTable, element);\n",
              "        const docLink = document.createElement('div');\n",
              "        docLink.innerHTML = docLinkHtml;\n",
              "        element.appendChild(docLink);\n",
              "      }\n",
              "    </script>\n",
              "  </div>\n",
              "\n",
              "\n",
              "<div id=\"df-563e65b8-66a2-470e-8ce6-32d18a7eb57e\">\n",
              "  <button class=\"colab-df-quickchart\" onclick=\"quickchart('df-563e65b8-66a2-470e-8ce6-32d18a7eb57e')\"\n",
              "            title=\"Suggest charts.\"\n",
              "            style=\"display:none;\">\n",
              "\n",
              "<svg xmlns=\"http://www.w3.org/2000/svg\" height=\"24px\"viewBox=\"0 0 24 24\"\n",
              "     width=\"24px\">\n",
              "    <g>\n",
              "        <path d=\"M19 3H5c-1.1 0-2 .9-2 2v14c0 1.1.9 2 2 2h14c1.1 0 2-.9 2-2V5c0-1.1-.9-2-2-2zM9 17H7v-7h2v7zm4 0h-2V7h2v10zm4 0h-2v-4h2v4z\"/>\n",
              "    </g>\n",
              "</svg>\n",
              "  </button>\n",
              "\n",
              "<style>\n",
              "  .colab-df-quickchart {\n",
              "      --bg-color: #E8F0FE;\n",
              "      --fill-color: #1967D2;\n",
              "      --hover-bg-color: #E2EBFA;\n",
              "      --hover-fill-color: #174EA6;\n",
              "      --disabled-fill-color: #AAA;\n",
              "      --disabled-bg-color: #DDD;\n",
              "  }\n",
              "\n",
              "  [theme=dark] .colab-df-quickchart {\n",
              "      --bg-color: #3B4455;\n",
              "      --fill-color: #D2E3FC;\n",
              "      --hover-bg-color: #434B5C;\n",
              "      --hover-fill-color: #FFFFFF;\n",
              "      --disabled-bg-color: #3B4455;\n",
              "      --disabled-fill-color: #666;\n",
              "  }\n",
              "\n",
              "  .colab-df-quickchart {\n",
              "    background-color: var(--bg-color);\n",
              "    border: none;\n",
              "    border-radius: 50%;\n",
              "    cursor: pointer;\n",
              "    display: none;\n",
              "    fill: var(--fill-color);\n",
              "    height: 32px;\n",
              "    padding: 0;\n",
              "    width: 32px;\n",
              "  }\n",
              "\n",
              "  .colab-df-quickchart:hover {\n",
              "    background-color: var(--hover-bg-color);\n",
              "    box-shadow: 0 1px 2px rgba(60, 64, 67, 0.3), 0 1px 3px 1px rgba(60, 64, 67, 0.15);\n",
              "    fill: var(--button-hover-fill-color);\n",
              "  }\n",
              "\n",
              "  .colab-df-quickchart-complete:disabled,\n",
              "  .colab-df-quickchart-complete:disabled:hover {\n",
              "    background-color: var(--disabled-bg-color);\n",
              "    fill: var(--disabled-fill-color);\n",
              "    box-shadow: none;\n",
              "  }\n",
              "\n",
              "  .colab-df-spinner {\n",
              "    border: 2px solid var(--fill-color);\n",
              "    border-color: transparent;\n",
              "    border-bottom-color: var(--fill-color);\n",
              "    animation:\n",
              "      spin 1s steps(1) infinite;\n",
              "  }\n",
              "\n",
              "  @keyframes spin {\n",
              "    0% {\n",
              "      border-color: transparent;\n",
              "      border-bottom-color: var(--fill-color);\n",
              "      border-left-color: var(--fill-color);\n",
              "    }\n",
              "    20% {\n",
              "      border-color: transparent;\n",
              "      border-left-color: var(--fill-color);\n",
              "      border-top-color: var(--fill-color);\n",
              "    }\n",
              "    30% {\n",
              "      border-color: transparent;\n",
              "      border-left-color: var(--fill-color);\n",
              "      border-top-color: var(--fill-color);\n",
              "      border-right-color: var(--fill-color);\n",
              "    }\n",
              "    40% {\n",
              "      border-color: transparent;\n",
              "      border-right-color: var(--fill-color);\n",
              "      border-top-color: var(--fill-color);\n",
              "    }\n",
              "    60% {\n",
              "      border-color: transparent;\n",
              "      border-right-color: var(--fill-color);\n",
              "    }\n",
              "    80% {\n",
              "      border-color: transparent;\n",
              "      border-right-color: var(--fill-color);\n",
              "      border-bottom-color: var(--fill-color);\n",
              "    }\n",
              "    90% {\n",
              "      border-color: transparent;\n",
              "      border-bottom-color: var(--fill-color);\n",
              "    }\n",
              "  }\n",
              "</style>\n",
              "\n",
              "  <script>\n",
              "    async function quickchart(key) {\n",
              "      const quickchartButtonEl =\n",
              "        document.querySelector('#' + key + ' button');\n",
              "      quickchartButtonEl.disabled = true;  // To prevent multiple clicks.\n",
              "      quickchartButtonEl.classList.add('colab-df-spinner');\n",
              "      try {\n",
              "        const charts = await google.colab.kernel.invokeFunction(\n",
              "            'suggestCharts', [key], {});\n",
              "      } catch (error) {\n",
              "        console.error('Error during call to suggestCharts:', error);\n",
              "      }\n",
              "      quickchartButtonEl.classList.remove('colab-df-spinner');\n",
              "      quickchartButtonEl.classList.add('colab-df-quickchart-complete');\n",
              "    }\n",
              "    (() => {\n",
              "      let quickchartButtonEl =\n",
              "        document.querySelector('#df-563e65b8-66a2-470e-8ce6-32d18a7eb57e button');\n",
              "      quickchartButtonEl.style.display =\n",
              "        google.colab.kernel.accessAllowed ? 'block' : 'none';\n",
              "    })();\n",
              "  </script>\n",
              "</div>\n",
              "    </div>\n",
              "  </div>\n"
            ]
          },
          "metadata": {},
          "execution_count": 5
        }
      ],
      "source": [
        "data_Re = pd.read_csv(\"velprof-Re.csv\", index_col=False)\n",
        "data_Re.head()"
      ]
    },
    {
      "cell_type": "markdown",
      "metadata": {
        "id": "wea1geIGzWwx"
      },
      "source": [
        "### Read the data file (the features for our model)\n",
        "\n",
        "Next, we'll read the data file containing the features for our model."
      ]
    },
    {
      "cell_type": "code",
      "execution_count": 6,
      "metadata": {
        "colab": {
          "base_uri": "https://localhost:8080/",
          "height": 273
        },
        "id": "rhRwBsmCxuWG",
        "outputId": "70c4362d-8985-4e6c-d872-1dbfa3563b8d"
      },
      "outputs": [
        {
          "output_type": "execute_result",
          "data": {
            "text/plain": [
              "    mu(Pas)   rho(kg/m3)       L(m)      R(m)  vel[0](m/s)  vel[1](m/s)  \\\n",
              "0  0.000630   996.232835  69.244194  0.408814     0.004406     0.004405   \n",
              "1  0.001484  1117.370480  94.471272  0.352740     0.429010     0.428980   \n",
              "2  0.000372  1039.442220  89.215592  0.248828     0.089278     0.089271   \n",
              "3  0.000189  1045.145970  20.190082  0.086718     0.277383     0.277364   \n",
              "4  0.002309  1086.237000  17.299562  0.136982     0.090704     0.090693   \n",
              "\n",
              "   vel[2](m/s)  vel[3](m/s)  vel[4](m/s)  vel[5](m/s)  ...  vel[40](m/s)  \\\n",
              "0     0.004399     0.004391     0.004379     0.004363  ...      0.001583   \n",
              "1     0.428889     0.428737     0.428525     0.428251  ...      0.356270   \n",
              "2     0.089251     0.089217     0.089168     0.089106  ...      0.072942   \n",
              "3     0.277306     0.277210     0.277076     0.276902  ...      0.231210   \n",
              "4     0.090661     0.090606     0.090530     0.090432  ...      0.066148   \n",
              "\n",
              "   vel[41](m/s)  vel[42](m/s)  vel[43](m/s)  vel[44](m/s)  vel[45](m/s)  \\\n",
              "0      0.001433      0.001279      0.001119      0.000954      0.000782   \n",
              "1      0.349899      0.342721      0.334513      0.324943      0.313467   \n",
              "2      0.071524      0.069930      0.068110      0.065993      0.063462   \n",
              "3      0.227158      0.222590      0.217365      0.211269      0.203954   \n",
              "4      0.064151      0.061931      0.059432      0.056571      0.053219   \n",
              "\n",
              "   vel[46](m/s)  vel[47](m/s)  vel[48](m/s)  vel[49](m/s)  \n",
              "0      0.000604      0.000418      0.000221           0.0  \n",
              "1      0.299106      0.279764      0.249233           0.0  \n",
              "2      0.060306      0.056076      0.049453           0.0  \n",
              "3      0.194793      0.182441      0.162907           0.0  \n",
              "4      0.049142      0.043865      0.036045           0.0  \n",
              "\n",
              "[5 rows x 54 columns]"
            ],
            "text/html": [
              "\n",
              "  <div id=\"df-bcdeae90-021d-4f39-a7da-a1716bc97330\" class=\"colab-df-container\">\n",
              "    <div>\n",
              "<style scoped>\n",
              "    .dataframe tbody tr th:only-of-type {\n",
              "        vertical-align: middle;\n",
              "    }\n",
              "\n",
              "    .dataframe tbody tr th {\n",
              "        vertical-align: top;\n",
              "    }\n",
              "\n",
              "    .dataframe thead th {\n",
              "        text-align: right;\n",
              "    }\n",
              "</style>\n",
              "<table border=\"1\" class=\"dataframe\">\n",
              "  <thead>\n",
              "    <tr style=\"text-align: right;\">\n",
              "      <th></th>\n",
              "      <th>mu(Pas)</th>\n",
              "      <th>rho(kg/m3)</th>\n",
              "      <th>L(m)</th>\n",
              "      <th>R(m)</th>\n",
              "      <th>vel[0](m/s)</th>\n",
              "      <th>vel[1](m/s)</th>\n",
              "      <th>vel[2](m/s)</th>\n",
              "      <th>vel[3](m/s)</th>\n",
              "      <th>vel[4](m/s)</th>\n",
              "      <th>vel[5](m/s)</th>\n",
              "      <th>...</th>\n",
              "      <th>vel[40](m/s)</th>\n",
              "      <th>vel[41](m/s)</th>\n",
              "      <th>vel[42](m/s)</th>\n",
              "      <th>vel[43](m/s)</th>\n",
              "      <th>vel[44](m/s)</th>\n",
              "      <th>vel[45](m/s)</th>\n",
              "      <th>vel[46](m/s)</th>\n",
              "      <th>vel[47](m/s)</th>\n",
              "      <th>vel[48](m/s)</th>\n",
              "      <th>vel[49](m/s)</th>\n",
              "    </tr>\n",
              "  </thead>\n",
              "  <tbody>\n",
              "    <tr>\n",
              "      <th>0</th>\n",
              "      <td>0.000630</td>\n",
              "      <td>996.232835</td>\n",
              "      <td>69.244194</td>\n",
              "      <td>0.408814</td>\n",
              "      <td>0.004406</td>\n",
              "      <td>0.004405</td>\n",
              "      <td>0.004399</td>\n",
              "      <td>0.004391</td>\n",
              "      <td>0.004379</td>\n",
              "      <td>0.004363</td>\n",
              "      <td>...</td>\n",
              "      <td>0.001583</td>\n",
              "      <td>0.001433</td>\n",
              "      <td>0.001279</td>\n",
              "      <td>0.001119</td>\n",
              "      <td>0.000954</td>\n",
              "      <td>0.000782</td>\n",
              "      <td>0.000604</td>\n",
              "      <td>0.000418</td>\n",
              "      <td>0.000221</td>\n",
              "      <td>0.0</td>\n",
              "    </tr>\n",
              "    <tr>\n",
              "      <th>1</th>\n",
              "      <td>0.001484</td>\n",
              "      <td>1117.370480</td>\n",
              "      <td>94.471272</td>\n",
              "      <td>0.352740</td>\n",
              "      <td>0.429010</td>\n",
              "      <td>0.428980</td>\n",
              "      <td>0.428889</td>\n",
              "      <td>0.428737</td>\n",
              "      <td>0.428525</td>\n",
              "      <td>0.428251</td>\n",
              "      <td>...</td>\n",
              "      <td>0.356270</td>\n",
              "      <td>0.349899</td>\n",
              "      <td>0.342721</td>\n",
              "      <td>0.334513</td>\n",
              "      <td>0.324943</td>\n",
              "      <td>0.313467</td>\n",
              "      <td>0.299106</td>\n",
              "      <td>0.279764</td>\n",
              "      <td>0.249233</td>\n",
              "      <td>0.0</td>\n",
              "    </tr>\n",
              "    <tr>\n",
              "      <th>2</th>\n",
              "      <td>0.000372</td>\n",
              "      <td>1039.442220</td>\n",
              "      <td>89.215592</td>\n",
              "      <td>0.248828</td>\n",
              "      <td>0.089278</td>\n",
              "      <td>0.089271</td>\n",
              "      <td>0.089251</td>\n",
              "      <td>0.089217</td>\n",
              "      <td>0.089168</td>\n",
              "      <td>0.089106</td>\n",
              "      <td>...</td>\n",
              "      <td>0.072942</td>\n",
              "      <td>0.071524</td>\n",
              "      <td>0.069930</td>\n",
              "      <td>0.068110</td>\n",
              "      <td>0.065993</td>\n",
              "      <td>0.063462</td>\n",
              "      <td>0.060306</td>\n",
              "      <td>0.056076</td>\n",
              "      <td>0.049453</td>\n",
              "      <td>0.0</td>\n",
              "    </tr>\n",
              "    <tr>\n",
              "      <th>3</th>\n",
              "      <td>0.000189</td>\n",
              "      <td>1045.145970</td>\n",
              "      <td>20.190082</td>\n",
              "      <td>0.086718</td>\n",
              "      <td>0.277383</td>\n",
              "      <td>0.277364</td>\n",
              "      <td>0.277306</td>\n",
              "      <td>0.277210</td>\n",
              "      <td>0.277076</td>\n",
              "      <td>0.276902</td>\n",
              "      <td>...</td>\n",
              "      <td>0.231210</td>\n",
              "      <td>0.227158</td>\n",
              "      <td>0.222590</td>\n",
              "      <td>0.217365</td>\n",
              "      <td>0.211269</td>\n",
              "      <td>0.203954</td>\n",
              "      <td>0.194793</td>\n",
              "      <td>0.182441</td>\n",
              "      <td>0.162907</td>\n",
              "      <td>0.0</td>\n",
              "    </tr>\n",
              "    <tr>\n",
              "      <th>4</th>\n",
              "      <td>0.002309</td>\n",
              "      <td>1086.237000</td>\n",
              "      <td>17.299562</td>\n",
              "      <td>0.136982</td>\n",
              "      <td>0.090704</td>\n",
              "      <td>0.090693</td>\n",
              "      <td>0.090661</td>\n",
              "      <td>0.090606</td>\n",
              "      <td>0.090530</td>\n",
              "      <td>0.090432</td>\n",
              "      <td>...</td>\n",
              "      <td>0.066148</td>\n",
              "      <td>0.064151</td>\n",
              "      <td>0.061931</td>\n",
              "      <td>0.059432</td>\n",
              "      <td>0.056571</td>\n",
              "      <td>0.053219</td>\n",
              "      <td>0.049142</td>\n",
              "      <td>0.043865</td>\n",
              "      <td>0.036045</td>\n",
              "      <td>0.0</td>\n",
              "    </tr>\n",
              "  </tbody>\n",
              "</table>\n",
              "<p>5 rows × 54 columns</p>\n",
              "</div>\n",
              "    <div class=\"colab-df-buttons\">\n",
              "\n",
              "  <div class=\"colab-df-container\">\n",
              "    <button class=\"colab-df-convert\" onclick=\"convertToInteractive('df-bcdeae90-021d-4f39-a7da-a1716bc97330')\"\n",
              "            title=\"Convert this dataframe to an interactive table.\"\n",
              "            style=\"display:none;\">\n",
              "\n",
              "  <svg xmlns=\"http://www.w3.org/2000/svg\" height=\"24px\" viewBox=\"0 -960 960 960\">\n",
              "    <path d=\"M120-120v-720h720v720H120Zm60-500h600v-160H180v160Zm220 220h160v-160H400v160Zm0 220h160v-160H400v160ZM180-400h160v-160H180v160Zm440 0h160v-160H620v160ZM180-180h160v-160H180v160Zm440 0h160v-160H620v160Z\"/>\n",
              "  </svg>\n",
              "    </button>\n",
              "\n",
              "  <style>\n",
              "    .colab-df-container {\n",
              "      display:flex;\n",
              "      gap: 12px;\n",
              "    }\n",
              "\n",
              "    .colab-df-convert {\n",
              "      background-color: #E8F0FE;\n",
              "      border: none;\n",
              "      border-radius: 50%;\n",
              "      cursor: pointer;\n",
              "      display: none;\n",
              "      fill: #1967D2;\n",
              "      height: 32px;\n",
              "      padding: 0 0 0 0;\n",
              "      width: 32px;\n",
              "    }\n",
              "\n",
              "    .colab-df-convert:hover {\n",
              "      background-color: #E2EBFA;\n",
              "      box-shadow: 0px 1px 2px rgba(60, 64, 67, 0.3), 0px 1px 3px 1px rgba(60, 64, 67, 0.15);\n",
              "      fill: #174EA6;\n",
              "    }\n",
              "\n",
              "    .colab-df-buttons div {\n",
              "      margin-bottom: 4px;\n",
              "    }\n",
              "\n",
              "    [theme=dark] .colab-df-convert {\n",
              "      background-color: #3B4455;\n",
              "      fill: #D2E3FC;\n",
              "    }\n",
              "\n",
              "    [theme=dark] .colab-df-convert:hover {\n",
              "      background-color: #434B5C;\n",
              "      box-shadow: 0px 1px 3px 1px rgba(0, 0, 0, 0.15);\n",
              "      filter: drop-shadow(0px 1px 2px rgba(0, 0, 0, 0.3));\n",
              "      fill: #FFFFFF;\n",
              "    }\n",
              "  </style>\n",
              "\n",
              "    <script>\n",
              "      const buttonEl =\n",
              "        document.querySelector('#df-bcdeae90-021d-4f39-a7da-a1716bc97330 button.colab-df-convert');\n",
              "      buttonEl.style.display =\n",
              "        google.colab.kernel.accessAllowed ? 'block' : 'none';\n",
              "\n",
              "      async function convertToInteractive(key) {\n",
              "        const element = document.querySelector('#df-bcdeae90-021d-4f39-a7da-a1716bc97330');\n",
              "        const dataTable =\n",
              "          await google.colab.kernel.invokeFunction('convertToInteractive',\n",
              "                                                    [key], {});\n",
              "        if (!dataTable) return;\n",
              "\n",
              "        const docLinkHtml = 'Like what you see? Visit the ' +\n",
              "          '<a target=\"_blank\" href=https://colab.research.google.com/notebooks/data_table.ipynb>data table notebook</a>'\n",
              "          + ' to learn more about interactive tables.';\n",
              "        element.innerHTML = '';\n",
              "        dataTable['output_type'] = 'display_data';\n",
              "        await google.colab.output.renderOutput(dataTable, element);\n",
              "        const docLink = document.createElement('div');\n",
              "        docLink.innerHTML = docLinkHtml;\n",
              "        element.appendChild(docLink);\n",
              "      }\n",
              "    </script>\n",
              "  </div>\n",
              "\n",
              "\n",
              "<div id=\"df-530d393f-3ed6-455f-bb3f-fa5a3edc3b7c\">\n",
              "  <button class=\"colab-df-quickchart\" onclick=\"quickchart('df-530d393f-3ed6-455f-bb3f-fa5a3edc3b7c')\"\n",
              "            title=\"Suggest charts.\"\n",
              "            style=\"display:none;\">\n",
              "\n",
              "<svg xmlns=\"http://www.w3.org/2000/svg\" height=\"24px\"viewBox=\"0 0 24 24\"\n",
              "     width=\"24px\">\n",
              "    <g>\n",
              "        <path d=\"M19 3H5c-1.1 0-2 .9-2 2v14c0 1.1.9 2 2 2h14c1.1 0 2-.9 2-2V5c0-1.1-.9-2-2-2zM9 17H7v-7h2v7zm4 0h-2V7h2v10zm4 0h-2v-4h2v4z\"/>\n",
              "    </g>\n",
              "</svg>\n",
              "  </button>\n",
              "\n",
              "<style>\n",
              "  .colab-df-quickchart {\n",
              "      --bg-color: #E8F0FE;\n",
              "      --fill-color: #1967D2;\n",
              "      --hover-bg-color: #E2EBFA;\n",
              "      --hover-fill-color: #174EA6;\n",
              "      --disabled-fill-color: #AAA;\n",
              "      --disabled-bg-color: #DDD;\n",
              "  }\n",
              "\n",
              "  [theme=dark] .colab-df-quickchart {\n",
              "      --bg-color: #3B4455;\n",
              "      --fill-color: #D2E3FC;\n",
              "      --hover-bg-color: #434B5C;\n",
              "      --hover-fill-color: #FFFFFF;\n",
              "      --disabled-bg-color: #3B4455;\n",
              "      --disabled-fill-color: #666;\n",
              "  }\n",
              "\n",
              "  .colab-df-quickchart {\n",
              "    background-color: var(--bg-color);\n",
              "    border: none;\n",
              "    border-radius: 50%;\n",
              "    cursor: pointer;\n",
              "    display: none;\n",
              "    fill: var(--fill-color);\n",
              "    height: 32px;\n",
              "    padding: 0;\n",
              "    width: 32px;\n",
              "  }\n",
              "\n",
              "  .colab-df-quickchart:hover {\n",
              "    background-color: var(--hover-bg-color);\n",
              "    box-shadow: 0 1px 2px rgba(60, 64, 67, 0.3), 0 1px 3px 1px rgba(60, 64, 67, 0.15);\n",
              "    fill: var(--button-hover-fill-color);\n",
              "  }\n",
              "\n",
              "  .colab-df-quickchart-complete:disabled,\n",
              "  .colab-df-quickchart-complete:disabled:hover {\n",
              "    background-color: var(--disabled-bg-color);\n",
              "    fill: var(--disabled-fill-color);\n",
              "    box-shadow: none;\n",
              "  }\n",
              "\n",
              "  .colab-df-spinner {\n",
              "    border: 2px solid var(--fill-color);\n",
              "    border-color: transparent;\n",
              "    border-bottom-color: var(--fill-color);\n",
              "    animation:\n",
              "      spin 1s steps(1) infinite;\n",
              "  }\n",
              "\n",
              "  @keyframes spin {\n",
              "    0% {\n",
              "      border-color: transparent;\n",
              "      border-bottom-color: var(--fill-color);\n",
              "      border-left-color: var(--fill-color);\n",
              "    }\n",
              "    20% {\n",
              "      border-color: transparent;\n",
              "      border-left-color: var(--fill-color);\n",
              "      border-top-color: var(--fill-color);\n",
              "    }\n",
              "    30% {\n",
              "      border-color: transparent;\n",
              "      border-left-color: var(--fill-color);\n",
              "      border-top-color: var(--fill-color);\n",
              "      border-right-color: var(--fill-color);\n",
              "    }\n",
              "    40% {\n",
              "      border-color: transparent;\n",
              "      border-right-color: var(--fill-color);\n",
              "      border-top-color: var(--fill-color);\n",
              "    }\n",
              "    60% {\n",
              "      border-color: transparent;\n",
              "      border-right-color: var(--fill-color);\n",
              "    }\n",
              "    80% {\n",
              "      border-color: transparent;\n",
              "      border-right-color: var(--fill-color);\n",
              "      border-bottom-color: var(--fill-color);\n",
              "    }\n",
              "    90% {\n",
              "      border-color: transparent;\n",
              "      border-bottom-color: var(--fill-color);\n",
              "    }\n",
              "  }\n",
              "</style>\n",
              "\n",
              "  <script>\n",
              "    async function quickchart(key) {\n",
              "      const quickchartButtonEl =\n",
              "        document.querySelector('#' + key + ' button');\n",
              "      quickchartButtonEl.disabled = true;  // To prevent multiple clicks.\n",
              "      quickchartButtonEl.classList.add('colab-df-spinner');\n",
              "      try {\n",
              "        const charts = await google.colab.kernel.invokeFunction(\n",
              "            'suggestCharts', [key], {});\n",
              "      } catch (error) {\n",
              "        console.error('Error during call to suggestCharts:', error);\n",
              "      }\n",
              "      quickchartButtonEl.classList.remove('colab-df-spinner');\n",
              "      quickchartButtonEl.classList.add('colab-df-quickchart-complete');\n",
              "    }\n",
              "    (() => {\n",
              "      let quickchartButtonEl =\n",
              "        document.querySelector('#df-530d393f-3ed6-455f-bb3f-fa5a3edc3b7c button');\n",
              "      quickchartButtonEl.style.display =\n",
              "        google.colab.kernel.accessAllowed ? 'block' : 'none';\n",
              "    })();\n",
              "  </script>\n",
              "</div>\n",
              "    </div>\n",
              "  </div>\n"
            ]
          },
          "metadata": {},
          "execution_count": 6
        }
      ],
      "source": [
        "data_v = pd.read_csv(\"velprof-data.csv\", index_col=False)\n",
        "data_v.head()"
      ]
    },
    {
      "cell_type": "markdown",
      "metadata": {
        "id": "RxvKEMQ4AIU2"
      },
      "source": [
        "Let's also read another data file that contains information about space discretization, which, in our analogy, represents the probe's position."
      ]
    },
    {
      "cell_type": "code",
      "execution_count": 7,
      "metadata": {
        "colab": {
          "base_uri": "https://localhost:8080/",
          "height": 273
        },
        "id": "GMg5TsrxNexm",
        "outputId": "91abdd5f-849f-4d9e-f3a4-80b4d6d520e1"
      },
      "outputs": [
        {
          "output_type": "execute_result",
          "data": {
            "text/plain": [
              "   r[0](m)   r[1](m)   r[2](m)   r[3](m)   r[4](m)   r[5](m)   r[6](m)  \\\n",
              "0      0.0  0.008343  0.016686  0.025029  0.033373  0.041716  0.050059   \n",
              "1      0.0  0.007199  0.014398  0.021596  0.028795  0.035994  0.043193   \n",
              "2      0.0  0.005078  0.010156  0.015234  0.020312  0.025391  0.030469   \n",
              "3      0.0  0.001770  0.003539  0.005309  0.007079  0.008849  0.010618   \n",
              "4      0.0  0.002796  0.005591  0.008387  0.011182  0.013978  0.016773   \n",
              "\n",
              "    r[7](m)   r[8](m)   r[9](m)  ...  r[40](m)  r[41](m)  r[42](m)  r[43](m)  \\\n",
              "0  0.058402  0.066745  0.075088  ...  0.333726  0.342069  0.350412  0.358756   \n",
              "1  0.050391  0.057590  0.064789  ...  0.287951  0.295150  0.302349  0.309548   \n",
              "2  0.035547  0.040625  0.045703  ...  0.203125  0.208203  0.213281  0.218359   \n",
              "3  0.012388  0.014158  0.015928  ...  0.070790  0.072560  0.074329  0.076099   \n",
              "4  0.019569  0.022364  0.025160  ...  0.111822  0.114618  0.117414  0.120209   \n",
              "\n",
              "   r[44](m)  r[45](m)  r[46](m)  r[47](m)  r[48](m)  r[49](m)  \n",
              "0  0.367099  0.375442  0.383785  0.392128  0.400471  0.408814  \n",
              "1  0.316746  0.323945  0.331144  0.338343  0.345541  0.352740  \n",
              "2  0.223437  0.228515  0.233593  0.238672  0.243750  0.248828  \n",
              "3  0.077869  0.079639  0.081408  0.083178  0.084948  0.086718  \n",
              "4  0.123005  0.125800  0.128596  0.131391  0.134187  0.136982  \n",
              "\n",
              "[5 rows x 50 columns]"
            ],
            "text/html": [
              "\n",
              "  <div id=\"df-069de74b-afda-40b1-9e24-39224ada4f27\" class=\"colab-df-container\">\n",
              "    <div>\n",
              "<style scoped>\n",
              "    .dataframe tbody tr th:only-of-type {\n",
              "        vertical-align: middle;\n",
              "    }\n",
              "\n",
              "    .dataframe tbody tr th {\n",
              "        vertical-align: top;\n",
              "    }\n",
              "\n",
              "    .dataframe thead th {\n",
              "        text-align: right;\n",
              "    }\n",
              "</style>\n",
              "<table border=\"1\" class=\"dataframe\">\n",
              "  <thead>\n",
              "    <tr style=\"text-align: right;\">\n",
              "      <th></th>\n",
              "      <th>r[0](m)</th>\n",
              "      <th>r[1](m)</th>\n",
              "      <th>r[2](m)</th>\n",
              "      <th>r[3](m)</th>\n",
              "      <th>r[4](m)</th>\n",
              "      <th>r[5](m)</th>\n",
              "      <th>r[6](m)</th>\n",
              "      <th>r[7](m)</th>\n",
              "      <th>r[8](m)</th>\n",
              "      <th>r[9](m)</th>\n",
              "      <th>...</th>\n",
              "      <th>r[40](m)</th>\n",
              "      <th>r[41](m)</th>\n",
              "      <th>r[42](m)</th>\n",
              "      <th>r[43](m)</th>\n",
              "      <th>r[44](m)</th>\n",
              "      <th>r[45](m)</th>\n",
              "      <th>r[46](m)</th>\n",
              "      <th>r[47](m)</th>\n",
              "      <th>r[48](m)</th>\n",
              "      <th>r[49](m)</th>\n",
              "    </tr>\n",
              "  </thead>\n",
              "  <tbody>\n",
              "    <tr>\n",
              "      <th>0</th>\n",
              "      <td>0.0</td>\n",
              "      <td>0.008343</td>\n",
              "      <td>0.016686</td>\n",
              "      <td>0.025029</td>\n",
              "      <td>0.033373</td>\n",
              "      <td>0.041716</td>\n",
              "      <td>0.050059</td>\n",
              "      <td>0.058402</td>\n",
              "      <td>0.066745</td>\n",
              "      <td>0.075088</td>\n",
              "      <td>...</td>\n",
              "      <td>0.333726</td>\n",
              "      <td>0.342069</td>\n",
              "      <td>0.350412</td>\n",
              "      <td>0.358756</td>\n",
              "      <td>0.367099</td>\n",
              "      <td>0.375442</td>\n",
              "      <td>0.383785</td>\n",
              "      <td>0.392128</td>\n",
              "      <td>0.400471</td>\n",
              "      <td>0.408814</td>\n",
              "    </tr>\n",
              "    <tr>\n",
              "      <th>1</th>\n",
              "      <td>0.0</td>\n",
              "      <td>0.007199</td>\n",
              "      <td>0.014398</td>\n",
              "      <td>0.021596</td>\n",
              "      <td>0.028795</td>\n",
              "      <td>0.035994</td>\n",
              "      <td>0.043193</td>\n",
              "      <td>0.050391</td>\n",
              "      <td>0.057590</td>\n",
              "      <td>0.064789</td>\n",
              "      <td>...</td>\n",
              "      <td>0.287951</td>\n",
              "      <td>0.295150</td>\n",
              "      <td>0.302349</td>\n",
              "      <td>0.309548</td>\n",
              "      <td>0.316746</td>\n",
              "      <td>0.323945</td>\n",
              "      <td>0.331144</td>\n",
              "      <td>0.338343</td>\n",
              "      <td>0.345541</td>\n",
              "      <td>0.352740</td>\n",
              "    </tr>\n",
              "    <tr>\n",
              "      <th>2</th>\n",
              "      <td>0.0</td>\n",
              "      <td>0.005078</td>\n",
              "      <td>0.010156</td>\n",
              "      <td>0.015234</td>\n",
              "      <td>0.020312</td>\n",
              "      <td>0.025391</td>\n",
              "      <td>0.030469</td>\n",
              "      <td>0.035547</td>\n",
              "      <td>0.040625</td>\n",
              "      <td>0.045703</td>\n",
              "      <td>...</td>\n",
              "      <td>0.203125</td>\n",
              "      <td>0.208203</td>\n",
              "      <td>0.213281</td>\n",
              "      <td>0.218359</td>\n",
              "      <td>0.223437</td>\n",
              "      <td>0.228515</td>\n",
              "      <td>0.233593</td>\n",
              "      <td>0.238672</td>\n",
              "      <td>0.243750</td>\n",
              "      <td>0.248828</td>\n",
              "    </tr>\n",
              "    <tr>\n",
              "      <th>3</th>\n",
              "      <td>0.0</td>\n",
              "      <td>0.001770</td>\n",
              "      <td>0.003539</td>\n",
              "      <td>0.005309</td>\n",
              "      <td>0.007079</td>\n",
              "      <td>0.008849</td>\n",
              "      <td>0.010618</td>\n",
              "      <td>0.012388</td>\n",
              "      <td>0.014158</td>\n",
              "      <td>0.015928</td>\n",
              "      <td>...</td>\n",
              "      <td>0.070790</td>\n",
              "      <td>0.072560</td>\n",
              "      <td>0.074329</td>\n",
              "      <td>0.076099</td>\n",
              "      <td>0.077869</td>\n",
              "      <td>0.079639</td>\n",
              "      <td>0.081408</td>\n",
              "      <td>0.083178</td>\n",
              "      <td>0.084948</td>\n",
              "      <td>0.086718</td>\n",
              "    </tr>\n",
              "    <tr>\n",
              "      <th>4</th>\n",
              "      <td>0.0</td>\n",
              "      <td>0.002796</td>\n",
              "      <td>0.005591</td>\n",
              "      <td>0.008387</td>\n",
              "      <td>0.011182</td>\n",
              "      <td>0.013978</td>\n",
              "      <td>0.016773</td>\n",
              "      <td>0.019569</td>\n",
              "      <td>0.022364</td>\n",
              "      <td>0.025160</td>\n",
              "      <td>...</td>\n",
              "      <td>0.111822</td>\n",
              "      <td>0.114618</td>\n",
              "      <td>0.117414</td>\n",
              "      <td>0.120209</td>\n",
              "      <td>0.123005</td>\n",
              "      <td>0.125800</td>\n",
              "      <td>0.128596</td>\n",
              "      <td>0.131391</td>\n",
              "      <td>0.134187</td>\n",
              "      <td>0.136982</td>\n",
              "    </tr>\n",
              "  </tbody>\n",
              "</table>\n",
              "<p>5 rows × 50 columns</p>\n",
              "</div>\n",
              "    <div class=\"colab-df-buttons\">\n",
              "\n",
              "  <div class=\"colab-df-container\">\n",
              "    <button class=\"colab-df-convert\" onclick=\"convertToInteractive('df-069de74b-afda-40b1-9e24-39224ada4f27')\"\n",
              "            title=\"Convert this dataframe to an interactive table.\"\n",
              "            style=\"display:none;\">\n",
              "\n",
              "  <svg xmlns=\"http://www.w3.org/2000/svg\" height=\"24px\" viewBox=\"0 -960 960 960\">\n",
              "    <path d=\"M120-120v-720h720v720H120Zm60-500h600v-160H180v160Zm220 220h160v-160H400v160Zm0 220h160v-160H400v160ZM180-400h160v-160H180v160Zm440 0h160v-160H620v160ZM180-180h160v-160H180v160Zm440 0h160v-160H620v160Z\"/>\n",
              "  </svg>\n",
              "    </button>\n",
              "\n",
              "  <style>\n",
              "    .colab-df-container {\n",
              "      display:flex;\n",
              "      gap: 12px;\n",
              "    }\n",
              "\n",
              "    .colab-df-convert {\n",
              "      background-color: #E8F0FE;\n",
              "      border: none;\n",
              "      border-radius: 50%;\n",
              "      cursor: pointer;\n",
              "      display: none;\n",
              "      fill: #1967D2;\n",
              "      height: 32px;\n",
              "      padding: 0 0 0 0;\n",
              "      width: 32px;\n",
              "    }\n",
              "\n",
              "    .colab-df-convert:hover {\n",
              "      background-color: #E2EBFA;\n",
              "      box-shadow: 0px 1px 2px rgba(60, 64, 67, 0.3), 0px 1px 3px 1px rgba(60, 64, 67, 0.15);\n",
              "      fill: #174EA6;\n",
              "    }\n",
              "\n",
              "    .colab-df-buttons div {\n",
              "      margin-bottom: 4px;\n",
              "    }\n",
              "\n",
              "    [theme=dark] .colab-df-convert {\n",
              "      background-color: #3B4455;\n",
              "      fill: #D2E3FC;\n",
              "    }\n",
              "\n",
              "    [theme=dark] .colab-df-convert:hover {\n",
              "      background-color: #434B5C;\n",
              "      box-shadow: 0px 1px 3px 1px rgba(0, 0, 0, 0.15);\n",
              "      filter: drop-shadow(0px 1px 2px rgba(0, 0, 0, 0.3));\n",
              "      fill: #FFFFFF;\n",
              "    }\n",
              "  </style>\n",
              "\n",
              "    <script>\n",
              "      const buttonEl =\n",
              "        document.querySelector('#df-069de74b-afda-40b1-9e24-39224ada4f27 button.colab-df-convert');\n",
              "      buttonEl.style.display =\n",
              "        google.colab.kernel.accessAllowed ? 'block' : 'none';\n",
              "\n",
              "      async function convertToInteractive(key) {\n",
              "        const element = document.querySelector('#df-069de74b-afda-40b1-9e24-39224ada4f27');\n",
              "        const dataTable =\n",
              "          await google.colab.kernel.invokeFunction('convertToInteractive',\n",
              "                                                    [key], {});\n",
              "        if (!dataTable) return;\n",
              "\n",
              "        const docLinkHtml = 'Like what you see? Visit the ' +\n",
              "          '<a target=\"_blank\" href=https://colab.research.google.com/notebooks/data_table.ipynb>data table notebook</a>'\n",
              "          + ' to learn more about interactive tables.';\n",
              "        element.innerHTML = '';\n",
              "        dataTable['output_type'] = 'display_data';\n",
              "        await google.colab.output.renderOutput(dataTable, element);\n",
              "        const docLink = document.createElement('div');\n",
              "        docLink.innerHTML = docLinkHtml;\n",
              "        element.appendChild(docLink);\n",
              "      }\n",
              "    </script>\n",
              "  </div>\n",
              "\n",
              "\n",
              "<div id=\"df-3c3a7fcf-d4a6-4aa4-a924-d95e217e0e9f\">\n",
              "  <button class=\"colab-df-quickchart\" onclick=\"quickchart('df-3c3a7fcf-d4a6-4aa4-a924-d95e217e0e9f')\"\n",
              "            title=\"Suggest charts.\"\n",
              "            style=\"display:none;\">\n",
              "\n",
              "<svg xmlns=\"http://www.w3.org/2000/svg\" height=\"24px\"viewBox=\"0 0 24 24\"\n",
              "     width=\"24px\">\n",
              "    <g>\n",
              "        <path d=\"M19 3H5c-1.1 0-2 .9-2 2v14c0 1.1.9 2 2 2h14c1.1 0 2-.9 2-2V5c0-1.1-.9-2-2-2zM9 17H7v-7h2v7zm4 0h-2V7h2v10zm4 0h-2v-4h2v4z\"/>\n",
              "    </g>\n",
              "</svg>\n",
              "  </button>\n",
              "\n",
              "<style>\n",
              "  .colab-df-quickchart {\n",
              "      --bg-color: #E8F0FE;\n",
              "      --fill-color: #1967D2;\n",
              "      --hover-bg-color: #E2EBFA;\n",
              "      --hover-fill-color: #174EA6;\n",
              "      --disabled-fill-color: #AAA;\n",
              "      --disabled-bg-color: #DDD;\n",
              "  }\n",
              "\n",
              "  [theme=dark] .colab-df-quickchart {\n",
              "      --bg-color: #3B4455;\n",
              "      --fill-color: #D2E3FC;\n",
              "      --hover-bg-color: #434B5C;\n",
              "      --hover-fill-color: #FFFFFF;\n",
              "      --disabled-bg-color: #3B4455;\n",
              "      --disabled-fill-color: #666;\n",
              "  }\n",
              "\n",
              "  .colab-df-quickchart {\n",
              "    background-color: var(--bg-color);\n",
              "    border: none;\n",
              "    border-radius: 50%;\n",
              "    cursor: pointer;\n",
              "    display: none;\n",
              "    fill: var(--fill-color);\n",
              "    height: 32px;\n",
              "    padding: 0;\n",
              "    width: 32px;\n",
              "  }\n",
              "\n",
              "  .colab-df-quickchart:hover {\n",
              "    background-color: var(--hover-bg-color);\n",
              "    box-shadow: 0 1px 2px rgba(60, 64, 67, 0.3), 0 1px 3px 1px rgba(60, 64, 67, 0.15);\n",
              "    fill: var(--button-hover-fill-color);\n",
              "  }\n",
              "\n",
              "  .colab-df-quickchart-complete:disabled,\n",
              "  .colab-df-quickchart-complete:disabled:hover {\n",
              "    background-color: var(--disabled-bg-color);\n",
              "    fill: var(--disabled-fill-color);\n",
              "    box-shadow: none;\n",
              "  }\n",
              "\n",
              "  .colab-df-spinner {\n",
              "    border: 2px solid var(--fill-color);\n",
              "    border-color: transparent;\n",
              "    border-bottom-color: var(--fill-color);\n",
              "    animation:\n",
              "      spin 1s steps(1) infinite;\n",
              "  }\n",
              "\n",
              "  @keyframes spin {\n",
              "    0% {\n",
              "      border-color: transparent;\n",
              "      border-bottom-color: var(--fill-color);\n",
              "      border-left-color: var(--fill-color);\n",
              "    }\n",
              "    20% {\n",
              "      border-color: transparent;\n",
              "      border-left-color: var(--fill-color);\n",
              "      border-top-color: var(--fill-color);\n",
              "    }\n",
              "    30% {\n",
              "      border-color: transparent;\n",
              "      border-left-color: var(--fill-color);\n",
              "      border-top-color: var(--fill-color);\n",
              "      border-right-color: var(--fill-color);\n",
              "    }\n",
              "    40% {\n",
              "      border-color: transparent;\n",
              "      border-right-color: var(--fill-color);\n",
              "      border-top-color: var(--fill-color);\n",
              "    }\n",
              "    60% {\n",
              "      border-color: transparent;\n",
              "      border-right-color: var(--fill-color);\n",
              "    }\n",
              "    80% {\n",
              "      border-color: transparent;\n",
              "      border-right-color: var(--fill-color);\n",
              "      border-bottom-color: var(--fill-color);\n",
              "    }\n",
              "    90% {\n",
              "      border-color: transparent;\n",
              "      border-bottom-color: var(--fill-color);\n",
              "    }\n",
              "  }\n",
              "</style>\n",
              "\n",
              "  <script>\n",
              "    async function quickchart(key) {\n",
              "      const quickchartButtonEl =\n",
              "        document.querySelector('#' + key + ' button');\n",
              "      quickchartButtonEl.disabled = true;  // To prevent multiple clicks.\n",
              "      quickchartButtonEl.classList.add('colab-df-spinner');\n",
              "      try {\n",
              "        const charts = await google.colab.kernel.invokeFunction(\n",
              "            'suggestCharts', [key], {});\n",
              "      } catch (error) {\n",
              "        console.error('Error during call to suggestCharts:', error);\n",
              "      }\n",
              "      quickchartButtonEl.classList.remove('colab-df-spinner');\n",
              "      quickchartButtonEl.classList.add('colab-df-quickchart-complete');\n",
              "    }\n",
              "    (() => {\n",
              "      let quickchartButtonEl =\n",
              "        document.querySelector('#df-3c3a7fcf-d4a6-4aa4-a924-d95e217e0e9f button');\n",
              "      quickchartButtonEl.style.display =\n",
              "        google.colab.kernel.accessAllowed ? 'block' : 'none';\n",
              "    })();\n",
              "  </script>\n",
              "</div>\n",
              "    </div>\n",
              "  </div>\n"
            ]
          },
          "metadata": {},
          "execution_count": 7
        }
      ],
      "source": [
        "data_r = pd.read_csv(\"velprof-space.csv\", index_col=False)\n",
        "data_r.head()"
      ]
    },
    {
      "cell_type": "markdown",
      "metadata": {
        "id": "Q0RERTjvAIU3"
      },
      "source": [
        "We can also merge the two datasets, which include both labels and features (it can be useful later)."
      ]
    },
    {
      "cell_type": "code",
      "execution_count": 8,
      "metadata": {
        "id": "frCOBJ6C2fnn"
      },
      "outputs": [],
      "source": [
        "data_all = pd.concat([data_v, data_Re], axis=1)"
      ]
    },
    {
      "cell_type": "markdown",
      "metadata": {
        "id": "-jL2z4K07mzZ"
      },
      "source": [
        "### Downsampling the database\n",
        "\n",
        "The dataset contains too many data points (100,000), so we will reduce it to 40,000 by randomly selecting from the entire database."
      ]
    },
    {
      "cell_type": "code",
      "execution_count": 9,
      "metadata": {
        "id": "84bOvbDDVn8z"
      },
      "outputs": [],
      "source": [
        "# Get the total number of data points in data_v\n",
        "Nall = data_v.shape[0]\n",
        "\n",
        "# Define the desired number of smaller data points to select\n",
        "Nsmall = 40000\n",
        "\n",
        "# Initialize a random number generator with a specific seed for reproducibility\n",
        "rand_gen = np.random.default_rng(seed=1234)\n",
        "\n",
        "# Generate a random sample of indices without replacement from the range [0, Nall)\n",
        "# This will be used to select a subset of data_v and data_Re\n",
        "indx = rand_gen.choice(np.arange(Nall), size=Nsmall, replace=False)\n",
        "\n",
        "# Create smaller subsets of data_v and data_Re based on the randomly selected indices\n",
        "data_v_small = data_v.iloc[indx, :]\n",
        "data_Re_small = data_Re.iloc[indx, :]"
      ]
    },
    {
      "cell_type": "markdown",
      "metadata": {
        "id": "4r2sqhPeBNJA"
      },
      "source": [
        "let's store it as `.csv` (comma-separated values)"
      ]
    },
    {
      "cell_type": "code",
      "execution_count": 10,
      "metadata": {
        "id": "G3yWskJZBP5u"
      },
      "outputs": [],
      "source": [
        "data_v_small.to_csv(\"small-data.csv\", index=False)\n",
        "data_Re_small.to_csv(\"small-Re.csv\", index=False)"
      ]
    },
    {
      "cell_type": "markdown",
      "metadata": {
        "id": "ZW8Xxqkj_gqw"
      },
      "source": [
        "## Model 2: Re number *regression*\n",
        "\n",
        "-#TODO\n",
        "```\n",
        "In this section, we will employ our Neural-Network model for binary classification with the primary goal of distinguishing between turbulent and non-turbulent conditions. It's essential to clarify that, within the context of our database, \"non-turbulent\" encompasses both laminar and transitional conditions. Please note that for transitional conditions, the velocity profile results are obtained through interpolation, which may exhibit empirical inaccuracy.\n",
        "```"
      ]
    },
    {
      "cell_type": "markdown",
      "metadata": {
        "id": "MCp3ul3GFDUI"
      },
      "source": [
        "### Setup database\n",
        "\n",
        "We load the features and the labels of our first model."
      ]
    },
    {
      "cell_type": "code",
      "execution_count": 11,
      "metadata": {
        "id": "YsuC9LV7FUgh"
      },
      "outputs": [],
      "source": [
        "# Note: this time we include the intial coloms contaiong phisical property of the fluid, and channel sizes (mu(Pas)\trho(kg/m3)\tL(m)\tR(m))\n",
        "features = pd.read_csv(\"small-data.csv\", index_col=False)\n",
        "labels = pd.read_csv(\"small-Re.csv\", index_col=False)"
      ]
    },
    {
      "cell_type": "markdown",
      "metadata": {
        "id": "akhVBQVCAIU9"
      },
      "source": [
        "Display the first few rows of the features."
      ]
    },
    {
      "cell_type": "code",
      "execution_count": 12,
      "metadata": {
        "colab": {
          "base_uri": "https://localhost:8080/",
          "height": 273
        },
        "id": "tutRAhKkGH6e",
        "outputId": "f64f4237-a94e-4357-9623-766e035ab5c9"
      },
      "outputs": [
        {
          "output_type": "execute_result",
          "data": {
            "text/plain": [
              "    mu(Pas)   rho(kg/m3)       L(m)      R(m)  vel[0](m/s)  vel[1](m/s)  \\\n",
              "0  0.000410  1030.726970  74.998529  0.068560     1.417451     1.417360   \n",
              "1  0.000639  1088.630430  63.644387  0.064097     0.874084     0.874021   \n",
              "2  0.000815   970.736430  90.121945  0.224744     0.662115     0.662071   \n",
              "3  0.001032  1039.847190  32.824149  0.301815     0.005550     0.005548   \n",
              "4  0.000165   957.538049  62.117585  0.465334     0.002068     0.002068   \n",
              "\n",
              "   vel[2](m/s)  vel[3](m/s)  vel[4](m/s)  vel[5](m/s)  ...  vel[40](m/s)  \\\n",
              "0     1.417088     1.416633     1.415995     1.415172  ...      1.197356   \n",
              "1     0.873832     0.873516     0.873072     0.872500  ...      0.722647   \n",
              "2     0.661939     0.661718     0.661408     0.661008  ...      0.555539   \n",
              "3     0.005541     0.005529     0.005513     0.005492  ...      0.001852   \n",
              "4     0.002067     0.002066     0.002064     0.002062  ...      0.001494   \n",
              "\n",
              "   vel[41](m/s)  vel[42](m/s)  vel[43](m/s)  vel[44](m/s)  vel[45](m/s)  \\\n",
              "0      1.177895      1.155926      1.130756      1.101335      1.065950   \n",
              "1      0.709417      0.694517      0.677490      0.657648      0.633874   \n",
              "2      0.546150      0.535560      0.523437      0.509280      0.492273   \n",
              "3      0.001664      0.001472      0.001276      0.001075      0.000869   \n",
              "4      0.001447      0.001395      0.001337      0.001271      0.001193   \n",
              "\n",
              "   vel[46](m/s)  vel[47](m/s)  vel[48](m/s)  vel[49](m/s)  \n",
              "0      1.021500      0.961324      0.865544           0.0  \n",
              "1      0.604152      0.564178      0.501215           0.0  \n",
              "2      0.470941      0.442122      0.396402           0.0  \n",
              "3      0.000659      0.000444      0.000224          -0.0  \n",
              "4      0.001099      0.000978      0.000798           0.0  \n",
              "\n",
              "[5 rows x 54 columns]"
            ],
            "text/html": [
              "\n",
              "  <div id=\"df-1a8cefe9-a7b0-4e1b-8046-e04f14b459b7\" class=\"colab-df-container\">\n",
              "    <div>\n",
              "<style scoped>\n",
              "    .dataframe tbody tr th:only-of-type {\n",
              "        vertical-align: middle;\n",
              "    }\n",
              "\n",
              "    .dataframe tbody tr th {\n",
              "        vertical-align: top;\n",
              "    }\n",
              "\n",
              "    .dataframe thead th {\n",
              "        text-align: right;\n",
              "    }\n",
              "</style>\n",
              "<table border=\"1\" class=\"dataframe\">\n",
              "  <thead>\n",
              "    <tr style=\"text-align: right;\">\n",
              "      <th></th>\n",
              "      <th>mu(Pas)</th>\n",
              "      <th>rho(kg/m3)</th>\n",
              "      <th>L(m)</th>\n",
              "      <th>R(m)</th>\n",
              "      <th>vel[0](m/s)</th>\n",
              "      <th>vel[1](m/s)</th>\n",
              "      <th>vel[2](m/s)</th>\n",
              "      <th>vel[3](m/s)</th>\n",
              "      <th>vel[4](m/s)</th>\n",
              "      <th>vel[5](m/s)</th>\n",
              "      <th>...</th>\n",
              "      <th>vel[40](m/s)</th>\n",
              "      <th>vel[41](m/s)</th>\n",
              "      <th>vel[42](m/s)</th>\n",
              "      <th>vel[43](m/s)</th>\n",
              "      <th>vel[44](m/s)</th>\n",
              "      <th>vel[45](m/s)</th>\n",
              "      <th>vel[46](m/s)</th>\n",
              "      <th>vel[47](m/s)</th>\n",
              "      <th>vel[48](m/s)</th>\n",
              "      <th>vel[49](m/s)</th>\n",
              "    </tr>\n",
              "  </thead>\n",
              "  <tbody>\n",
              "    <tr>\n",
              "      <th>0</th>\n",
              "      <td>0.000410</td>\n",
              "      <td>1030.726970</td>\n",
              "      <td>74.998529</td>\n",
              "      <td>0.068560</td>\n",
              "      <td>1.417451</td>\n",
              "      <td>1.417360</td>\n",
              "      <td>1.417088</td>\n",
              "      <td>1.416633</td>\n",
              "      <td>1.415995</td>\n",
              "      <td>1.415172</td>\n",
              "      <td>...</td>\n",
              "      <td>1.197356</td>\n",
              "      <td>1.177895</td>\n",
              "      <td>1.155926</td>\n",
              "      <td>1.130756</td>\n",
              "      <td>1.101335</td>\n",
              "      <td>1.065950</td>\n",
              "      <td>1.021500</td>\n",
              "      <td>0.961324</td>\n",
              "      <td>0.865544</td>\n",
              "      <td>0.0</td>\n",
              "    </tr>\n",
              "    <tr>\n",
              "      <th>1</th>\n",
              "      <td>0.000639</td>\n",
              "      <td>1088.630430</td>\n",
              "      <td>63.644387</td>\n",
              "      <td>0.064097</td>\n",
              "      <td>0.874084</td>\n",
              "      <td>0.874021</td>\n",
              "      <td>0.873832</td>\n",
              "      <td>0.873516</td>\n",
              "      <td>0.873072</td>\n",
              "      <td>0.872500</td>\n",
              "      <td>...</td>\n",
              "      <td>0.722647</td>\n",
              "      <td>0.709417</td>\n",
              "      <td>0.694517</td>\n",
              "      <td>0.677490</td>\n",
              "      <td>0.657648</td>\n",
              "      <td>0.633874</td>\n",
              "      <td>0.604152</td>\n",
              "      <td>0.564178</td>\n",
              "      <td>0.501215</td>\n",
              "      <td>0.0</td>\n",
              "    </tr>\n",
              "    <tr>\n",
              "      <th>2</th>\n",
              "      <td>0.000815</td>\n",
              "      <td>970.736430</td>\n",
              "      <td>90.121945</td>\n",
              "      <td>0.224744</td>\n",
              "      <td>0.662115</td>\n",
              "      <td>0.662071</td>\n",
              "      <td>0.661939</td>\n",
              "      <td>0.661718</td>\n",
              "      <td>0.661408</td>\n",
              "      <td>0.661008</td>\n",
              "      <td>...</td>\n",
              "      <td>0.555539</td>\n",
              "      <td>0.546150</td>\n",
              "      <td>0.535560</td>\n",
              "      <td>0.523437</td>\n",
              "      <td>0.509280</td>\n",
              "      <td>0.492273</td>\n",
              "      <td>0.470941</td>\n",
              "      <td>0.442122</td>\n",
              "      <td>0.396402</td>\n",
              "      <td>0.0</td>\n",
              "    </tr>\n",
              "    <tr>\n",
              "      <th>3</th>\n",
              "      <td>0.001032</td>\n",
              "      <td>1039.847190</td>\n",
              "      <td>32.824149</td>\n",
              "      <td>0.301815</td>\n",
              "      <td>0.005550</td>\n",
              "      <td>0.005548</td>\n",
              "      <td>0.005541</td>\n",
              "      <td>0.005529</td>\n",
              "      <td>0.005513</td>\n",
              "      <td>0.005492</td>\n",
              "      <td>...</td>\n",
              "      <td>0.001852</td>\n",
              "      <td>0.001664</td>\n",
              "      <td>0.001472</td>\n",
              "      <td>0.001276</td>\n",
              "      <td>0.001075</td>\n",
              "      <td>0.000869</td>\n",
              "      <td>0.000659</td>\n",
              "      <td>0.000444</td>\n",
              "      <td>0.000224</td>\n",
              "      <td>-0.0</td>\n",
              "    </tr>\n",
              "    <tr>\n",
              "      <th>4</th>\n",
              "      <td>0.000165</td>\n",
              "      <td>957.538049</td>\n",
              "      <td>62.117585</td>\n",
              "      <td>0.465334</td>\n",
              "      <td>0.002068</td>\n",
              "      <td>0.002068</td>\n",
              "      <td>0.002067</td>\n",
              "      <td>0.002066</td>\n",
              "      <td>0.002064</td>\n",
              "      <td>0.002062</td>\n",
              "      <td>...</td>\n",
              "      <td>0.001494</td>\n",
              "      <td>0.001447</td>\n",
              "      <td>0.001395</td>\n",
              "      <td>0.001337</td>\n",
              "      <td>0.001271</td>\n",
              "      <td>0.001193</td>\n",
              "      <td>0.001099</td>\n",
              "      <td>0.000978</td>\n",
              "      <td>0.000798</td>\n",
              "      <td>0.0</td>\n",
              "    </tr>\n",
              "  </tbody>\n",
              "</table>\n",
              "<p>5 rows × 54 columns</p>\n",
              "</div>\n",
              "    <div class=\"colab-df-buttons\">\n",
              "\n",
              "  <div class=\"colab-df-container\">\n",
              "    <button class=\"colab-df-convert\" onclick=\"convertToInteractive('df-1a8cefe9-a7b0-4e1b-8046-e04f14b459b7')\"\n",
              "            title=\"Convert this dataframe to an interactive table.\"\n",
              "            style=\"display:none;\">\n",
              "\n",
              "  <svg xmlns=\"http://www.w3.org/2000/svg\" height=\"24px\" viewBox=\"0 -960 960 960\">\n",
              "    <path d=\"M120-120v-720h720v720H120Zm60-500h600v-160H180v160Zm220 220h160v-160H400v160Zm0 220h160v-160H400v160ZM180-400h160v-160H180v160Zm440 0h160v-160H620v160ZM180-180h160v-160H180v160Zm440 0h160v-160H620v160Z\"/>\n",
              "  </svg>\n",
              "    </button>\n",
              "\n",
              "  <style>\n",
              "    .colab-df-container {\n",
              "      display:flex;\n",
              "      gap: 12px;\n",
              "    }\n",
              "\n",
              "    .colab-df-convert {\n",
              "      background-color: #E8F0FE;\n",
              "      border: none;\n",
              "      border-radius: 50%;\n",
              "      cursor: pointer;\n",
              "      display: none;\n",
              "      fill: #1967D2;\n",
              "      height: 32px;\n",
              "      padding: 0 0 0 0;\n",
              "      width: 32px;\n",
              "    }\n",
              "\n",
              "    .colab-df-convert:hover {\n",
              "      background-color: #E2EBFA;\n",
              "      box-shadow: 0px 1px 2px rgba(60, 64, 67, 0.3), 0px 1px 3px 1px rgba(60, 64, 67, 0.15);\n",
              "      fill: #174EA6;\n",
              "    }\n",
              "\n",
              "    .colab-df-buttons div {\n",
              "      margin-bottom: 4px;\n",
              "    }\n",
              "\n",
              "    [theme=dark] .colab-df-convert {\n",
              "      background-color: #3B4455;\n",
              "      fill: #D2E3FC;\n",
              "    }\n",
              "\n",
              "    [theme=dark] .colab-df-convert:hover {\n",
              "      background-color: #434B5C;\n",
              "      box-shadow: 0px 1px 3px 1px rgba(0, 0, 0, 0.15);\n",
              "      filter: drop-shadow(0px 1px 2px rgba(0, 0, 0, 0.3));\n",
              "      fill: #FFFFFF;\n",
              "    }\n",
              "  </style>\n",
              "\n",
              "    <script>\n",
              "      const buttonEl =\n",
              "        document.querySelector('#df-1a8cefe9-a7b0-4e1b-8046-e04f14b459b7 button.colab-df-convert');\n",
              "      buttonEl.style.display =\n",
              "        google.colab.kernel.accessAllowed ? 'block' : 'none';\n",
              "\n",
              "      async function convertToInteractive(key) {\n",
              "        const element = document.querySelector('#df-1a8cefe9-a7b0-4e1b-8046-e04f14b459b7');\n",
              "        const dataTable =\n",
              "          await google.colab.kernel.invokeFunction('convertToInteractive',\n",
              "                                                    [key], {});\n",
              "        if (!dataTable) return;\n",
              "\n",
              "        const docLinkHtml = 'Like what you see? Visit the ' +\n",
              "          '<a target=\"_blank\" href=https://colab.research.google.com/notebooks/data_table.ipynb>data table notebook</a>'\n",
              "          + ' to learn more about interactive tables.';\n",
              "        element.innerHTML = '';\n",
              "        dataTable['output_type'] = 'display_data';\n",
              "        await google.colab.output.renderOutput(dataTable, element);\n",
              "        const docLink = document.createElement('div');\n",
              "        docLink.innerHTML = docLinkHtml;\n",
              "        element.appendChild(docLink);\n",
              "      }\n",
              "    </script>\n",
              "  </div>\n",
              "\n",
              "\n",
              "<div id=\"df-15050285-2b2c-4217-a4b2-217d1088ab97\">\n",
              "  <button class=\"colab-df-quickchart\" onclick=\"quickchart('df-15050285-2b2c-4217-a4b2-217d1088ab97')\"\n",
              "            title=\"Suggest charts.\"\n",
              "            style=\"display:none;\">\n",
              "\n",
              "<svg xmlns=\"http://www.w3.org/2000/svg\" height=\"24px\"viewBox=\"0 0 24 24\"\n",
              "     width=\"24px\">\n",
              "    <g>\n",
              "        <path d=\"M19 3H5c-1.1 0-2 .9-2 2v14c0 1.1.9 2 2 2h14c1.1 0 2-.9 2-2V5c0-1.1-.9-2-2-2zM9 17H7v-7h2v7zm4 0h-2V7h2v10zm4 0h-2v-4h2v4z\"/>\n",
              "    </g>\n",
              "</svg>\n",
              "  </button>\n",
              "\n",
              "<style>\n",
              "  .colab-df-quickchart {\n",
              "      --bg-color: #E8F0FE;\n",
              "      --fill-color: #1967D2;\n",
              "      --hover-bg-color: #E2EBFA;\n",
              "      --hover-fill-color: #174EA6;\n",
              "      --disabled-fill-color: #AAA;\n",
              "      --disabled-bg-color: #DDD;\n",
              "  }\n",
              "\n",
              "  [theme=dark] .colab-df-quickchart {\n",
              "      --bg-color: #3B4455;\n",
              "      --fill-color: #D2E3FC;\n",
              "      --hover-bg-color: #434B5C;\n",
              "      --hover-fill-color: #FFFFFF;\n",
              "      --disabled-bg-color: #3B4455;\n",
              "      --disabled-fill-color: #666;\n",
              "  }\n",
              "\n",
              "  .colab-df-quickchart {\n",
              "    background-color: var(--bg-color);\n",
              "    border: none;\n",
              "    border-radius: 50%;\n",
              "    cursor: pointer;\n",
              "    display: none;\n",
              "    fill: var(--fill-color);\n",
              "    height: 32px;\n",
              "    padding: 0;\n",
              "    width: 32px;\n",
              "  }\n",
              "\n",
              "  .colab-df-quickchart:hover {\n",
              "    background-color: var(--hover-bg-color);\n",
              "    box-shadow: 0 1px 2px rgba(60, 64, 67, 0.3), 0 1px 3px 1px rgba(60, 64, 67, 0.15);\n",
              "    fill: var(--button-hover-fill-color);\n",
              "  }\n",
              "\n",
              "  .colab-df-quickchart-complete:disabled,\n",
              "  .colab-df-quickchart-complete:disabled:hover {\n",
              "    background-color: var(--disabled-bg-color);\n",
              "    fill: var(--disabled-fill-color);\n",
              "    box-shadow: none;\n",
              "  }\n",
              "\n",
              "  .colab-df-spinner {\n",
              "    border: 2px solid var(--fill-color);\n",
              "    border-color: transparent;\n",
              "    border-bottom-color: var(--fill-color);\n",
              "    animation:\n",
              "      spin 1s steps(1) infinite;\n",
              "  }\n",
              "\n",
              "  @keyframes spin {\n",
              "    0% {\n",
              "      border-color: transparent;\n",
              "      border-bottom-color: var(--fill-color);\n",
              "      border-left-color: var(--fill-color);\n",
              "    }\n",
              "    20% {\n",
              "      border-color: transparent;\n",
              "      border-left-color: var(--fill-color);\n",
              "      border-top-color: var(--fill-color);\n",
              "    }\n",
              "    30% {\n",
              "      border-color: transparent;\n",
              "      border-left-color: var(--fill-color);\n",
              "      border-top-color: var(--fill-color);\n",
              "      border-right-color: var(--fill-color);\n",
              "    }\n",
              "    40% {\n",
              "      border-color: transparent;\n",
              "      border-right-color: var(--fill-color);\n",
              "      border-top-color: var(--fill-color);\n",
              "    }\n",
              "    60% {\n",
              "      border-color: transparent;\n",
              "      border-right-color: var(--fill-color);\n",
              "    }\n",
              "    80% {\n",
              "      border-color: transparent;\n",
              "      border-right-color: var(--fill-color);\n",
              "      border-bottom-color: var(--fill-color);\n",
              "    }\n",
              "    90% {\n",
              "      border-color: transparent;\n",
              "      border-bottom-color: var(--fill-color);\n",
              "    }\n",
              "  }\n",
              "</style>\n",
              "\n",
              "  <script>\n",
              "    async function quickchart(key) {\n",
              "      const quickchartButtonEl =\n",
              "        document.querySelector('#' + key + ' button');\n",
              "      quickchartButtonEl.disabled = true;  // To prevent multiple clicks.\n",
              "      quickchartButtonEl.classList.add('colab-df-spinner');\n",
              "      try {\n",
              "        const charts = await google.colab.kernel.invokeFunction(\n",
              "            'suggestCharts', [key], {});\n",
              "      } catch (error) {\n",
              "        console.error('Error during call to suggestCharts:', error);\n",
              "      }\n",
              "      quickchartButtonEl.classList.remove('colab-df-spinner');\n",
              "      quickchartButtonEl.classList.add('colab-df-quickchart-complete');\n",
              "    }\n",
              "    (() => {\n",
              "      let quickchartButtonEl =\n",
              "        document.querySelector('#df-15050285-2b2c-4217-a4b2-217d1088ab97 button');\n",
              "      quickchartButtonEl.style.display =\n",
              "        google.colab.kernel.accessAllowed ? 'block' : 'none';\n",
              "    })();\n",
              "  </script>\n",
              "</div>\n",
              "    </div>\n",
              "  </div>\n"
            ]
          },
          "metadata": {},
          "execution_count": 12
        }
      ],
      "source": [
        "features.head()"
      ]
    },
    {
      "cell_type": "markdown",
      "metadata": {
        "id": "vzmrYgOKAIU9"
      },
      "source": [
        "Display the first few rows of the labels."
      ]
    },
    {
      "cell_type": "code",
      "execution_count": 13,
      "metadata": {
        "colab": {
          "base_uri": "https://localhost:8080/",
          "height": 206
        },
        "id": "O_aJe56njcUu",
        "outputId": "54208845-2c80-4998-c0ba-e1118a560c4a"
      },
      "outputs": [
        {
          "output_type": "execute_result",
          "data": {
            "text/plain": [
              "          Re(-)\n",
              "0  423079.30600\n",
              "1  162753.22700\n",
              "2  305589.71000\n",
              "3    1688.49445\n",
              "4    8641.48819"
            ],
            "text/html": [
              "\n",
              "  <div id=\"df-26dcead2-efc0-4e92-b675-9368ad3da3e5\" class=\"colab-df-container\">\n",
              "    <div>\n",
              "<style scoped>\n",
              "    .dataframe tbody tr th:only-of-type {\n",
              "        vertical-align: middle;\n",
              "    }\n",
              "\n",
              "    .dataframe tbody tr th {\n",
              "        vertical-align: top;\n",
              "    }\n",
              "\n",
              "    .dataframe thead th {\n",
              "        text-align: right;\n",
              "    }\n",
              "</style>\n",
              "<table border=\"1\" class=\"dataframe\">\n",
              "  <thead>\n",
              "    <tr style=\"text-align: right;\">\n",
              "      <th></th>\n",
              "      <th>Re(-)</th>\n",
              "    </tr>\n",
              "  </thead>\n",
              "  <tbody>\n",
              "    <tr>\n",
              "      <th>0</th>\n",
              "      <td>423079.30600</td>\n",
              "    </tr>\n",
              "    <tr>\n",
              "      <th>1</th>\n",
              "      <td>162753.22700</td>\n",
              "    </tr>\n",
              "    <tr>\n",
              "      <th>2</th>\n",
              "      <td>305589.71000</td>\n",
              "    </tr>\n",
              "    <tr>\n",
              "      <th>3</th>\n",
              "      <td>1688.49445</td>\n",
              "    </tr>\n",
              "    <tr>\n",
              "      <th>4</th>\n",
              "      <td>8641.48819</td>\n",
              "    </tr>\n",
              "  </tbody>\n",
              "</table>\n",
              "</div>\n",
              "    <div class=\"colab-df-buttons\">\n",
              "\n",
              "  <div class=\"colab-df-container\">\n",
              "    <button class=\"colab-df-convert\" onclick=\"convertToInteractive('df-26dcead2-efc0-4e92-b675-9368ad3da3e5')\"\n",
              "            title=\"Convert this dataframe to an interactive table.\"\n",
              "            style=\"display:none;\">\n",
              "\n",
              "  <svg xmlns=\"http://www.w3.org/2000/svg\" height=\"24px\" viewBox=\"0 -960 960 960\">\n",
              "    <path d=\"M120-120v-720h720v720H120Zm60-500h600v-160H180v160Zm220 220h160v-160H400v160Zm0 220h160v-160H400v160ZM180-400h160v-160H180v160Zm440 0h160v-160H620v160ZM180-180h160v-160H180v160Zm440 0h160v-160H620v160Z\"/>\n",
              "  </svg>\n",
              "    </button>\n",
              "\n",
              "  <style>\n",
              "    .colab-df-container {\n",
              "      display:flex;\n",
              "      gap: 12px;\n",
              "    }\n",
              "\n",
              "    .colab-df-convert {\n",
              "      background-color: #E8F0FE;\n",
              "      border: none;\n",
              "      border-radius: 50%;\n",
              "      cursor: pointer;\n",
              "      display: none;\n",
              "      fill: #1967D2;\n",
              "      height: 32px;\n",
              "      padding: 0 0 0 0;\n",
              "      width: 32px;\n",
              "    }\n",
              "\n",
              "    .colab-df-convert:hover {\n",
              "      background-color: #E2EBFA;\n",
              "      box-shadow: 0px 1px 2px rgba(60, 64, 67, 0.3), 0px 1px 3px 1px rgba(60, 64, 67, 0.15);\n",
              "      fill: #174EA6;\n",
              "    }\n",
              "\n",
              "    .colab-df-buttons div {\n",
              "      margin-bottom: 4px;\n",
              "    }\n",
              "\n",
              "    [theme=dark] .colab-df-convert {\n",
              "      background-color: #3B4455;\n",
              "      fill: #D2E3FC;\n",
              "    }\n",
              "\n",
              "    [theme=dark] .colab-df-convert:hover {\n",
              "      background-color: #434B5C;\n",
              "      box-shadow: 0px 1px 3px 1px rgba(0, 0, 0, 0.15);\n",
              "      filter: drop-shadow(0px 1px 2px rgba(0, 0, 0, 0.3));\n",
              "      fill: #FFFFFF;\n",
              "    }\n",
              "  </style>\n",
              "\n",
              "    <script>\n",
              "      const buttonEl =\n",
              "        document.querySelector('#df-26dcead2-efc0-4e92-b675-9368ad3da3e5 button.colab-df-convert');\n",
              "      buttonEl.style.display =\n",
              "        google.colab.kernel.accessAllowed ? 'block' : 'none';\n",
              "\n",
              "      async function convertToInteractive(key) {\n",
              "        const element = document.querySelector('#df-26dcead2-efc0-4e92-b675-9368ad3da3e5');\n",
              "        const dataTable =\n",
              "          await google.colab.kernel.invokeFunction('convertToInteractive',\n",
              "                                                    [key], {});\n",
              "        if (!dataTable) return;\n",
              "\n",
              "        const docLinkHtml = 'Like what you see? Visit the ' +\n",
              "          '<a target=\"_blank\" href=https://colab.research.google.com/notebooks/data_table.ipynb>data table notebook</a>'\n",
              "          + ' to learn more about interactive tables.';\n",
              "        element.innerHTML = '';\n",
              "        dataTable['output_type'] = 'display_data';\n",
              "        await google.colab.output.renderOutput(dataTable, element);\n",
              "        const docLink = document.createElement('div');\n",
              "        docLink.innerHTML = docLinkHtml;\n",
              "        element.appendChild(docLink);\n",
              "      }\n",
              "    </script>\n",
              "  </div>\n",
              "\n",
              "\n",
              "<div id=\"df-127226b5-6dbc-4c5b-b33c-6789ad154fd0\">\n",
              "  <button class=\"colab-df-quickchart\" onclick=\"quickchart('df-127226b5-6dbc-4c5b-b33c-6789ad154fd0')\"\n",
              "            title=\"Suggest charts.\"\n",
              "            style=\"display:none;\">\n",
              "\n",
              "<svg xmlns=\"http://www.w3.org/2000/svg\" height=\"24px\"viewBox=\"0 0 24 24\"\n",
              "     width=\"24px\">\n",
              "    <g>\n",
              "        <path d=\"M19 3H5c-1.1 0-2 .9-2 2v14c0 1.1.9 2 2 2h14c1.1 0 2-.9 2-2V5c0-1.1-.9-2-2-2zM9 17H7v-7h2v7zm4 0h-2V7h2v10zm4 0h-2v-4h2v4z\"/>\n",
              "    </g>\n",
              "</svg>\n",
              "  </button>\n",
              "\n",
              "<style>\n",
              "  .colab-df-quickchart {\n",
              "      --bg-color: #E8F0FE;\n",
              "      --fill-color: #1967D2;\n",
              "      --hover-bg-color: #E2EBFA;\n",
              "      --hover-fill-color: #174EA6;\n",
              "      --disabled-fill-color: #AAA;\n",
              "      --disabled-bg-color: #DDD;\n",
              "  }\n",
              "\n",
              "  [theme=dark] .colab-df-quickchart {\n",
              "      --bg-color: #3B4455;\n",
              "      --fill-color: #D2E3FC;\n",
              "      --hover-bg-color: #434B5C;\n",
              "      --hover-fill-color: #FFFFFF;\n",
              "      --disabled-bg-color: #3B4455;\n",
              "      --disabled-fill-color: #666;\n",
              "  }\n",
              "\n",
              "  .colab-df-quickchart {\n",
              "    background-color: var(--bg-color);\n",
              "    border: none;\n",
              "    border-radius: 50%;\n",
              "    cursor: pointer;\n",
              "    display: none;\n",
              "    fill: var(--fill-color);\n",
              "    height: 32px;\n",
              "    padding: 0;\n",
              "    width: 32px;\n",
              "  }\n",
              "\n",
              "  .colab-df-quickchart:hover {\n",
              "    background-color: var(--hover-bg-color);\n",
              "    box-shadow: 0 1px 2px rgba(60, 64, 67, 0.3), 0 1px 3px 1px rgba(60, 64, 67, 0.15);\n",
              "    fill: var(--button-hover-fill-color);\n",
              "  }\n",
              "\n",
              "  .colab-df-quickchart-complete:disabled,\n",
              "  .colab-df-quickchart-complete:disabled:hover {\n",
              "    background-color: var(--disabled-bg-color);\n",
              "    fill: var(--disabled-fill-color);\n",
              "    box-shadow: none;\n",
              "  }\n",
              "\n",
              "  .colab-df-spinner {\n",
              "    border: 2px solid var(--fill-color);\n",
              "    border-color: transparent;\n",
              "    border-bottom-color: var(--fill-color);\n",
              "    animation:\n",
              "      spin 1s steps(1) infinite;\n",
              "  }\n",
              "\n",
              "  @keyframes spin {\n",
              "    0% {\n",
              "      border-color: transparent;\n",
              "      border-bottom-color: var(--fill-color);\n",
              "      border-left-color: var(--fill-color);\n",
              "    }\n",
              "    20% {\n",
              "      border-color: transparent;\n",
              "      border-left-color: var(--fill-color);\n",
              "      border-top-color: var(--fill-color);\n",
              "    }\n",
              "    30% {\n",
              "      border-color: transparent;\n",
              "      border-left-color: var(--fill-color);\n",
              "      border-top-color: var(--fill-color);\n",
              "      border-right-color: var(--fill-color);\n",
              "    }\n",
              "    40% {\n",
              "      border-color: transparent;\n",
              "      border-right-color: var(--fill-color);\n",
              "      border-top-color: var(--fill-color);\n",
              "    }\n",
              "    60% {\n",
              "      border-color: transparent;\n",
              "      border-right-color: var(--fill-color);\n",
              "    }\n",
              "    80% {\n",
              "      border-color: transparent;\n",
              "      border-right-color: var(--fill-color);\n",
              "      border-bottom-color: var(--fill-color);\n",
              "    }\n",
              "    90% {\n",
              "      border-color: transparent;\n",
              "      border-bottom-color: var(--fill-color);\n",
              "    }\n",
              "  }\n",
              "</style>\n",
              "\n",
              "  <script>\n",
              "    async function quickchart(key) {\n",
              "      const quickchartButtonEl =\n",
              "        document.querySelector('#' + key + ' button');\n",
              "      quickchartButtonEl.disabled = true;  // To prevent multiple clicks.\n",
              "      quickchartButtonEl.classList.add('colab-df-spinner');\n",
              "      try {\n",
              "        const charts = await google.colab.kernel.invokeFunction(\n",
              "            'suggestCharts', [key], {});\n",
              "      } catch (error) {\n",
              "        console.error('Error during call to suggestCharts:', error);\n",
              "      }\n",
              "      quickchartButtonEl.classList.remove('colab-df-spinner');\n",
              "      quickchartButtonEl.classList.add('colab-df-quickchart-complete');\n",
              "    }\n",
              "    (() => {\n",
              "      let quickchartButtonEl =\n",
              "        document.querySelector('#df-127226b5-6dbc-4c5b-b33c-6789ad154fd0 button');\n",
              "      quickchartButtonEl.style.display =\n",
              "        google.colab.kernel.accessAllowed ? 'block' : 'none';\n",
              "    })();\n",
              "  </script>\n",
              "</div>\n",
              "    </div>\n",
              "  </div>\n"
            ]
          },
          "metadata": {},
          "execution_count": 13
        }
      ],
      "source": [
        "labels.head()"
      ]
    },
    {
      "cell_type": "markdown",
      "metadata": {
        "id": "NuEFFf5G_ODX"
      },
      "source": [
        "To create a training and test dataset, we perform an 80/20 split.\n",
        "\n",
        "The purpose of this split is to reserve a portion of the data for testing the model's performance while ensuring that the two sets have a statistically similar distribution of features and labels. Since the database is already shuffled, we can conveniently take the first 1000 data points as the test set, given the total dataset size of 5000 items."
      ]
    },
    {
      "cell_type": "code",
      "execution_count": 14,
      "metadata": {
        "id": "zhgLDXeS-ilW"
      },
      "outputs": [],
      "source": [
        "# Splitting the dataset into training and test sets\n",
        "# Training set (80% of the data)\n",
        "labels_train = labels.iloc[int(Nsmall * 0.2) :, :]\n",
        "features_train = features.iloc[int(Nsmall * 0.2) :, :]\n",
        "\n",
        "# Test set (20% of the data)\n",
        "labels_test = labels.iloc[: int(Nsmall * 0.2), :]\n",
        "features_test = features.iloc[: int(Nsmall * 0.2), :]"
      ]
    },
    {
      "cell_type": "markdown",
      "metadata": {
        "id": "m1o08OhLlWjg"
      },
      "source": [
        "### Storing\n",
        "\n",
        "We will store the datasets and labels in a structured folder for future use."
      ]
    },
    {
      "cell_type": "code",
      "execution_count": 15,
      "metadata": {
        "id": "vMrHqRUT-2Yh"
      },
      "outputs": [],
      "source": [
        "pathlib.Path(\"model_2\").mkdir(parents=True, exist_ok=True)  # Make a folder\n",
        "# Make train and test subfolders\n",
        "pathlib.Path(os.path.join(\"model_2\", \"train\")).mkdir(exist_ok=True)\n",
        "pathlib.Path(os.path.join(\"model_2\", \"test\")).mkdir(exist_ok=True)\n",
        "# Note: this time we include the intial coloms contaiong phisical property of the fluid, and channel sizes (mu(Pas)\trho(kg/m3)\tL(m)\tR(m))\n",
        "labels_train.to_csv(os.path.join(\"model_2\", \"train\", \"labels.csv\"), index=False)\n",
        "labels_test.to_csv(os.path.join(\"model_2\", \"test\", \"labels.csv\"), index=False)\n",
        "features_train.to_csv(os.path.join(\"model_2\", \"train\", \"features.csv\"), index=False)\n",
        "features_test.to_csv(os.path.join(\"model_2\", \"test\", \"features.csv\"), index=False)"
      ]
    },
    {
      "cell_type": "markdown",
      "metadata": {
        "id": "LbxK0AFDAIVO"
      },
      "source": [
        "### First Try\n",
        "\n",
        "#### Building the Model with Keras and TensorFlow\n",
        "-#TODO\n",
        "```\n",
        "Now we define a function to create our neural network model using Keras and TensorFlow. This involves designing the layers, specifying their connections, and defining their behavior, including activation functions, regularization, dropout, and more.\n",
        "\n",
        "In a neural network, a *layer* serves as a fundamental building block responsible for processing data and extracting features. Layers are combined to form the architecture of the neural network. Each layer consists of one or more \"neurons\" (also known as \"nodes\" or \"units\").\n",
        "\n",
        "For our first model, we need to include the following types of layers:\n",
        "\n",
        "* **Input Layer**: This is the initial layer that receives raw input data. Its primary role is to pass the data to subsequent layers. The input layer typically has one neuron for each feature present in the input data.\n",
        "\n",
        "* **Hidden Layers**: These intermediate layers sit between the input and output layers. Hidden layers perform complex transformations on the data, enabling the network to learn and extract features from the input. Each neuron in a hidden layer receives input from multiple neurons in the previous layer.\n",
        "\n",
        "* **Output Layer**: The final layer in the neural network is responsible for producing the model's predictions. The number of neurons in the output layer depends on the nature of the problem being addressed. For binary classification (True/False or 0/1), a single neuron is common in the output layer. In multiclass classification or regression tasks, the number of output neurons can vary.\n",
        "\n",
        "In addition to layers, we also introduce the concept of an *activation function*. An activation function is a critical element within each neuron of a neural network. It dictates how the output of a neuron is calculated based on its input. The activation function introduces non-linearity into the model, allowing it to learn complex patterns and relationships within the data.\n",
        "\n",
        "Common activation functions include:\n",
        "\n",
        "* **ReLU (Rectified Linear Unit)**: ReLU is one of the most widely used activation functions. It returns the input value if it's positive and zero if it's negative. Mathematically, it can be represented as $f(x) = \\max(0, x)$. ReLU is effective in training deep networks and addressing the vanishing gradient problem.\n",
        "\n",
        "* **Sigmoid**: The sigmoid activation function is commonly used in the output layer of binary classification models. It squashes the output into a range between 0 and 1, which can be interpreted as a probability. Mathematically, it's expressed as $f(x) = \\dfrac{1}{1 + e^{-x}}$.\n",
        "\n",
        "* **Tanh (Hyperbolic Tangent)**: Tanh is similar to the sigmoid function but maps values to the range between -1 and 1. It is often used in hidden layers. Mathematically, it's defined as $f(x) = \\dfrac{e^{x} - e^{-x}}{e^{x} + e^{-x}}$.\n",
        "\n",
        "The choice of the activation function depends on the specific problem and the architecture of the network. Each activation function has its own strengths and weaknesses, and selecting the right one is a crucial part of the network design process.\n",
        "\n",
        "In our case, we use the `relu` (Rectified Linear Unit) activation function in the first hidden layer and a smoother function like `sigmoid` for the output layer.\n",
        "```"
      ]
    },
    {
      "cell_type": "markdown",
      "metadata": {
        "id": "aoyRhsa8HUCR"
      },
      "source": [
        "#### Load data"
      ]
    },
    {
      "cell_type": "code",
      "execution_count": 16,
      "metadata": {
        "id": "LrOQg_CoMcw8"
      },
      "outputs": [],
      "source": [
        "features_train_try1 = pd.read_csv(\n",
        "    os.path.join(\"model_2\", \"train\", \"features.csv\"), index_col=False\n",
        ").iloc[\n",
        "    :, 4:\n",
        "]  # Note: we drop the first 4 columns to study only the velocity profile\n",
        "features_test_try1 = pd.read_csv(\n",
        "    os.path.join(\"model_2\", \"test\", \"features.csv\"), index_col=False\n",
        ").iloc[\n",
        "    :, 4:\n",
        "]  # Note: we drop the first 4 columns to study only the velocity profile\n",
        "labels_train_try1 = pd.read_csv(\n",
        "    os.path.join(\"model_2\", \"train\", \"labels.csv\"), index_col=False\n",
        ")\n",
        "labels_test_try1 = pd.read_csv(\n",
        "    os.path.join(\"model_2\", \"test\", \"labels.csv\"), index_col=False\n",
        ")"
      ]
    },
    {
      "cell_type": "code",
      "execution_count": 17,
      "metadata": {
        "id": "RToY7LfOluwF"
      },
      "outputs": [],
      "source": [
        "def build_model_2(n_cols: int, out_activation: str) -> tf.keras.models.Sequential:\n",
        "    \"\"\"\n",
        "    Build a the first possible architecture for our neural network model.\n",
        "\n",
        "    Args:\n",
        "        n_cols (int): Number of input features.\n",
        "        out_activation (str): Output activation function.\n",
        "    Returns:\n",
        "        tf.keras.models.Sequential: A Keras Sequential model.\n",
        "    \"\"\"\n",
        "    model = Sequential(\n",
        "        [\n",
        "            # Input layer with the specified input shape\n",
        "            layers.InputLayer(input_shape=(n_cols,), name=\"input_layer\"),\n",
        "            # Add the first hidden layer with 64 perceptron and ReLU activation\n",
        "            layers.Dense(64, activation=\"relu\", name=\"hidden_layer_1\"),\n",
        "            # Add the second hidden layer with 64 perceptron and ReLU activation\n",
        "            layers.Dense(64, activation=\"relu\", name=\"hidden_layer_2\"),\n",
        "            # Add the output layer with a single perceptron (we expect a True/False answer) and sigmoid activation\n",
        "            layers.Dense(1, activation=out_activation, name=\"output_layer\"),\n",
        "        ]\n",
        "    )\n",
        "    return model"
      ]
    },
    {
      "cell_type": "markdown",
      "metadata": {
        "id": "6mwLYp_WAkK1"
      },
      "source": [
        "Let's call the function to build our model."
      ]
    },
    {
      "cell_type": "code",
      "execution_count": 18,
      "metadata": {
        "id": "8Foqg8JhAksQ"
      },
      "outputs": [],
      "source": [
        "model = build_model_2(features_train_try1.shape[1], \"linear\")"
      ]
    },
    {
      "cell_type": "markdown",
      "metadata": {
        "id": "Pl6f1wJQBX14"
      },
      "source": [
        "#### Model Summary and Structure Visualization\n",
        "\n",
        "Let's examine the summary of our compiled model and visualize its architecture.\n",
        "\n",
        "Given that the input data has 50 features and the first hidden layer consists of 64 neurons (each with weights $w$ and biases $b$), we have the following:\n",
        "\n",
        "- Number of parameters in the first hidden layer ($\\mathbf{w}_{h1}$): $50 \\times 64 = 3200$\n",
        "- Number of parameters in the first hidden layer biases ($\\mathbf{b}_{h1}$): $1 \\times 64 = 64$\n",
        "\n",
        "The second hidden layer is densly connected with the first one, therefore we have 64 \"inputs feature\" from the first hidden layer:\n",
        "\n",
        "- Number of parameters in the first hidden layer ($\\mathbf{w}_{h1}$): $64 \\times 64 = 4096$\n",
        "- Number of parameters in the first hidden layer biases ($\\mathbf{b}_{h1}$): $1 \\times 64 = 64$\n",
        "\n",
        "In addition, considering the output layer:\n",
        "\n",
        "- Number of parameters in the output layer weights ($\\mathbf{w}_{o}$): $64 \\times 1 = 64$\n",
        "- Number of parameters in the output layer biases ($\\mathbf{b}_{o}$): $64 \\times 1 = 1$\n",
        "\n",
        "This results in a total of $(3200 + 64) + (4096 +64\n",
        ") + (64+1) = 7489 $ degrees of freedom (dofs) within our model."
      ]
    },
    {
      "cell_type": "code",
      "execution_count": 19,
      "metadata": {
        "colab": {
          "base_uri": "https://localhost:8080/"
        },
        "id": "OswAkDOgCdOs",
        "outputId": "d91191bd-0f83-45c7-9b50-8a88af52f7b9"
      },
      "outputs": [
        {
          "output_type": "stream",
          "name": "stdout",
          "text": [
            "Model: \"sequential\"\n",
            "_________________________________________________________________\n",
            " Layer (type)                Output Shape              Param #   \n",
            "=================================================================\n",
            " hidden_layer_1 (Dense)      (None, 64)                3264      \n",
            "                                                                 \n",
            " hidden_layer_2 (Dense)      (None, 64)                4160      \n",
            "                                                                 \n",
            " output_layer (Dense)        (None, 1)                 65        \n",
            "                                                                 \n",
            "=================================================================\n",
            "Total params: 7489 (29.25 KB)\n",
            "Trainable params: 7489 (29.25 KB)\n",
            "Non-trainable params: 0 (0.00 Byte)\n",
            "_________________________________________________________________\n"
          ]
        }
      ],
      "source": [
        "model.summary()"
      ]
    },
    {
      "cell_type": "code",
      "execution_count": 20,
      "metadata": {
        "colab": {
          "base_uri": "https://localhost:8080/",
          "height": 118
        },
        "id": "FraaL19gBh0h",
        "outputId": "1ca0ecbd-1b98-482d-83d1-759f5a8e3534"
      },
      "outputs": [
        {
          "output_type": "execute_result",
          "data": {
            "image/png": "[encoded data removed]",
            "text/plain": [
              "<IPython.core.display.Image object>"
            ]
          },
          "metadata": {},
          "execution_count": 20
        }
      ],
      "source": [
        "tf.keras.utils.plot_model(\n",
        "    model=model, rankdir=\"LR\", dpi=72, show_shapes=True, show_layer_activations=True\n",
        ")"
      ]
    },
    {
      "cell_type": "markdown",
      "metadata": {
        "id": "-zMitJulAIVQ"
      },
      "source": [
        "#### Model Compilation\n",
        "\n",
        "Now we will compile our neural network model. Model compilation involves defining key components, such as the loss function, optimizer, learning rate, and metrics.\n",
        "\n",
        "##### Loss Function\n",
        "-#TODO\n",
        "```\n",
        "For our binary classification task, we use the Binary Cross-Entropy loss function. The *Binary Cross-Entropy* loss is calculated as:\n",
        "\n",
        "$\\text{Binary Cross-Entropy Loss} = -\\frac{1}{N}\\sum_{i=1}^{N}\\left(y_i \\log(p_i) + (1 - y_i) \\log(1 - p_i)\\right) $\n",
        "\n",
        "where $N$ is the number of samples, $y_i$ represents the true labels, and $p_i$ is the predicted probability of the positive class.\n",
        "```"
      ]
    },
    {
      "cell_type": "code",
      "execution_count": 21,
      "metadata": {
        "id": "oc5LQtQCAIVQ"
      },
      "outputs": [],
      "source": [
        "loss = losses.MeanAbsolutePercentageError()"
      ]
    },
    {
      "cell_type": "markdown",
      "metadata": {
        "id": "jYEWcIv0AIVQ"
      },
      "source": [
        "##### Optimizer\n",
        "\n",
        "We use the *Adam* optimizer, a popular choice for training neural networks. The [Adam optimization algorithm](https://doi.org/10.48550/arXiv.1412.6980) is a neural network-specific adaptation of the [Stochastic Gradient Descent (SGD)](https://en.wikipedia.org/wiki/Stochastic_gradient_descent) method."
      ]
    },
    {
      "cell_type": "code",
      "execution_count": 22,
      "metadata": {
        "id": "EY3DPOlKAIVQ"
      },
      "outputs": [],
      "source": [
        "optimizer = optimizers.Adam(learning_rate=1e-2, beta_1=0.9, beta_2=0.999, epsilon=1e-08)"
      ]
    },
    {
      "cell_type": "markdown",
      "metadata": {
        "id": "LM5JKUmNAIVQ"
      },
      "source": [
        "##### Metrics\n",
        "\n",
        "Metrics are functions needed to measure the behavior of our model. There are many to choose from depending on the task of the model. For our case:\n",
        "\n",
        "-#TODO\n",
        "```\n",
        "- **Accuracy**: This metric measures the overall classification accuracy of the model. It is calculated as the ratio of correct predictions to the total number of samples.\n",
        "\n",
        "- **Binary Accuracy**: It's a specific metric for binary classification tasks. We use a threshold of 0.5 to determine binary predictions. Binary accuracy is computed as:\n",
        "\n",
        "$ \\text{Accuracy} = \\frac{\\text{Number of Correct Predictions}}{\\text{Total Number of Predictions}} $\n",
        "```"
      ]
    },
    {
      "cell_type": "code",
      "execution_count": 23,
      "metadata": {
        "id": "3XIcDX88AIVR"
      },
      "outputs": [],
      "source": [
        "metrics = [\n",
        "    tf.keras.metrics.RootMeanSquaredError(),\n",
        "    tf.keras.metrics.MeanSquaredError(),\n",
        "]"
      ]
    },
    {
      "cell_type": "markdown",
      "metadata": {
        "id": "7RGVjl--AIVR"
      },
      "source": [
        "\n",
        "##### Compilation\n",
        "\n",
        "Finally, we compile the model by specifying the optimizer, loss function, and metrics."
      ]
    },
    {
      "cell_type": "code",
      "execution_count": 24,
      "metadata": {
        "id": "KHXgUnqbAIVR"
      },
      "outputs": [],
      "source": [
        "model.compile(\n",
        "    optimizer,\n",
        "    loss,\n",
        "    metrics,\n",
        ")"
      ]
    },
    {
      "cell_type": "markdown",
      "metadata": {
        "id": "pBArdA58HErL"
      },
      "source": [
        "#### Training\n",
        "In training, we define two key parameters:"
      ]
    },
    {
      "cell_type": "code",
      "execution_count": 27,
      "metadata": {
        "id": "ULdIIY_fHKBx"
      },
      "outputs": [],
      "source": [
        "batch_size = 512\n",
        "epochs = 1000"
      ]
    },
    {
      "cell_type": "markdown",
      "metadata": {
        "id": "Lhj7X3CiAIVS"
      },
      "source": [
        "* **Batch Size**: It specifies the number of training examples used in each iteration. A smaller batch size updates the model more frequently, while a larger one may improve training efficiency but requiring more volatile memory (RAM).\n",
        "\n",
        "* **Epochs**: Each epoch represents one pass through the entire training dataset. It controls how many times the model iterates over the data, influencing convergence and potential overfitting."
      ]
    },
    {
      "cell_type": "markdown",
      "metadata": {
        "id": "7uF9yyCmAIVS"
      },
      "source": [
        "Let's (finally) start the training process."
      ]
    },
    {
      "cell_type": "code",
      "execution_count": 28,
      "metadata": {
        "colab": {
          "base_uri": "https://localhost:8080/"
        },
        "id": "2Uz4jwPtHGB7",
        "outputId": "be5470e4-f980-4620-ab13-fcac58270892"
      },
      "outputs": [
        {
          "output_type": "stream",
          "name": "stdout",
          "text": [
            "Epoch 1/100\n",
            "63/63 [==============================] - 3s 19ms/step - loss: 99.7394 - root_mean_squared_error: 484457.4375 - mean_squared_error: 234698997760.0000 - val_loss: 99.1948 - val_root_mean_squared_error: 476955.9375 - val_mean_squared_error: 227486957568.0000\n",
            "Epoch 2/100\n",
            "63/63 [==============================] - 0s 6ms/step - loss: 96.4063 - root_mean_squared_error: 469893.9062 - mean_squared_error: 220800270336.0000 - val_loss: 90.3565 - val_root_mean_squared_error: 435310.3438 - val_mean_squared_error: 189495083008.0000\n",
            "Epoch 3/100\n",
            "63/63 [==============================] - 0s 5ms/step - loss: 73.0978 - root_mean_squared_error: 370430.7188 - mean_squared_error: 137218908160.0000 - val_loss: 61.1362 - val_root_mean_squared_error: 326480.9375 - val_mean_squared_error: 106589798400.0000\n",
            "Epoch 4/100\n",
            "63/63 [==============================] - 0s 5ms/step - loss: 61.3011 - root_mean_squared_error: 344181.0625 - mean_squared_error: 118460612608.0000 - val_loss: 60.3521 - val_root_mean_squared_error: 331795.3750 - val_mean_squared_error: 110088167424.0000\n",
            "Epoch 5/100\n",
            "63/63 [==============================] - 0s 5ms/step - loss: 61.2728 - root_mean_squared_error: 344657.9062 - mean_squared_error: 118789062656.0000 - val_loss: 60.2090 - val_root_mean_squared_error: 332011.1250 - val_mean_squared_error: 110231396352.0000\n",
            "Epoch 6/100\n",
            "63/63 [==============================] - 0s 8ms/step - loss: 61.1775 - root_mean_squared_error: 346543.0938 - mean_squared_error: 120092114944.0000 - val_loss: 59.8211 - val_root_mean_squared_error: 331189.5938 - val_mean_squared_error: 109686546432.0000\n",
            "Epoch 7/100\n",
            "63/63 [==============================] - 1s 9ms/step - loss: 60.8110 - root_mean_squared_error: 345859.8438 - mean_squared_error: 119619035136.0000 - val_loss: 60.3700 - val_root_mean_squared_error: 331467.6562 - val_mean_squared_error: 109870817280.0000\n",
            "Epoch 8/100\n",
            "63/63 [==============================] - 0s 7ms/step - loss: 60.9683 - root_mean_squared_error: 347550.6875 - mean_squared_error: 120791490560.0000 - val_loss: 60.0393 - val_root_mean_squared_error: 330779.4062 - val_mean_squared_error: 109415014400.0000\n",
            "Epoch 9/100\n",
            "63/63 [==============================] - 0s 7ms/step - loss: 61.0852 - root_mean_squared_error: 344895.1562 - mean_squared_error: 118952665088.0000 - val_loss: 59.7819 - val_root_mean_squared_error: 332351.2500 - val_mean_squared_error: 110457348096.0000\n",
            "Epoch 10/100\n",
            "63/63 [==============================] - 0s 8ms/step - loss: 61.0083 - root_mean_squared_error: 346230.4375 - mean_squared_error: 119875526656.0000 - val_loss: 60.5761 - val_root_mean_squared_error: 331576.0938 - val_mean_squared_error: 109942710272.0000\n",
            "Epoch 11/100\n",
            "63/63 [==============================] - 0s 7ms/step - loss: 60.5720 - root_mean_squared_error: 346988.0938 - mean_squared_error: 120400740352.0000 - val_loss: 59.8534 - val_root_mean_squared_error: 331516.3438 - val_mean_squared_error: 109903093760.0000\n",
            "Epoch 12/100\n",
            "63/63 [==============================] - 0s 5ms/step - loss: 60.8985 - root_mean_squared_error: 346653.8750 - mean_squared_error: 120168898560.0000 - val_loss: 59.7929 - val_root_mean_squared_error: 335593.7188 - val_mean_squared_error: 112623140864.0000\n",
            "Epoch 13/100\n",
            "63/63 [==============================] - 0s 5ms/step - loss: 61.0429 - root_mean_squared_error: 346981.4688 - mean_squared_error: 120396136448.0000 - val_loss: 59.5756 - val_root_mean_squared_error: 335114.8438 - val_mean_squared_error: 112301957120.0000\n",
            "Epoch 14/100\n",
            "63/63 [==============================] - 0s 5ms/step - loss: 60.8220 - root_mean_squared_error: 347313.0625 - mean_squared_error: 120626372608.0000 - val_loss: 59.6849 - val_root_mean_squared_error: 332442.2500 - val_mean_squared_error: 110517854208.0000\n",
            "Epoch 15/100\n",
            "63/63 [==============================] - 0s 5ms/step - loss: 60.4315 - root_mean_squared_error: 346988.5312 - mean_squared_error: 120401043456.0000 - val_loss: 59.8991 - val_root_mean_squared_error: 333547.2812 - val_mean_squared_error: 111253790720.0000\n",
            "Epoch 16/100\n",
            "63/63 [==============================] - 0s 5ms/step - loss: 60.7162 - root_mean_squared_error: 348061.7812 - mean_squared_error: 121146998784.0000 - val_loss: 60.1509 - val_root_mean_squared_error: 331556.4375 - val_mean_squared_error: 109929668608.0000\n",
            "Epoch 17/100\n",
            "63/63 [==============================] - 0s 5ms/step - loss: 60.7893 - root_mean_squared_error: 347789.9688 - mean_squared_error: 120957870080.0000 - val_loss: 59.4049 - val_root_mean_squared_error: 332545.1562 - val_mean_squared_error: 110586273792.0000\n",
            "Epoch 18/100\n",
            "63/63 [==============================] - 0s 5ms/step - loss: 61.2926 - root_mean_squared_error: 345516.3125 - mean_squared_error: 119381516288.0000 - val_loss: 61.2966 - val_root_mean_squared_error: 335025.2188 - val_mean_squared_error: 112241893376.0000\n",
            "Epoch 19/100\n",
            "63/63 [==============================] - 0s 5ms/step - loss: 61.7832 - root_mean_squared_error: 351382.8750 - mean_squared_error: 123469914112.0000 - val_loss: 60.2221 - val_root_mean_squared_error: 333242.7812 - val_mean_squared_error: 111050743808.0000\n",
            "Epoch 20/100\n",
            "63/63 [==============================] - 0s 5ms/step - loss: 60.8442 - root_mean_squared_error: 347619.6875 - mean_squared_error: 120839446528.0000 - val_loss: 59.7678 - val_root_mean_squared_error: 333611.5938 - val_mean_squared_error: 111296700416.0000\n",
            "Epoch 21/100\n",
            "63/63 [==============================] - 0s 5ms/step - loss: 60.4929 - root_mean_squared_error: 347513.8125 - mean_squared_error: 120765841408.0000 - val_loss: 60.1616 - val_root_mean_squared_error: 334513.1562 - val_mean_squared_error: 111899041792.0000\n",
            "Epoch 22/100\n",
            "63/63 [==============================] - 0s 5ms/step - loss: 60.8805 - root_mean_squared_error: 349301.7812 - mean_squared_error: 122011729920.0000 - val_loss: 59.8639 - val_root_mean_squared_error: 331368.7500 - val_mean_squared_error: 109805240320.0000\n",
            "Epoch 23/100\n",
            "63/63 [==============================] - 0s 5ms/step - loss: 60.2929 - root_mean_squared_error: 347296.9688 - mean_squared_error: 120615182336.0000 - val_loss: 59.8759 - val_root_mean_squared_error: 331912.2812 - val_mean_squared_error: 110165762048.0000\n",
            "Epoch 24/100\n",
            "63/63 [==============================] - 0s 5ms/step - loss: 61.0036 - root_mean_squared_error: 348944.8438 - mean_squared_error: 121762496512.0000 - val_loss: 59.8405 - val_root_mean_squared_error: 331920.2812 - val_mean_squared_error: 110171078656.0000\n",
            "Epoch 25/100\n",
            "63/63 [==============================] - 0s 5ms/step - loss: 62.1186 - root_mean_squared_error: 347024.2188 - mean_squared_error: 120425807872.0000 - val_loss: 60.5143 - val_root_mean_squared_error: 335837.5000 - val_mean_squared_error: 112786833408.0000\n",
            "Epoch 26/100\n",
            "63/63 [==============================] - 0s 5ms/step - loss: 60.8655 - root_mean_squared_error: 349152.3438 - mean_squared_error: 121907355648.0000 - val_loss: 59.8424 - val_root_mean_squared_error: 335552.5938 - val_mean_squared_error: 112595533824.0000\n",
            "Epoch 27/100\n",
            "63/63 [==============================] - 0s 5ms/step - loss: 60.5992 - root_mean_squared_error: 348569.2812 - mean_squared_error: 121500549120.0000 - val_loss: 60.0411 - val_root_mean_squared_error: 332581.9688 - val_mean_squared_error: 110610759680.0000\n",
            "Epoch 28/100\n",
            "63/63 [==============================] - 0s 5ms/step - loss: 60.7892 - root_mean_squared_error: 349644.0938 - mean_squared_error: 122250985472.0000 - val_loss: 59.7601 - val_root_mean_squared_error: 334286.8125 - val_mean_squared_error: 111747678208.0000\n",
            "Epoch 29/100\n",
            "63/63 [==============================] - 0s 5ms/step - loss: 60.5000 - root_mean_squared_error: 349955.4688 - mean_squared_error: 122468835328.0000 - val_loss: 59.9021 - val_root_mean_squared_error: 332627.2500 - val_mean_squared_error: 110640881664.0000\n",
            "Epoch 30/100\n",
            "63/63 [==============================] - 0s 5ms/step - loss: 60.4105 - root_mean_squared_error: 349210.9688 - mean_squared_error: 121948299264.0000 - val_loss: 60.3836 - val_root_mean_squared_error: 329289.9062 - val_mean_squared_error: 108431851520.0000\n",
            "Epoch 31/100\n",
            "63/63 [==============================] - 0s 6ms/step - loss: 60.8239 - root_mean_squared_error: 347612.5625 - mean_squared_error: 120834498560.0000 - val_loss: 59.6646 - val_root_mean_squared_error: 332864.3750 - val_mean_squared_error: 110798700544.0000\n",
            "Epoch 32/100\n",
            "63/63 [==============================] - 0s 6ms/step - loss: 60.4696 - root_mean_squared_error: 349476.3125 - mean_squared_error: 122133684224.0000 - val_loss: 59.7705 - val_root_mean_squared_error: 334455.4062 - val_mean_squared_error: 111860408320.0000\n",
            "Epoch 33/100\n",
            "63/63 [==============================] - 0s 6ms/step - loss: 61.7761 - root_mean_squared_error: 349335.9062 - mean_squared_error: 122035568640.0000 - val_loss: 60.3756 - val_root_mean_squared_error: 333913.4375 - val_mean_squared_error: 111498182656.0000\n",
            "Epoch 34/100\n",
            "63/63 [==============================] - 0s 5ms/step - loss: 60.4941 - root_mean_squared_error: 349933.7500 - mean_squared_error: 122453630976.0000 - val_loss: 60.3422 - val_root_mean_squared_error: 330790.9062 - val_mean_squared_error: 109422632960.0000\n",
            "Epoch 35/100\n",
            "63/63 [==============================] - 0s 5ms/step - loss: 60.5135 - root_mean_squared_error: 347553.2812 - mean_squared_error: 120793284608.0000 - val_loss: 60.0603 - val_root_mean_squared_error: 340103.7812 - val_mean_squared_error: 115670581248.0000\n",
            "Epoch 36/100\n",
            "63/63 [==============================] - 0s 5ms/step - loss: 60.7510 - root_mean_squared_error: 351015.3750 - mean_squared_error: 123211784192.0000 - val_loss: 59.9893 - val_root_mean_squared_error: 330390.5625 - val_mean_squared_error: 109157916672.0000\n",
            "Epoch 37/100\n",
            "63/63 [==============================] - 0s 5ms/step - loss: 60.5799 - root_mean_squared_error: 348249.7812 - mean_squared_error: 121277906944.0000 - val_loss: 59.6941 - val_root_mean_squared_error: 329395.8125 - val_mean_squared_error: 108501598208.0000\n",
            "Epoch 38/100\n",
            "63/63 [==============================] - 0s 5ms/step - loss: 60.2561 - root_mean_squared_error: 349457.6562 - mean_squared_error: 122120658944.0000 - val_loss: 60.4397 - val_root_mean_squared_error: 335309.7812 - val_mean_squared_error: 112432644096.0000\n",
            "Epoch 39/100\n",
            "63/63 [==============================] - 0s 5ms/step - loss: 60.6412 - root_mean_squared_error: 347591.5312 - mean_squared_error: 120819867648.0000 - val_loss: 60.2023 - val_root_mean_squared_error: 337686.6250 - val_mean_squared_error: 114032254976.0000\n",
            "Epoch 40/100\n",
            "63/63 [==============================] - 1s 8ms/step - loss: 60.7690 - root_mean_squared_error: 350040.2500 - mean_squared_error: 122528186368.0000 - val_loss: 59.6826 - val_root_mean_squared_error: 334810.7812 - val_mean_squared_error: 112098263040.0000\n",
            "Epoch 41/100\n",
            "63/63 [==============================] - 1s 14ms/step - loss: 60.5381 - root_mean_squared_error: 350055.0000 - mean_squared_error: 122538500096.0000 - val_loss: 59.3586 - val_root_mean_squared_error: 334073.3125 - val_mean_squared_error: 111604981760.0000\n",
            "Epoch 42/100\n",
            "63/63 [==============================] - 1s 12ms/step - loss: 60.6394 - root_mean_squared_error: 350693.9688 - mean_squared_error: 122986250240.0000 - val_loss: 59.6169 - val_root_mean_squared_error: 331198.5938 - val_mean_squared_error: 109692510208.0000\n",
            "Epoch 43/100\n",
            "63/63 [==============================] - 1s 15ms/step - loss: 60.2138 - root_mean_squared_error: 349316.9062 - mean_squared_error: 122022305792.0000 - val_loss: 60.2701 - val_root_mean_squared_error: 332777.5312 - val_mean_squared_error: 110740889600.0000\n",
            "Epoch 44/100\n",
            "63/63 [==============================] - 1s 9ms/step - loss: 60.6728 - root_mean_squared_error: 348507.2812 - mean_squared_error: 121457319936.0000 - val_loss: 60.2454 - val_root_mean_squared_error: 336719.5312 - val_mean_squared_error: 113380048896.0000\n",
            "Epoch 45/100\n",
            "63/63 [==============================] - 0s 8ms/step - loss: 60.5391 - root_mean_squared_error: 350976.0938 - mean_squared_error: 123184218112.0000 - val_loss: 59.4486 - val_root_mean_squared_error: 333955.1875 - val_mean_squared_error: 111526060032.0000\n",
            "Epoch 46/100\n",
            "63/63 [==============================] - 0s 6ms/step - loss: 60.5678 - root_mean_squared_error: 350607.5000 - mean_squared_error: 122925629440.0000 - val_loss: 59.7019 - val_root_mean_squared_error: 335903.0938 - val_mean_squared_error: 112830889984.0000\n",
            "Epoch 47/100\n",
            "63/63 [==============================] - 0s 5ms/step - loss: 60.4546 - root_mean_squared_error: 349450.9688 - mean_squared_error: 122115973120.0000 - val_loss: 59.7804 - val_root_mean_squared_error: 336251.4688 - val_mean_squared_error: 113065041920.0000\n",
            "Epoch 48/100\n",
            "63/63 [==============================] - 0s 6ms/step - loss: 60.8328 - root_mean_squared_error: 348792.7812 - mean_squared_error: 121656401920.0000 - val_loss: 60.1645 - val_root_mean_squared_error: 336228.7188 - val_mean_squared_error: 113049755648.0000\n",
            "Epoch 49/100\n",
            "63/63 [==============================] - 0s 7ms/step - loss: 60.8601 - root_mean_squared_error: 351077.0938 - mean_squared_error: 123255136256.0000 - val_loss: 59.5280 - val_root_mean_squared_error: 332227.6562 - val_mean_squared_error: 110375223296.0000\n",
            "Epoch 50/100\n",
            "63/63 [==============================] - 0s 7ms/step - loss: 60.4680 - root_mean_squared_error: 349902.9375 - mean_squared_error: 122432069632.0000 - val_loss: 59.6706 - val_root_mean_squared_error: 339774.0312 - val_mean_squared_error: 115446382592.0000\n",
            "Epoch 51/100\n",
            "63/63 [==============================] - 0s 6ms/step - loss: 60.3981 - root_mean_squared_error: 351387.5938 - mean_squared_error: 123473231872.0000 - val_loss: 59.2534 - val_root_mean_squared_error: 332508.3125 - val_mean_squared_error: 110561787904.0000\n",
            "Epoch 52/100\n",
            "63/63 [==============================] - 0s 6ms/step - loss: 60.2836 - root_mean_squared_error: 350520.8125 - mean_squared_error: 122864836608.0000 - val_loss: 60.1141 - val_root_mean_squared_error: 335756.7500 - val_mean_squared_error: 112732585984.0000\n",
            "Epoch 53/100\n",
            "63/63 [==============================] - 0s 6ms/step - loss: 60.8369 - root_mean_squared_error: 349649.7188 - mean_squared_error: 122254925824.0000 - val_loss: 59.5000 - val_root_mean_squared_error: 335701.9688 - val_mean_squared_error: 112695820288.0000\n",
            "Epoch 54/100\n",
            "63/63 [==============================] - 0s 7ms/step - loss: 60.4071 - root_mean_squared_error: 350282.7188 - mean_squared_error: 122697981952.0000 - val_loss: 59.7138 - val_root_mean_squared_error: 336908.2812 - val_mean_squared_error: 113507196928.0000\n",
            "Epoch 55/100\n",
            "63/63 [==============================] - 0s 7ms/step - loss: 60.3660 - root_mean_squared_error: 351245.1562 - mean_squared_error: 123373158400.0000 - val_loss: 59.7419 - val_root_mean_squared_error: 332244.8125 - val_mean_squared_error: 110386610176.0000\n",
            "Epoch 56/100\n",
            "63/63 [==============================] - 0s 6ms/step - loss: 60.4824 - root_mean_squared_error: 350348.0938 - mean_squared_error: 122743783424.0000 - val_loss: 59.8788 - val_root_mean_squared_error: 337050.6875 - val_mean_squared_error: 113603158016.0000\n",
            "Epoch 57/100\n",
            "63/63 [==============================] - 0s 5ms/step - loss: 60.6529 - root_mean_squared_error: 349540.0625 - mean_squared_error: 122178265088.0000 - val_loss: 59.9070 - val_root_mean_squared_error: 338523.3125 - val_mean_squared_error: 114598043648.0000\n",
            "Epoch 58/100\n",
            "63/63 [==============================] - 0s 6ms/step - loss: 60.8294 - root_mean_squared_error: 349984.8438 - mean_squared_error: 122489380864.0000 - val_loss: 60.6908 - val_root_mean_squared_error: 329689.2500 - val_mean_squared_error: 108695003136.0000\n",
            "Epoch 59/100\n",
            "63/63 [==============================] - 0s 7ms/step - loss: 61.2420 - root_mean_squared_error: 352419.8125 - mean_squared_error: 124199714816.0000 - val_loss: 59.7348 - val_root_mean_squared_error: 336528.8438 - val_mean_squared_error: 113251672064.0000\n",
            "Epoch 60/100\n",
            "63/63 [==============================] - 0s 6ms/step - loss: 60.3252 - root_mean_squared_error: 351364.8438 - mean_squared_error: 123457249280.0000 - val_loss: 59.4560 - val_root_mean_squared_error: 335189.2812 - val_mean_squared_error: 112351854592.0000\n",
            "Epoch 61/100\n",
            "63/63 [==============================] - 0s 7ms/step - loss: 60.5022 - root_mean_squared_error: 349740.5000 - mean_squared_error: 122318413824.0000 - val_loss: 59.3172 - val_root_mean_squared_error: 341134.7188 - val_mean_squared_error: 116372905984.0000\n",
            "Epoch 62/100\n",
            "63/63 [==============================] - 0s 8ms/step - loss: 60.3553 - root_mean_squared_error: 349221.4062 - mean_squared_error: 121955581952.0000 - val_loss: 59.8325 - val_root_mean_squared_error: 334395.0625 - val_mean_squared_error: 111820062720.0000\n",
            "Epoch 63/100\n",
            "63/63 [==============================] - 0s 7ms/step - loss: 60.5793 - root_mean_squared_error: 352187.4688 - mean_squared_error: 124036005888.0000 - val_loss: 59.3379 - val_root_mean_squared_error: 335113.3750 - val_mean_squared_error: 112300965888.0000\n",
            "Epoch 64/100\n",
            "63/63 [==============================] - 0s 5ms/step - loss: 60.4219 - root_mean_squared_error: 351108.3438 - mean_squared_error: 123277066240.0000 - val_loss: 59.6453 - val_root_mean_squared_error: 333708.3750 - val_mean_squared_error: 111361269760.0000\n",
            "Epoch 65/100\n",
            "63/63 [==============================] - 0s 6ms/step - loss: 60.5646 - root_mean_squared_error: 351169.1250 - mean_squared_error: 123319754752.0000 - val_loss: 59.5808 - val_root_mean_squared_error: 333040.7188 - val_mean_squared_error: 110916124672.0000\n",
            "Epoch 66/100\n",
            "63/63 [==============================] - 0s 7ms/step - loss: 60.4949 - root_mean_squared_error: 350838.9062 - mean_squared_error: 123087937536.0000 - val_loss: 59.3746 - val_root_mean_squared_error: 334778.6562 - val_mean_squared_error: 112076742656.0000\n",
            "Epoch 67/100\n",
            "63/63 [==============================] - 0s 6ms/step - loss: 60.3765 - root_mean_squared_error: 351514.4688 - mean_squared_error: 123562426368.0000 - val_loss: 60.2870 - val_root_mean_squared_error: 332625.0625 - val_mean_squared_error: 110639439872.0000\n",
            "Epoch 68/100\n",
            "63/63 [==============================] - 0s 7ms/step - loss: 61.1429 - root_mean_squared_error: 349938.2188 - mean_squared_error: 122456760320.0000 - val_loss: 59.4376 - val_root_mean_squared_error: 332200.3750 - val_mean_squared_error: 110357086208.0000\n",
            "Epoch 69/100\n",
            "63/63 [==============================] - 1s 9ms/step - loss: 60.6191 - root_mean_squared_error: 350227.8750 - mean_squared_error: 122659569664.0000 - val_loss: 59.8968 - val_root_mean_squared_error: 335386.6250 - val_mean_squared_error: 112484188160.0000\n",
            "Epoch 70/100\n",
            "63/63 [==============================] - 1s 10ms/step - loss: 60.3243 - root_mean_squared_error: 351031.2188 - mean_squared_error: 123222917120.0000 - val_loss: 59.9306 - val_root_mean_squared_error: 335240.6250 - val_mean_squared_error: 112386277376.0000\n",
            "Epoch 71/100\n",
            "63/63 [==============================] - 1s 11ms/step - loss: 60.4083 - root_mean_squared_error: 350425.6562 - mean_squared_error: 122798145536.0000 - val_loss: 59.6419 - val_root_mean_squared_error: 334326.4375 - val_mean_squared_error: 111774162944.0000\n",
            "Epoch 72/100\n",
            "63/63 [==============================] - 1s 10ms/step - loss: 60.5471 - root_mean_squared_error: 350498.0000 - mean_squared_error: 122848845824.0000 - val_loss: 59.3954 - val_root_mean_squared_error: 335692.3438 - val_mean_squared_error: 112689356800.0000\n",
            "Epoch 73/100\n",
            "63/63 [==============================] - 0s 8ms/step - loss: 60.4697 - root_mean_squared_error: 351070.0625 - mean_squared_error: 123250196480.0000 - val_loss: 59.8325 - val_root_mean_squared_error: 336637.4375 - val_mean_squared_error: 113324761088.0000\n",
            "Epoch 74/100\n",
            "63/63 [==============================] - 0s 6ms/step - loss: 60.4714 - root_mean_squared_error: 351366.1250 - mean_squared_error: 123458150400.0000 - val_loss: 59.7219 - val_root_mean_squared_error: 332366.9688 - val_mean_squared_error: 110467801088.0000\n",
            "Epoch 75/100\n",
            "63/63 [==============================] - 0s 6ms/step - loss: 60.5433 - root_mean_squared_error: 350403.0000 - mean_squared_error: 122782253056.0000 - val_loss: 59.2348 - val_root_mean_squared_error: 335278.2188 - val_mean_squared_error: 112411475968.0000\n",
            "Epoch 76/100\n",
            "63/63 [==============================] - 0s 6ms/step - loss: 60.4597 - root_mean_squared_error: 352284.5938 - mean_squared_error: 124104441856.0000 - val_loss: 59.2123 - val_root_mean_squared_error: 338572.7188 - val_mean_squared_error: 114631483392.0000\n",
            "Epoch 77/100\n",
            "63/63 [==============================] - 0s 6ms/step - loss: 60.3533 - root_mean_squared_error: 351667.8125 - mean_squared_error: 123670249472.0000 - val_loss: 59.3154 - val_root_mean_squared_error: 332339.4375 - val_mean_squared_error: 110449508352.0000\n",
            "Epoch 78/100\n",
            "63/63 [==============================] - 0s 7ms/step - loss: 60.7689 - root_mean_squared_error: 347896.3438 - mean_squared_error: 121031876608.0000 - val_loss: 60.3299 - val_root_mean_squared_error: 336207.0625 - val_mean_squared_error: 113035182080.0000\n",
            "Epoch 79/100\n",
            "63/63 [==============================] - 1s 10ms/step - loss: 60.9427 - root_mean_squared_error: 352103.5938 - mean_squared_error: 123976933376.0000 - val_loss: 59.3479 - val_root_mean_squared_error: 336366.4688 - val_mean_squared_error: 113142398976.0000\n",
            "Epoch 80/100\n",
            "63/63 [==============================] - 1s 14ms/step - loss: 60.4066 - root_mean_squared_error: 350718.5625 - mean_squared_error: 123003502592.0000 - val_loss: 59.1713 - val_root_mean_squared_error: 339621.8750 - val_mean_squared_error: 115343007744.0000\n",
            "Epoch 81/100\n",
            "63/63 [==============================] - 1s 9ms/step - loss: 60.2889 - root_mean_squared_error: 351691.7188 - mean_squared_error: 123687059456.0000 - val_loss: 59.7578 - val_root_mean_squared_error: 333116.4062 - val_mean_squared_error: 110966538240.0000\n",
            "Epoch 82/100\n",
            "63/63 [==============================] - 1s 9ms/step - loss: 60.3004 - root_mean_squared_error: 352036.0312 - mean_squared_error: 123929362432.0000 - val_loss: 59.8639 - val_root_mean_squared_error: 330474.3125 - val_mean_squared_error: 109213261824.0000\n",
            "Epoch 83/100\n",
            "63/63 [==============================] - 0s 5ms/step - loss: 60.4409 - root_mean_squared_error: 349353.9375 - mean_squared_error: 122048167936.0000 - val_loss: 59.1190 - val_root_mean_squared_error: 336883.5625 - val_mean_squared_error: 113490526208.0000\n",
            "Epoch 84/100\n",
            "63/63 [==============================] - 0s 6ms/step - loss: 60.6438 - root_mean_squared_error: 351749.2188 - mean_squared_error: 123727511552.0000 - val_loss: 59.6363 - val_root_mean_squared_error: 334661.4062 - val_mean_squared_error: 111998263296.0000\n",
            "Epoch 85/100\n",
            "63/63 [==============================] - 0s 8ms/step - loss: 60.3227 - root_mean_squared_error: 351545.5312 - mean_squared_error: 123584258048.0000 - val_loss: 59.4046 - val_root_mean_squared_error: 341194.0312 - val_mean_squared_error: 116413374464.0000\n",
            "Epoch 86/100\n",
            "63/63 [==============================] - 1s 8ms/step - loss: 60.4011 - root_mean_squared_error: 350844.8750 - mean_squared_error: 123092115456.0000 - val_loss: 59.9738 - val_root_mean_squared_error: 334641.3125 - val_mean_squared_error: 111984812032.0000\n",
            "Epoch 87/100\n",
            "63/63 [==============================] - 0s 6ms/step - loss: 60.5218 - root_mean_squared_error: 350531.0312 - mean_squared_error: 122871996416.0000 - val_loss: 59.7730 - val_root_mean_squared_error: 337852.5000 - val_mean_squared_error: 114144321536.0000\n",
            "Epoch 88/100\n",
            "63/63 [==============================] - 1s 11ms/step - loss: 60.4832 - root_mean_squared_error: 351776.9062 - mean_squared_error: 123746992128.0000 - val_loss: 59.1152 - val_root_mean_squared_error: 336705.3125 - val_mean_squared_error: 113370472448.0000\n",
            "Epoch 89/100\n",
            "63/63 [==============================] - 1s 10ms/step - loss: 60.3325 - root_mean_squared_error: 351097.0312 - mean_squared_error: 123269120000.0000 - val_loss: 59.9463 - val_root_mean_squared_error: 334203.1250 - val_mean_squared_error: 111691735040.0000\n",
            "Epoch 90/100\n",
            "63/63 [==============================] - 1s 11ms/step - loss: 60.2733 - root_mean_squared_error: 350251.1562 - mean_squared_error: 122675863552.0000 - val_loss: 59.8993 - val_root_mean_squared_error: 332789.0625 - val_mean_squared_error: 110748557312.0000\n",
            "Epoch 91/100\n",
            "63/63 [==============================] - 1s 10ms/step - loss: 60.5457 - root_mean_squared_error: 351884.5000 - mean_squared_error: 123822710784.0000 - val_loss: 59.4159 - val_root_mean_squared_error: 335299.5938 - val_mean_squared_error: 112425820160.0000\n",
            "Epoch 92/100\n",
            "63/63 [==============================] - 1s 11ms/step - loss: 60.3061 - root_mean_squared_error: 349247.3125 - mean_squared_error: 121973686272.0000 - val_loss: 59.4011 - val_root_mean_squared_error: 341268.0938 - val_mean_squared_error: 116463902720.0000\n",
            "Epoch 93/100\n",
            "63/63 [==============================] - 1s 14ms/step - loss: 61.0551 - root_mean_squared_error: 351798.3438 - mean_squared_error: 123762065408.0000 - val_loss: 60.4851 - val_root_mean_squared_error: 338274.5938 - val_mean_squared_error: 114429698048.0000\n",
            "Epoch 94/100\n",
            "63/63 [==============================] - 1s 13ms/step - loss: 61.1503 - root_mean_squared_error: 352395.0312 - mean_squared_error: 124182257664.0000 - val_loss: 59.6227 - val_root_mean_squared_error: 337368.4688 - val_mean_squared_error: 113817477120.0000\n",
            "Epoch 95/100\n",
            "63/63 [==============================] - 1s 13ms/step - loss: 60.4894 - root_mean_squared_error: 350918.4375 - mean_squared_error: 123143749632.0000 - val_loss: 59.5434 - val_root_mean_squared_error: 336308.1250 - val_mean_squared_error: 113103151104.0000\n",
            "Epoch 96/100\n",
            "63/63 [==============================] - 1s 10ms/step - loss: 60.1631 - root_mean_squared_error: 350826.6875 - mean_squared_error: 123079360512.0000 - val_loss: 59.5934 - val_root_mean_squared_error: 337010.7188 - val_mean_squared_error: 113576214528.0000\n",
            "Epoch 97/100\n",
            "63/63 [==============================] - 1s 9ms/step - loss: 60.2772 - root_mean_squared_error: 350634.9375 - mean_squared_error: 122944856064.0000 - val_loss: 59.3074 - val_root_mean_squared_error: 336193.6250 - val_mean_squared_error: 113026146304.0000\n",
            "Epoch 98/100\n",
            "63/63 [==============================] - 1s 8ms/step - loss: 60.6022 - root_mean_squared_error: 351720.0000 - mean_squared_error: 123706949632.0000 - val_loss: 59.7198 - val_root_mean_squared_error: 338986.7188 - val_mean_squared_error: 114911985664.0000\n",
            "Epoch 99/100\n",
            "63/63 [==============================] - 1s 8ms/step - loss: 60.4956 - root_mean_squared_error: 350830.5312 - mean_squared_error: 123082072064.0000 - val_loss: 59.4913 - val_root_mean_squared_error: 337770.6250 - val_mean_squared_error: 114088984576.0000\n",
            "Epoch 100/100\n",
            "63/63 [==============================] - 0s 5ms/step - loss: 60.4658 - root_mean_squared_error: 351742.6875 - mean_squared_error: 123722924032.0000 - val_loss: 59.3706 - val_root_mean_squared_error: 335448.0000 - val_mean_squared_error: 112525352960.0000\n"
          ]
        }
      ],
      "source": [
        "with strategy.scope():\n",
        "    # These initial lines of code are repeated because they need to be defined\n",
        "    # inside the parallelization context to efficiently utilize the GPU/TPU.\n",
        "\n",
        "    # Step 1: Building the Model\n",
        "    model = build_model_2(features_train_try1.shape[1], \"linear\")\n",
        "\n",
        "    # Step 2: Compiling the Model\n",
        "    loss = losses.MeanAbsolutePercentageError()\n",
        "    optimizer = optimizers.Adam(\n",
        "        learning_rate=1e-2, beta_1=0.9, beta_2=0.999, epsilon=1e-08\n",
        "    )\n",
        "    metrics = [\n",
        "        tf.keras.metrics.RootMeanSquaredError(),\n",
        "        tf.keras.metrics.MeanSquaredError(),\n",
        "    ]\n",
        "    model.compile(\n",
        "        optimizer,\n",
        "        loss,\n",
        "        metrics,\n",
        "    )\n",
        "\n",
        "    # Step 3: Training the Model\n",
        "    history = model.fit(\n",
        "        np.array(\n",
        "            features_train_try1\n",
        "        ),  # Convert the data into an array before feeding it\n",
        "        np.array(labels_train_try1).astype(\"float\"),\n",
        "        batch_size,\n",
        "        epochs,\n",
        "        validation_data=(\n",
        "            np.array(features_test_try1),\n",
        "            np.array(labels_test_try1).astype(\"float\"),\n",
        "        ),  # Validation set\n",
        "        verbose=1,  # 0 = silent, 1 = progress bar, 2 = one line per epoch\n",
        "    )"
      ]
    },
    {
      "cell_type": "markdown",
      "metadata": {
        "id": "-loZjQNrOjLN"
      },
      "source": [
        "#### Plot Training Progress\n",
        "\n",
        "Now, we can plot the training progress."
      ]
    },
    {
      "cell_type": "code",
      "execution_count": 29,
      "metadata": {
        "cellView": "form",
        "id": "fmr964txXvVU"
      },
      "outputs": [],
      "source": [
        "# @title Ausiliar plot function\n",
        "\n",
        "\n",
        "def plot_training(\n",
        "    ax,\n",
        "    ax_twin,\n",
        "    history,\n",
        "    metric=\"root_mean_squared_error\",\n",
        "    metric_label=\"RMSE\",\n",
        "    halflife=25,\n",
        "):\n",
        "    ax.plot(history.index, history[metric], color=\"k\", ls=\"-\", alpha=0.25)\n",
        "    a1 = ax.plot(\n",
        "        history.index,\n",
        "        history[metric].ewm(halflife=halflife).mean(),\n",
        "        color=\"k\",\n",
        "        ls=\"-\",\n",
        "        label=metric_label + \" (train)\",\n",
        "    )\n",
        "    ax.plot(history.index, history[\"val_\" + metric], color=\"k\", ls=\"--\", alpha=0.25)\n",
        "    a2 = ax.plot(\n",
        "        history.index,\n",
        "        history[\"val_\" + metric].ewm(halflife=halflife).mean(),\n",
        "        color=\"k\",\n",
        "        ls=\"--\",\n",
        "        label=metric_label + \" (test)\",\n",
        "    )\n",
        "    ax_twin.plot(history.index, history[\"loss\"], color=\"r\", ls=\"-\", alpha=0.25)\n",
        "    l1 = ax_twin.plot(\n",
        "        history.index,\n",
        "        history[\"loss\"].ewm(halflife=halflife).mean(),\n",
        "        color=\"r\",\n",
        "        ls=\"-\",\n",
        "        label=\"Loss (train)\",\n",
        "    )\n",
        "    ax_twin.plot(history.index, history[\"val_loss\"], color=\"r\", ls=\"--\", alpha=0.25)\n",
        "    l2 = ax_twin.plot(\n",
        "        history.index,\n",
        "        history[\"val_loss\"].ewm(halflife=halflife).mean(),\n",
        "        color=\"r\",\n",
        "        ls=\"--\",\n",
        "        label=\"Loss (test)\",\n",
        "    )\n",
        "    ax.set_xlabel(\"Epochs [-]\")\n",
        "    ax.set_ylabel(metric_label + \" [-]\")\n",
        "    ax_twin.set_ylabel(metric_label + \"Loss [-]\")\n",
        "    ax_twin.legend(\n",
        "        a1 + a2 + l1 + l2,\n",
        "        [\n",
        "            metric_label + \" (train)\",\n",
        "            metric_label + \" (test)\",\n",
        "            \"Loss (train)\",\n",
        "            \"Loss (test)\",\n",
        "        ],\n",
        "        loc=\"upper right\",\n",
        "    )\n",
        "    metric_data = np.concatenate(\n",
        "        [\n",
        "            history[metric].ewm(halflife=halflife).mean().values,\n",
        "            history[\"val_\" + metric].ewm(halflife=halflife).mean().values,\n",
        "        ]\n",
        "    )\n",
        "    lb, ub = [np.percentile(metric_data, 0.5), np.percentile(metric_data, 99.5)]\n",
        "    delta = ub - lb\n",
        "    ax.set_ylim([lb - 0.05 * delta, ub + 0.05 * delta])\n",
        "    loss_data = np.concatenate(\n",
        "        [\n",
        "            history[\"loss\"].ewm(halflife=halflife).mean().values,\n",
        "            history[\"val_loss\"].ewm(halflife=halflife).mean().values,\n",
        "        ]\n",
        "    )\n",
        "    lb, ub = [np.percentile(loss_data, 0.5), np.percentile(loss_data, 99.5)]\n",
        "    delta = ub - lb\n",
        "    ax_twin.set_ylim([lb - 0.05 * delta, ub + 0.05 * delta])\n",
        "\n",
        "\n",
        "def get_rmsre(y_true, y_pred):\n",
        "    \"\"\"get the Root Mean Square Relative Error\"\"\"\n",
        "    return np.sqrt(np.mean(np.square((y_pred - y_true) / y_true)))\n",
        "\n",
        "\n",
        "def get_mare(y_true, y_pred):\n",
        "    \"\"\"get the Max Absulute Relative Error\"\"\"\n",
        "    return np.max(np.abs(y_pred - y_true) / y_true)\n",
        "\n",
        "\n",
        "def plot_regression(ax, axins, train_true, train_pred, test_true, test_pred):\n",
        "    # compute error\n",
        "    error_test_perc = np.abs(test_pred - test_true) / test_true * 100\n",
        "    error_train_perc = np.abs(train_pred - train_true) / train_true * 100\n",
        "    # compute error distibution\n",
        "    p_test, bins_test = np.histogram(np.log(error_test_perc), bins=200, density=True)\n",
        "    x_bins_test = (bins_test[1:] + bins_test[:-1]) / 2\n",
        "    p_train, bins_train = np.histogram(np.log(error_train_perc), bins=200, density=True)\n",
        "    x_bins_train = (bins_train[1:] + bins_train[:-1]) / 2\n",
        "    # compute some more metrhics\n",
        "    r2_test = r2_score(test_true, test_pred)\n",
        "    r2_train = r2_score(train_true, train_pred)\n",
        "    RMSRE_test = get_rmsre(test_true, test_pred) * 100.0\n",
        "    RMSRE_train = get_rmsre(train_true, train_pred) * 100.0\n",
        "    MARE_test = get_mare(test_true, test_pred) * 100.0\n",
        "    MARE_train = get_mare(train_true, train_pred) * 100.0\n",
        "    # train\n",
        "    ax.scatter(train_true, train_pred, s=4, alpha=0.2, color=\"#126fbf\", label=\"Train\")\n",
        "    axins.fill_between(\n",
        "        np.exp(x_bins_train),\n",
        "        p_train * 0.0,\n",
        "        p_train,\n",
        "        alpha=0.4,\n",
        "        color=\"#126fbf\",\n",
        "        label=\"Train\",\n",
        "    )\n",
        "    axins.plot(np.exp(x_bins_train), p_train, color=\"#126fbf\", lw=1.2)\n",
        "    # test\n",
        "    ax.scatter(test_true, test_pred, s=4, alpha=0.2, color=\"#f3702b\", label=\"Test\")\n",
        "    axins.fill_between(\n",
        "        np.exp(x_bins_test),\n",
        "        p_test * 0.0,\n",
        "        p_test,\n",
        "        alpha=0.4,\n",
        "        color=\"#f3702b\",\n",
        "        label=\"Test\",\n",
        "    )\n",
        "    axins.plot(np.exp(x_bins_test), p_test, color=\"#f3702b\", lw=1.2)\n",
        "    # additional metrics\n",
        "    ax.annotate(\n",
        "        f\"Train:\\n\\t $R^2 = {r2_train:1.3f}\"\n",
        "        + f\"$\\n\\t $RMSRE = {RMSRE_train:1.3f}$ % \"\n",
        "        + f\"\\n\\t $MARE = {MARE_train:1.3f}$ % \\n\"\n",
        "        + f\"Test:\\n\\t $R^2 = {r2_test:1.3f}$\"\n",
        "        + f\"\\n\\t $RMSRE = {RMSRE_test:1.3f}$ %\"\n",
        "        + f\"\\n\\t $MARE = {MARE_test:1.3f}$ %\",\n",
        "        xy=(1.05, 0.5),\n",
        "        xycoords=ax.transAxes,\n",
        "        va=\"center\",\n",
        "    )\n",
        "    ax.set_xlim([50e-2, 5e6])\n",
        "    ax.set_ylim([50e-2, 5e6])\n",
        "    ax.set_aspect(\"equal\", adjustable=\"datalim\")\n",
        "    ax.axline([0, 0], [1, 1], color=\"k\", ls=\"--\", lw=0.75)\n",
        "    ax.legend(loc=\"lower right\")\n",
        "    ax.set_xlabel(r\"True $\\mathrm{Re}$ [-]\")\n",
        "    ax.set_ylabel(r\"Prediction $\\mathrm{Re}$ [-]\")\n",
        "    axins.legend(loc=\"upper left\")\n",
        "    axins.set_xlabel(\"Relative error [%]\")\n",
        "    axins.set_ylabel(\"Probability density [-]\")"
      ]
    },
    {
      "cell_type": "code",
      "execution_count": 30,
      "metadata": {
        "id": "tVUl8PLKMdac"
      },
      "outputs": [],
      "source": [
        "# Plot traing\n",
        "training_history_try1 = pd.DataFrame(history.history)"
      ]
    },
    {
      "cell_type": "code",
      "execution_count": 31,
      "metadata": {
        "colab": {
          "base_uri": "https://localhost:8080/",
          "height": 333
        },
        "id": "oJ_iSIsjQh38",
        "outputId": "b4a195fe-c93d-4b8a-91a1-91270cc6b062"
      },
      "outputs": [
        {
          "output_type": "display_data",
          "data": {
            "text/plain": [
              "<Figure size 600x330 with 2 Axes>"
            ],
            "image/png": "[encoded data removed]"
          },
          "metadata": {}
        }
      ],
      "source": [
        "fig = plt.figure(figsize=(6, 3.3))\n",
        "with plt.style.context(\"seaborn-v0_8-paper\"):\n",
        "    ax = fig.add_subplot(111)\n",
        "    ax_twin = ax.twinx()\n",
        "    plot_training(\n",
        "        ax,\n",
        "        ax_twin,\n",
        "        training_history_try1,\n",
        "        metric=\"root_mean_squared_error\",\n",
        "        metric_label=\"RMSE\",\n",
        "        halflife=20,\n",
        "    )\n",
        "    ax.set_yscale(\"log\")\n",
        "    ax_twin.set_yscale(\"log\")\n",
        "plt.show()"
      ]
    },
    {
      "cell_type": "markdown",
      "metadata": {
        "id": "NPJ4nXZtAIVT"
      },
      "source": [
        "#### Model result analysis\n",
        "\n",
        "Let's compare the model's predictions with the Reynolds number."
      ]
    },
    {
      "cell_type": "code",
      "execution_count": 32,
      "metadata": {
        "colab": {
          "base_uri": "https://localhost:8080/"
        },
        "id": "3z01ZChgQpV8",
        "outputId": "e7ef402f-a9cc-42a8-c28e-ae126c247fd6"
      },
      "outputs": [
        {
          "output_type": "stream",
          "name": "stdout",
          "text": [
            "250/250 [==============================] - 1s 2ms/step\n",
            "1000/1000 [==============================] - 2s 2ms/step\n"
          ]
        }
      ],
      "source": [
        "# Predictions are generated using the model over the test set,\n",
        "# which the model has never seen during training.\n",
        "real_test_Re = np.array(labels_test_try1)\n",
        "prediction_test_Re = model.predict(np.array(features_test_try1))\n",
        "real_train_Re = np.array(labels_train_try1)\n",
        "prediction_train_Re = model.predict(np.array(features_train_try1))"
      ]
    },
    {
      "cell_type": "code",
      "execution_count": 33,
      "metadata": {
        "colab": {
          "base_uri": "https://localhost:8080/",
          "height": 471
        },
        "id": "FaNAI-wLQ9Um",
        "outputId": "bf576be7-852d-4def-a659-e4bcb59477f3"
      },
      "outputs": [
        {
          "output_type": "display_data",
          "data": {
            "text/plain": [
              "<Figure size 500x500 with 1 Axes>"
            ],
            "image/png": "[encoded data removed]"
          },
          "metadata": {}
        }
      ],
      "source": [
        "fig = plt.figure(figsize=(5, 5))\n",
        "with plt.style.context(\"seaborn-v0_8-paper\"):\n",
        "    ax = fig.add_subplot(111)\n",
        "    axins = ax.inset_axes([0.18, 0.65, 0.32, 0.32])\n",
        "    plot_regression(\n",
        "        ax, axins, real_train_Re, prediction_train_Re, real_test_Re, prediction_test_Re\n",
        "    )\n",
        "    ax.set_xscale(\"log\")\n",
        "    ax.set_yscale(\"log\")\n",
        "    axins.set_xscale(\"log\")"
      ]
    },
    {
      "cell_type": "markdown",
      "metadata": {
        "id": "3bgFKKuaKPl5"
      },
      "source": [
        "#### Exercise 1: Activation function"
      ]
    },
    {
      "cell_type": "markdown",
      "source": [
        "Let's explore some of the activation functions provided by`Tensorflow`:"
      ],
      "metadata": {
        "id": "caWn5PJLK8c8"
      }
    },
    {
      "cell_type": "code",
      "source": [
        "# List of activation function names\n",
        "activation_functions = [\n",
        "    'relu', 'elu', 'selu', 'gelu', 'swish', 'mish',  'linear', 'exponential', 'softplus', 'tanh',  'softsign', 'sigmoid',\n",
        "\n",
        "]\n",
        "\n",
        "# Create TensorFlow constant input\n",
        "x = tf.constant(np.linspace(-5, 5, 100), dtype=tf.float32)\n",
        "\n",
        "# Create a grid of subplots\n",
        "fig = plt.figure(figsize=(14, 10))\n",
        "gs = fig.add_gridspec(3, 4, hspace=0.4, wspace=0.3)\n",
        "axs = gs.subplots()\n",
        "\n",
        "# Plot activation functions\n",
        "with plt.style.context(\"seaborn-v0_8-paper\"):\n",
        "    for i, activation_name in enumerate(activation_functions):\n",
        "        row, col = i // 4, i % 4\n",
        "        activation_func = getattr(tf.keras.activations, activation_name)\n",
        "        y = activation_func(x)\n",
        "\n",
        "        axs[row, col].plot(x, y, label=activation_name.capitalize())\n",
        "        axs[row, col].set_xlabel(\"$x$ (-)\")\n",
        "        axs[row, col].set_ylabel(\"$f(x)$ (-)\")\n",
        "        axs[row, col].set_title(activation_name.capitalize())\n",
        "        axs[row, col].grid()\n",
        "\n",
        "plt.show()"
      ],
      "metadata": {
        "id": "t3CvAItxLrzG",
        "outputId": "0f469901-7d90-4cbb-da8c-31578f0e2a36",
        "colab": {
          "base_uri": "https://localhost:8080/",
          "height": 870
        }
      },
      "execution_count": 57,
      "outputs": [
        {
          "output_type": "display_data",
          "data": {
            "text/plain": [
              "<Figure size 1400x1000 with 12 Axes>"
            ],
            "image/png": "[encoded data removed]"
          },
          "metadata": {}
        }
      ]
    },
    {
      "cell_type": "markdown",
      "metadata": {
        "id": "51p6mvGoDGpq"
      },
      "source": [
        "### Second Try: Increase inputs informations\n",
        "\n",
        "#### Building the Model with Keras and TensorFlow\n",
        "-#TODO\n",
        "```\n",
        "Now we define a function to create our neural network model using Keras and TensorFlow. This involves designing the layers, specifying their connections, and defining their behavior, including activation functions, regularization, dropout, and more.\n",
        "\n",
        "In a neural network, a *layer* serves as a fundamental building block responsible for processing data and extracting features. Layers are combined to form the architecture of the neural network. Each layer consists of one or more \"neurons\" (also known as \"nodes\" or \"units\").\n",
        "\n",
        "For our first model, we need to include the following types of layers:\n",
        "\n",
        "* **Input Layer**: This is the initial layer that receives raw input data. Its primary role is to pass the data to subsequent layers. The input layer typically has one neuron for each feature present in the input data.\n",
        "\n",
        "* **Hidden Layers**: These intermediate layers sit between the input and output layers. Hidden layers perform complex transformations on the data, enabling the network to learn and extract features from the input. Each neuron in a hidden layer receives input from multiple neurons in the previous layer.\n",
        "\n",
        "* **Output Layer**: The final layer in the neural network is responsible for producing the model's predictions. The number of neurons in the output layer depends on the nature of the problem being addressed. For binary classification (True/False or 0/1), a single neuron is common in the output layer. In multiclass classification or regression tasks, the number of output neurons can vary.\n",
        "\n",
        "In addition to layers, we also introduce the concept of an *activation function*. An activation function is a critical element within each neuron of a neural network. It dictates how the output of a neuron is calculated based on its input. The activation function introduces non-linearity into the model, allowing it to learn complex patterns and relationships within the data.\n",
        "\n",
        "Common activation functions include:\n",
        "\n",
        "* **ReLU (Rectified Linear Unit)**: ReLU is one of the most widely used activation functions. It returns the input value if it's positive and zero if it's negative. Mathematically, it can be represented as $f(x) = \\max(0, x)$. ReLU is effective in training deep networks and addressing the vanishing gradient problem.\n",
        "\n",
        "* **Sigmoid**: The sigmoid activation function is commonly used in the output layer of binary classification models. It squashes the output into a range between 0 and 1, which can be interpreted as a probability. Mathematically, it's expressed as $f(x) = \\dfrac{1}{1 + e^{-x}}$.\n",
        "\n",
        "* **Tanh (Hyperbolic Tangent)**: Tanh is similar to the sigmoid function but maps values to the range between -1 and 1. It is often used in hidden layers. Mathematically, it's defined as $f(x) = \\dfrac{e^{x} - e^{-x}}{e^{x} + e^{-x}}$.\n",
        "\n",
        "The choice of the activation function depends on the specific problem and the architecture of the network. Each activation function has its own strengths and weaknesses, and selecting the right one is a crucial part of the network design process.\n",
        "\n",
        "In our case, we use the `relu` (Rectified Linear Unit) activation function in the first hidden layer and a smoother function like `sigmoid` for the output layer.\n",
        "```"
      ]
    },
    {
      "cell_type": "markdown",
      "metadata": {
        "id": "LPsGX8-vDGpv"
      },
      "source": [
        "#### Load data"
      ]
    },
    {
      "cell_type": "code",
      "execution_count": null,
      "metadata": {
        "id": "Ecr9674EDGpw"
      },
      "outputs": [],
      "source": [
        "# Note: we are going to use all the data incluse the phisical properties (mu(Pas),\trho(kg/m3))\n",
        "# and the gemetrical data (L(m),\tR(m))\n",
        "features_train_try2 = pd.read_csv(\n",
        "    os.path.join(\"model_2\", \"train\", \"features.csv\"), index_col=False\n",
        ")\n",
        "features_test_try2 = pd.read_csv(\n",
        "    os.path.join(\"model_2\", \"test\", \"features.csv\"), index_col=False\n",
        ")\n",
        "labels_train_try2 = pd.read_csv(\n",
        "    os.path.join(\"model_2\", \"train\", \"labels.csv\"), index_col=False\n",
        ")\n",
        "labels_test_try2 = pd.read_csv(\n",
        "    os.path.join(\"model_2\", \"test\", \"labels.csv\"), index_col=False\n",
        ")"
      ]
    },
    {
      "cell_type": "markdown",
      "metadata": {
        "id": "yb5KrXj-veq-"
      },
      "source": [
        "Let's increase futher more the input information computing the derivative\n",
        "\n",
        "$$ \\left[\\nabla \\mathbf{u} \\right]_{ij} = \\partial_i u_j =  \\dfrac{\\partial u_y}{\\partial x} \\approx \\dfrac{u_y^n+1 - u_y^n}{\\Delta x}$$\n",
        "\n",
        "Note that for the Navier-Stoke for compressible fluids ($\\rho = \\rho_0 = \\mathrm{const}(t)$):\n",
        "\n",
        "$$ \\rho_0\\dfrac{\\partial \\mathbf{u}}{\\partial t} + \\rho_0(\\mathbf{u} \\cdot \\nabla) \\mathbf{u} = - \\nabla p + \\nabla\\cdot\\mathbf{\\tau}   + \\rho_0\\mathbf{g}  $$\n",
        "\n",
        "where the stress tensor $\\mathbf{\\tau}$\n",
        "$$ \\mathbf{\\tau} =  \\mu \\left(\\nabla\\mathbf{u} + \\left(\\nabla\\mathbf{u}\\right)^\\text{T} \\right) $$\n",
        "\n",
        "So what we are including as information is proportional to the $ij=ji$ component of the sress tensor."
      ]
    },
    {
      "cell_type": "code",
      "execution_count": null,
      "metadata": {
        "id": "v_5UtPcl2s7-"
      },
      "outputs": [],
      "source": [
        "velocity_train = features_train_try2.iloc[:, 4:].values\n",
        "R_train = features_train_try2[\"R(m)\"].values\n",
        "velocity_test = features_test_try2.iloc[:, 4:].values\n",
        "R_test = features_test_try2[\"R(m)\"].values\n",
        "N = velocity_train.shape[1]\n",
        "dudx_train = pd.DataFrame(\n",
        "    data=(velocity_train[:, :-1] - velocity_train[:, 1:])\n",
        "    / (R_train[..., np.newaxis].repeat(N - 1, axis=1) / N),\n",
        "    columns=[f\"dudx[{i:d}]\" for i in range(N - 1)],\n",
        ")\n",
        "dudx_test = pd.DataFrame(\n",
        "    data=(velocity_test[:, :-1] - velocity_test[:, 1:])\n",
        "    / (R_test[..., np.newaxis].repeat(N - 1, axis=1) / N),\n",
        "    columns=[f\"dudx[{i:d}]\" for i in range(N - 1)],\n",
        ")"
      ]
    },
    {
      "cell_type": "markdown",
      "metadata": {
        "id": "FNBAfgq4Cwea"
      },
      "source": [
        "Let's glue the new data to the input features"
      ]
    },
    {
      "cell_type": "code",
      "execution_count": null,
      "metadata": {
        "id": "Uc7xcneNCu7D"
      },
      "outputs": [],
      "source": [
        "features_train_try2_full = pd.concat([features_train_try2, dudx_train], axis=1)\n",
        "features_test_try2_full = pd.concat([features_test_try2, dudx_test], axis=1)"
      ]
    },
    {
      "cell_type": "code",
      "execution_count": null,
      "metadata": {
        "id": "uNuY7kJI_HOH"
      },
      "outputs": [],
      "source": [
        "features_train_try2_full.head()"
      ]
    },
    {
      "cell_type": "markdown",
      "metadata": {
        "id": "JrbdH56yvX8f"
      },
      "source": [
        "#### Model building"
      ]
    },
    {
      "cell_type": "markdown",
      "metadata": {
        "id": "5hqs1fJSDGpx"
      },
      "source": [
        "Let's call the function to build our model."
      ]
    },
    {
      "cell_type": "code",
      "execution_count": null,
      "metadata": {
        "id": "WT32tgwzDGpy"
      },
      "outputs": [],
      "source": [
        "model_v2 = build_model_2(features_train_try2_full.shape[1], \"...\")"
      ]
    },
    {
      "cell_type": "markdown",
      "metadata": {
        "id": "ETkrPdqdDGpy"
      },
      "source": [
        "#### Model Summary and Structure Visualization\n",
        "\n",
        "Let's examine the summary of our compiled model and visualize its architecture.\n",
        "\n",
        "Given that the input data has 50 features and the first hidden layer consists of 64 neurons (each with weights $w$ and biases $b$), we have the following:\n",
        "\n",
        "- Number of parameters in the first hidden layer ($\\mathbf{w}_{h1}$): $50 \\times 64 = 3200$\n",
        "- Number of parameters in the first hidden layer biases ($\\mathbf{b}_{h1}$): $1 \\times 64 = 64$\n",
        "\n",
        "The second hidden layer is densly connected with the first one, therefore we have 64 \"inputs feature\" from the first hidden layer:\n",
        "\n",
        "- Number of parameters in the first hidden layer ($\\mathbf{w}_{h1}$): $64 \\times 64 = 4096$\n",
        "- Number of parameters in the first hidden layer biases ($\\mathbf{b}_{h1}$): $1 \\times 64 = 64$\n",
        "\n",
        "In addition, considering the output layer:\n",
        "\n",
        "- Number of parameters in the output layer weights ($\\mathbf{w}_{o}$): $64 \\times 1 = 64$\n",
        "- Number of parameters in the output layer biases ($\\mathbf{b}_{o}$): $64 \\times 1 = 1$\n",
        "\n",
        "This results in a total of $(3200 + 64) + (4096 +64\n",
        ") + (64+1) = 7489 $ degrees of freedom (dofs) within our model."
      ]
    },
    {
      "cell_type": "code",
      "execution_count": null,
      "metadata": {
        "id": "jiCvs-h4DGpz"
      },
      "outputs": [],
      "source": [
        "model_v2.summary()"
      ]
    },
    {
      "cell_type": "code",
      "execution_count": null,
      "metadata": {
        "id": "rkgcOVdODGp0"
      },
      "outputs": [],
      "source": [
        "tf.keras.utils.plot_model(\n",
        "    model=model_v2, rankdir=\"LR\", dpi=72, show_shapes=True, show_layer_activations=True\n",
        ")"
      ]
    },
    {
      "cell_type": "markdown",
      "metadata": {
        "id": "k5jlwHq9DGp1"
      },
      "source": [
        "#### Model Compilation And Training\n",
        "\n",
        "Now we will compile our neural network model. Model compilation involves defining key components, such as the loss function, optimizer, learning rate, and metrics.\n",
        "\n",
        "##### Loss Function\n",
        "-#TODO\n",
        "```\n",
        "For our binary classification task, we use the Binary Cross-Entropy loss function. The *Binary Cross-Entropy* loss is calculated as:\n",
        "\n",
        "$\\text{Binary Cross-Entropy Loss} = -\\frac{1}{N}\\sum_{i=1}^{N}\\left(y_i \\log(p_i) + (1 - y_i) \\log(1 - p_i)\\right) $\n",
        "\n",
        "where $N$ is the number of samples, $y_i$ represents the true labels, and $p_i$ is the predicted probability of the positive class.\n",
        "```"
      ]
    },
    {
      "cell_type": "markdown",
      "metadata": {
        "id": "IGj8dGz3DGp3"
      },
      "source": [
        "#### Training\n",
        "In training, we define two key parameters:"
      ]
    },
    {
      "cell_type": "code",
      "execution_count": null,
      "metadata": {
        "id": "ELYRHn_rDGp3"
      },
      "outputs": [],
      "source": [
        "batch_size = 512\n",
        "epochs = 1000"
      ]
    },
    {
      "cell_type": "code",
      "execution_count": null,
      "metadata": {
        "id": "k6GZ2577FtjP"
      },
      "outputs": [],
      "source": [
        "with strategy.scope():\n",
        "    # These initla lines of code are repeated because it must be defined\n",
        "    # inside the parallelization context for efficient GPU/TPU utilization.\n",
        "\n",
        "    # Step 1: Building the Model\n",
        "    model_v2 = build_model_2(features_train_try2_full.shape[1], \"...\")\n",
        "\n",
        "    # Step 2: Compiling the Model\n",
        "    loss = losses.MeanAbsolutePercentageError()\n",
        "    optimizer = optimizers.Adam(\n",
        "        learning_rate=1e-2, beta_1=0.9, beta_2=0.999, epsilon=1e-08\n",
        "    )\n",
        "    metrics = [\n",
        "        tf.keras.metrics.RootMeanSquaredError(),\n",
        "        tf.keras.metrics.MeanSquaredError(),\n",
        "    ]\n",
        "    model_v2.compile(\n",
        "        optimizer,\n",
        "        loss,\n",
        "        metrics,\n",
        "    )\n",
        "\n",
        "    # Step 3: Training the Model\n",
        "    history = model_v2.fit(\n",
        "        np.array(\n",
        "            features_train_try2_full\n",
        "        ),  # Convert the data into an array before feeding it\n",
        "        np.array(labels_train_try2).astype(\"float\"),\n",
        "        batch_size,\n",
        "        epochs,\n",
        "        validation_data=(\n",
        "            np.array(features_test_try2_full),\n",
        "            np.array(labels_test_try2).astype(\"float\"),\n",
        "        ),  # Validation set\n",
        "        verbose=1,  # 0 = silent, 1 = progress bar, 2 = one line per epoch\n",
        "    )"
      ]
    },
    {
      "cell_type": "markdown",
      "metadata": {
        "id": "wRGge0ulDGp5"
      },
      "source": [
        "#### Plot Training Progress\n",
        "\n",
        "Now, we can plot the training progress."
      ]
    },
    {
      "cell_type": "code",
      "execution_count": null,
      "metadata": {
        "id": "CgX_oWFUDGp5"
      },
      "outputs": [],
      "source": [
        "# Plot traing loop\n",
        "training_history_try2 = pd.DataFrame(history.history)"
      ]
    },
    {
      "cell_type": "code",
      "execution_count": null,
      "metadata": {
        "id": "smC-knFvKt4G"
      },
      "outputs": [],
      "source": [
        "training_history_try2.head()"
      ]
    },
    {
      "cell_type": "code",
      "execution_count": null,
      "metadata": {
        "id": "8A-jjWGTLhaS"
      },
      "outputs": [],
      "source": [
        "fig = plt.figure(figsize=(6, 3.3))\n",
        "with plt.style.context(\"seaborn-v0_8-paper\"):\n",
        "    ax = fig.add_subplot(111)\n",
        "    ax_twin = ax.twinx()\n",
        "    plot_training(\n",
        "        ax,\n",
        "        ax_twin,\n",
        "        training_history_try2,\n",
        "        metric=\"root_mean_squared_error\",\n",
        "        metric_label=\"RMSE\",\n",
        "        halflife=50,\n",
        "    )\n",
        "    ax.set_yscale(\"log\")\n",
        "    ax_twin.set_yscale(\"log\")\n",
        "plt.show()"
      ]
    },
    {
      "cell_type": "markdown",
      "metadata": {
        "id": "gLm4E3KeLhaT"
      },
      "source": [
        "#### Model result analysis\n",
        "\n",
        "Let's compare the model's predictions with the Reynolds number."
      ]
    },
    {
      "cell_type": "code",
      "execution_count": null,
      "metadata": {
        "id": "4O0SVTkvLhaU"
      },
      "outputs": [],
      "source": [
        "# Predictions are generated using the model over the test set,\n",
        "# which the model has never seen during training.\n",
        "real_test_Re = np.array(labels_test_try2)\n",
        "prediction_test_Re = model_v2.predict(np.array(features_test_try2_full))\n",
        "real_train_Re = np.array(labels_train_try2)\n",
        "prediction_train_Re = model_v2.predict(np.array(features_train_try2_full))"
      ]
    },
    {
      "cell_type": "code",
      "execution_count": null,
      "metadata": {
        "id": "V9ewQwUBLhaU"
      },
      "outputs": [],
      "source": [
        "fig = plt.figure(figsize=(5, 5))\n",
        "with plt.style.context(\"seaborn-v0_8-paper\"):\n",
        "    ax = fig.add_subplot(111)\n",
        "    axins = ax.inset_axes([0.18, 0.65, 0.32, 0.32])\n",
        "    plot_regression(\n",
        "        ax, axins, real_train_Re, prediction_train_Re, real_test_Re, prediction_test_Re\n",
        "    )\n",
        "    ax.set_xscale(\"log\")\n",
        "    ax.set_yscale(\"log\")\n",
        "    axins.set_xscale(\"log\")"
      ]
    },
    {
      "cell_type": "code",
      "execution_count": null,
      "metadata": {
        "id": "jXyJ1HpGQT3y"
      },
      "outputs": [],
      "source": []
    },
    {
      "cell_type": "markdown",
      "metadata": {
        "id": "PIyaJRljkVEN"
      },
      "source": [
        "### Third Try: Normalization on the fly\n",
        "\n",
        "#### Building the Model with Keras and TensorFlow\n",
        "-#TODO\n",
        "```\n",
        "Now we define a function to create our neural network model using Keras and TensorFlow. This involves designing the layers, specifying their connections, and defining their behavior, including activation functions, regularization, dropout, and more.\n",
        "\n",
        "In a neural network, a *layer* serves as a fundamental building block responsible for processing data and extracting features. Layers are combined to form the architecture of the neural network. Each layer consists of one or more \"neurons\" (also known as \"nodes\" or \"units\").\n",
        "\n",
        "For our first model, we need to include the following types of layers:\n",
        "\n",
        "* **Input Layer**: This is the initial layer that receives raw input data. Its primary role is to pass the data to subsequent layers. The input layer typically has one neuron for each feature present in the input data.\n",
        "\n",
        "* **Hidden Layers**: These intermediate layers sit between the input and output layers. Hidden layers perform complex transformations on the data, enabling the network to learn and extract features from the input. Each neuron in a hidden layer receives input from multiple neurons in the previous layer.\n",
        "\n",
        "* **Output Layer**: The final layer in the neural network is responsible for producing the model's predictions. The number of neurons in the output layer depends on the nature of the problem being addressed. For binary classification (True/False or 0/1), a single neuron is common in the output layer. In multiclass classification or regression tasks, the number of output neurons can vary.\n",
        "\n",
        "In addition to layers, we also introduce the concept of an *activation function*. An activation function is a critical element within each neuron of a neural network. It dictates how the output of a neuron is calculated based on its input. The activation function introduces non-linearity into the model, allowing it to learn complex patterns and relationships within the data.\n",
        "\n",
        "Common activation functions include:\n",
        "\n",
        "* **ReLU (Rectified Linear Unit)**: ReLU is one of the most widely used activation functions. It returns the input value if it's positive and zero if it's negative. Mathematically, it can be represented as $f(x) = \\max(0, x)$. ReLU is effective in training deep networks and addressing the vanishing gradient problem.\n",
        "\n",
        "* **Sigmoid**: The sigmoid activation function is commonly used in the output layer of binary classification models. It squashes the output into a range between 0 and 1, which can be interpreted as a probability. Mathematically, it's expressed as $f(x) = \\dfrac{1}{1 + e^{-x}}$.\n",
        "\n",
        "* **Tanh (Hyperbolic Tangent)**: Tanh is similar to the sigmoid function but maps values to the range between -1 and 1. It is often used in hidden layers. Mathematically, it's defined as $f(x) = \\dfrac{e^{x} - e^{-x}}{e^{x} + e^{-x}}$.\n",
        "\n",
        "The choice of the activation function depends on the specific problem and the architecture of the network. Each activation function has its own strengths and weaknesses, and selecting the right one is a crucial part of the network design process.\n",
        "\n",
        "In our case, we use the `relu` (Rectified Linear Unit) activation function in the first hidden layer and a smoother function like `sigmoid` for the output layer.\n",
        "```"
      ]
    },
    {
      "cell_type": "markdown",
      "metadata": {
        "id": "IodHrbM7kVEP"
      },
      "source": [
        "#### Load data"
      ]
    },
    {
      "cell_type": "code",
      "execution_count": null,
      "metadata": {
        "id": "JiZ7AJMxkVEP"
      },
      "outputs": [],
      "source": [
        "features_train_try3 = pd.read_csv(\n",
        "    os.path.join(\"model_2\", \"train\", \"features.csv\"), index_col=False\n",
        ").iloc[\n",
        "    :, 4:\n",
        "]  # Note: we drop the first 4 columns to study only the velocity profile\n",
        "features_test_try3 = pd.read_csv(\n",
        "    os.path.join(\"model_2\", \"test\", \"features.csv\"), index_col=False\n",
        ").iloc[\n",
        "    :, 4:\n",
        "]  # Note: we drop the first 4 columns to study only the velocity profile\n",
        "labels_train_try3 = pd.read_csv(\n",
        "    os.path.join(\"model_2\", \"train\", \"labels.csv\"), index_col=False\n",
        ")\n",
        "labels_test_try3 = pd.read_csv(\n",
        "    os.path.join(\"model_2\", \"test\", \"labels.csv\"), index_col=False\n",
        ")"
      ]
    },
    {
      "cell_type": "markdown",
      "metadata": {
        "id": "tQVFDcmXkVES"
      },
      "source": [
        "#### Model building"
      ]
    },
    {
      "cell_type": "markdown",
      "metadata": {
        "id": "Yo_DdWSnkVEV"
      },
      "source": [
        "###### Make custom *normalization* layer\n",
        "\n",
        "-#TODO\n"
      ]
    },
    {
      "cell_type": "code",
      "execution_count": null,
      "metadata": {
        "id": "nWWqjt5-7om1"
      },
      "outputs": [],
      "source": [
        "class VelocityNormalization(layers.Layer):\n",
        "    def __init__(self, axis=1, name=\"velocity_normalization\", **kwargs):\n",
        "        super().__init__(name=name, **kwargs)\n",
        "        self.axis = axis\n",
        "\n",
        "    def call(self, batch):\n",
        "        batch_max = tf.reduce_max(batch, axis=self.axis, keepdims=True)\n",
        "        normalized_batch = batch / batch_max\n",
        "        normalized_with_scale = tf.concat([normalized_batch, batch_max], axis=self.axis)\n",
        "        return normalized_with_scale\n",
        "\n",
        "    def compute_output_shape(self, input_shape):\n",
        "        output_shape = list(input_shape)\n",
        "        output_shape[self.axis] += 1  # One additional element for the scale vector\n",
        "        return tuple(output_shape)"
      ]
    },
    {
      "cell_type": "code",
      "execution_count": null,
      "metadata": {
        "id": "BOT6hGMU-Lc4"
      },
      "outputs": [],
      "source": [
        "# Convert the NumPy array to a TensorFlow constant\n",
        "input_data_tf = tf.constant(features_train_try3.iloc[:4, :].values, dtype=tf.float32)\n",
        "\n",
        "# Create a VelocityNormalization layer\n",
        "batch_max_norm_layer = VelocityNormalization()\n",
        "\n",
        "# Normalize the input data using the VelocityNormalization layer\n",
        "normalized_data = batch_max_norm_layer(input_data_tf)"
      ]
    },
    {
      "cell_type": "code",
      "execution_count": null,
      "metadata": {
        "id": "6SwX8Q2k-ZND"
      },
      "outputs": [],
      "source": [
        "# Create a plot of random data from the datasets\n",
        "fig = plt.figure(figsize=(8, 3))\n",
        "# Set the style of the plot to \"seaborn-v0_8-paper\"\n",
        "with plt.style.context(\"seaborn-v0_8-paper\"):\n",
        "    ax1 = fig.add_subplot(121)\n",
        "    ax2 = fig.add_subplot(122)\n",
        "    # Plot the data and labels it with Re value\n",
        "    for i in range(input_data_tf.shape[0]):\n",
        "        ax1.plot(input_data_tf[i].numpy())\n",
        "        ax2.plot(normalized_data[i].numpy()[:-1])\n",
        "\n",
        "    # Adding labels and titles to the plot\n",
        "    ax1.set_xlabel(\"i (-)\")\n",
        "    ax1.set_ylabel(\"$u$ (m/s)\")\n",
        "    ax2.set_xlabel(\"i (-)\")\n",
        "    ax2.set_ylabel(\"$u/u_{max}$ (-)\")"
      ]
    },
    {
      "cell_type": "code",
      "execution_count": null,
      "metadata": {
        "id": "pJDe5eErEvMm"
      },
      "outputs": [],
      "source": [
        "def build_model_2_norm(n_cols: int, out_activation: str) -> tf.keras.models.Sequential:\n",
        "    \"\"\"\n",
        "    Build a the second possible architecture for our neural network model.\n",
        "\n",
        "    Args:\n",
        "        n_cols (int): Number of input features.\n",
        "        out_activation (str): Output activation function.\n",
        "    Returns:\n",
        "        tf.keras.models.Sequential: A Keras Sequential model.\n",
        "    \"\"\"\n",
        "    model = Sequential(\n",
        "        [\n",
        "            # Input layer with the specified input shape\n",
        "            layers.InputLayer(input_shape=(n_cols,), name=\"input_layer\"),\n",
        "            # Normalization layer\n",
        "            VelocityNormalization(name=\"normalization\"),\n",
        "            # Add the first hidden layer with 64 perceptron and ReLU activation\n",
        "            layers.Dense(64, activation=\"relu\", name=\"hidden_layer_1\"),\n",
        "            # Add the second hidden layer with 64 perceptron and ReLU activation\n",
        "            layers.Dense(64, activation=\"relu\", name=\"hidden_layer_2\"),\n",
        "            # Add the third hidden layer with 64 perceptron and ReLU activation\n",
        "            layers.Dense(64, activation=\"relu\", name=\"hidden_layer_3\"),\n",
        "            # Add the output layer with a single perceptron (we expect a True/False answer) and sigmoid activation\n",
        "            layers.Dense(1, activation=out_activation, name=\"output_layer\"),\n",
        "        ]\n",
        "    )\n",
        "    return model"
      ]
    },
    {
      "cell_type": "code",
      "execution_count": null,
      "metadata": {
        "id": "yU1_hxEUkVEV"
      },
      "outputs": [],
      "source": [
        "model_v3 = build_model_2_norm(features_train_try3.shape[1], \"...\")"
      ]
    },
    {
      "cell_type": "markdown",
      "metadata": {
        "id": "kwHeq66hkVEV"
      },
      "source": [
        "#### Model Summary and Structure Visualization\n",
        "\n"
      ]
    },
    {
      "cell_type": "code",
      "execution_count": null,
      "metadata": {
        "id": "bJNokn1VkVEW"
      },
      "outputs": [],
      "source": [
        "model_v3.summary()"
      ]
    },
    {
      "cell_type": "code",
      "execution_count": null,
      "metadata": {
        "id": "PMpMmSMUkVEX"
      },
      "outputs": [],
      "source": [
        "tf.keras.utils.plot_model(\n",
        "    model=model_v3, rankdir=\"LR\", dpi=72, show_shapes=True, show_layer_activations=True\n",
        ")"
      ]
    },
    {
      "cell_type": "markdown",
      "metadata": {
        "id": "A62XuPpYkVEX"
      },
      "source": [
        "#### Model Compilation And Training\n",
        "\n",
        "Now we will compile our neural network model. Model compilation involves defining key components, such as the loss function, optimizer, learning rate, and metrics.\n",
        "\n",
        "##### Loss Function\n",
        "-#TODO\n",
        "```\n",
        "For our binary classification task, we use the Binary Cross-Entropy loss function. The *Binary Cross-Entropy* loss is calculated as:\n",
        "\n",
        "$\\text{Binary Cross-Entropy Loss} = -\\frac{1}{N}\\sum_{i=1}^{N}\\left(y_i \\log(p_i) + (1 - y_i) \\log(1 - p_i)\\right) $\n",
        "\n",
        "where $N$ is the number of samples, $y_i$ represents the true labels, and $p_i$ is the predicted probability of the positive class.\n",
        "```"
      ]
    },
    {
      "cell_type": "markdown",
      "metadata": {
        "id": "L9xRQy6WkVEY"
      },
      "source": [
        "#### Training\n",
        "In training, we define two key parameters:"
      ]
    },
    {
      "cell_type": "code",
      "execution_count": null,
      "metadata": {
        "id": "55uUk5x4kVEY"
      },
      "outputs": [],
      "source": [
        "batch_size = 512\n",
        "epochs = 1000"
      ]
    },
    {
      "cell_type": "code",
      "execution_count": null,
      "metadata": {
        "id": "osX48yXTkVEY"
      },
      "outputs": [],
      "source": [
        "with strategy.scope():\n",
        "    # These initla lines of code are repeated because it must be defined\n",
        "    # inside the parallelization context for efficient GPU/TPU utilization.\n",
        "\n",
        "    # Step 1: Building the Model\n",
        "    model_v3 = build_model_2_norm(features_train_try3.shape[1], \"...\")\n",
        "\n",
        "    # Step 2: Compiling the Model\n",
        "    loss = losses.MeanAbsolutePercentageError()\n",
        "    optimizer = optimizers.Adam(\n",
        "        learning_rate=1e-2, beta_1=0.9, beta_2=0.999, epsilon=1e-08\n",
        "    )\n",
        "    metrics = [\n",
        "        tf.keras.metrics.RootMeanSquaredError(),\n",
        "        tf.keras.metrics.MeanSquaredError(),\n",
        "    ]\n",
        "    model_v3.compile(\n",
        "        optimizer,\n",
        "        loss,\n",
        "        metrics,\n",
        "    )\n",
        "\n",
        "    # Step 3: Training the Model\n",
        "    history = model_v3.fit(\n",
        "        np.array(\n",
        "            features_train_try3\n",
        "        ),  # Convert the data into an array before feeding it\n",
        "        np.array(labels_train_try3).astype(\"float\"),\n",
        "        batch_size,\n",
        "        epochs,\n",
        "        validation_data=(\n",
        "            np.array(features_test_try3),\n",
        "            np.array(labels_test_try3).astype(\"float\"),\n",
        "        ),  # Validation set\n",
        "        verbose=1,  # 0 = silent, 1 = progress bar, 2 = one line per epoch\n",
        "    )"
      ]
    },
    {
      "cell_type": "markdown",
      "metadata": {
        "id": "DSnJa6HgkVEZ"
      },
      "source": [
        "#### Plot Training Progress\n",
        "\n",
        "Now, we can plot the training progress."
      ]
    },
    {
      "cell_type": "code",
      "execution_count": null,
      "metadata": {
        "id": "_44Xzob8kVEZ"
      },
      "outputs": [],
      "source": [
        "# Plot traing loop\n",
        "training_history_try3 = pd.DataFrame(history.history)"
      ]
    },
    {
      "cell_type": "code",
      "execution_count": null,
      "metadata": {
        "id": "UgedmnpYkVEa"
      },
      "outputs": [],
      "source": [
        "training_history_try3.head()"
      ]
    },
    {
      "cell_type": "code",
      "execution_count": null,
      "metadata": {
        "id": "fgCBrLSUkVEa"
      },
      "outputs": [],
      "source": [
        "fig = plt.figure(figsize=(6, 3.3))\n",
        "with plt.style.context(\"seaborn-v0_8-paper\"):\n",
        "    ax = fig.add_subplot(111)\n",
        "    ax_twin = ax.twinx()\n",
        "    plot_training(\n",
        "        ax,\n",
        "        ax_twin,\n",
        "        training_history_try3,\n",
        "        metric=\"root_mean_squared_error\",\n",
        "        metric_label=\"RMSE\",\n",
        "        halflife=50,\n",
        "    )\n",
        "    # ax.set_yscale(\"log\")\n",
        "    ax_twin.set_yscale(\"log\")\n",
        "plt.show()"
      ]
    },
    {
      "cell_type": "markdown",
      "metadata": {
        "id": "yRaaCy6DkVEb"
      },
      "source": [
        "#### Model result analysis\n",
        "\n",
        "Let's compare the model's predictions with the Reynolds number."
      ]
    },
    {
      "cell_type": "code",
      "execution_count": null,
      "metadata": {
        "id": "dfcwlH1bkVEb"
      },
      "outputs": [],
      "source": [
        "# Predictions are generated using the model over the test set,\n",
        "# which the model has never seen during training.\n",
        "real_test_Re = np.array(labels_test_try3)\n",
        "prediction_test_Re = model_v3.predict(np.array(features_test_try3))\n",
        "real_train_Re = np.array(labels_train_try3)\n",
        "prediction_train_Re = model_v3.predict(np.array(features_train_try3))"
      ]
    },
    {
      "cell_type": "code",
      "execution_count": null,
      "metadata": {
        "id": "Hj6ZhkaZkVEb"
      },
      "outputs": [],
      "source": [
        "fig = plt.figure(figsize=(5, 5))\n",
        "with plt.style.context(\"seaborn-v0_8-paper\"):\n",
        "    ax = fig.add_subplot(111)\n",
        "    axins = ax.inset_axes([0.18, 0.65, 0.32, 0.32])\n",
        "    plot_regression(\n",
        "        ax, axins, real_train_Re, prediction_train_Re, real_test_Re, prediction_test_Re\n",
        "    )\n",
        "    ax.set_xscale(\"log\")\n",
        "    ax.set_yscale(\"log\")\n",
        "    axins.set_xscale(\"log\")"
      ]
    },
    {
      "cell_type": "code",
      "execution_count": null,
      "metadata": {
        "id": "Bxf3YIYBkVEc"
      },
      "outputs": [],
      "source": []
    }
  ],
  "metadata": {
    "accelerator": "GPU",
    "colab": {
      "gpuType": "T4",
      "provenance": [],
      "toc_visible": true
    },
    "kernelspec": {
      "display_name": "Python 3",
      "name": "python3"
    },
    "language_info": {
      "name": "python"
    }
  },
  "nbformat": 4,
  "nbformat_minor": 0
}