{
  "cells": [
    {
      "cell_type": "markdown",
      "metadata": {
        "id": "sQHsIYUovJhW"
      },
      "source": [
        "# Convolutional Neural Network model - an introduction (Part 2)"
      ]
    },
    {
      "cell_type": "markdown",
      "metadata": {
        "id": "CVenti-EvJhg"
      },
      "source": [
        "[![Open In Colab](https://colab.research.google.com/assets/colab-badge.svg)](https://colab.research.google.com/github/paolodeangelis/Sistemi_a_combustione/blob/main/3.2-CNN_Intro_P2.ipynb)"
      ]
    },
    {
      "cell_type": "markdown",
      "metadata": {
        "id": "ruq7oi3gvJhj"
      },
      "source": [
        "![working progress](https://raw.githubusercontent.com/paolodeangelis/Sistemi_a_combustione/main/assets/img/warning-work-in-progress.jpg)"
      ]
    },
    {
      "cell_type": "code",
      "execution_count": null,
      "metadata": {
        "id": "BJMm7VigvJhk"
      },
      "outputs": [],
      "source": []
    }
  ],
  "metadata": {
    "language_info": {
      "name": "python"
    },
    "colab": {
      "provenance": []
    }
  },
  "nbformat": 4,
  "nbformat_minor": 0
}