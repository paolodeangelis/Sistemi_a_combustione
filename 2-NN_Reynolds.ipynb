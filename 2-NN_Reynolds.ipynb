{
 "cells": [
  {
   "cell_type": "markdown",
   "metadata": {
    "id": "ymEstwuvvZT6"
   },
   "source": [
    "# Neural Network model for fluid dynamics"
   ]
  },
  {
   "cell_type": "markdown",
   "metadata": {},
   "source": [
    "INTRODUCTION # TODO\n"
   ]
  },
  {
   "cell_type": "markdown",
   "metadata": {},
   "source": [
    "As a general guideline for an ML/NN (Machine Learning/Neural Network) project, we follow the A. Géron checklist:\n",
    "\n",
    "1. Frame the problem and look at the big picture. (In our case: Studying the flow in a channel)\n",
    "2. Get the data. (As in: Acquiring velocity profiles from experiments)\n",
    "3. Explore the data to gain insights. (See Section 2 - *Data Download and Inspection*)\n",
    "4. Prepare the data to expose underlying patterns to Machine Learning algorithms. (Refer to Section 3 - *Downsampling the Database*)\n",
    "5. Explore different models and shortlist the best ones. (See Section 4 - *Model 1: Binary Classification*)\n",
    "6. Fine-tune your models and combine them for an optimized solution. (Exercise)\n",
    "7. Present your solution. (Skipped, as it's not relevant for this lab class)\n",
    "8. Launch, monitor, and maintain your system. (Skipped, as it's not relevant for this lab class)"
   ]
  },
  {
   "cell_type": "markdown",
   "metadata": {
    "id": "9iD3JY4cwt_0"
   },
   "source": [
    "## Installing Libraries\n",
    "\n",
    "We begin by installing the necessary libraries to support our data manipulation, visualization, and deep learning modeling."
   ]
  },
  {
   "cell_type": "code",
   "execution_count": null,
   "metadata": {
    "colab": {
     "base_uri": "https://localhost:8080/"
    },
    "id": "7mSxW9TCw3jk",
    "outputId": "288de221-9ee4-4482-d2e6-d615e4b397ad"
   },
   "outputs": [],
   "source": [
    "%pip install numpy pandas scipy matplotlib"
   ]
  },
  {
   "cell_type": "markdown",
   "metadata": {},
   "source": [
    "And now we import the necessary libraries"
   ]
  },
  {
   "cell_type": "code",
   "execution_count": null,
   "metadata": {
    "id": "rpatprDJxBlY"
   },
   "outputs": [],
   "source": [
    "import os  # Operating system-related functions\n",
    "import pathlib  # Path manipulation and filesystem-related operations\n",
    "\n",
    "import matplotlib.pyplot as plt  # Data visualization library\n",
    "import numpy as np  # Numerical computing library\n",
    "import pandas as pd  # Data manipulation and analysis library\n",
    "import tensorflow as tf  # Deep learning framework for neural networks\n",
    "from tensorflow.keras import Sequential, layers, losses, metrics, optimizers"
   ]
  },
  {
   "cell_type": "markdown",
   "metadata": {
    "id": "XaYFSqhnvi1Y"
   },
   "source": [
    "## Data download and inspection\n",
    "\n",
    "In this section, we will download the dataset and inspect its components."
   ]
  },
  {
   "cell_type": "markdown",
   "metadata": {},
   "source": [
    "### Download dataset files"
   ]
  },
  {
   "cell_type": "code",
   "execution_count": null,
   "metadata": {
    "colab": {
     "base_uri": "https://localhost:8080/"
    },
    "id": "n9SsgVKDvZT_",
    "outputId": "10797f68-4bcf-49df-f604-662117d19b30"
   },
   "outputs": [],
   "source": [
    "!wget https://raw.githubusercontent.com/paolodeangelis/Sistemi_a_combustione/main/data/lab2/velprof-Re.csv\n",
    "!wget https://raw.githubusercontent.com/paolodeangelis/Sistemi_a_combustione/main/data/lab2/velprof-data.csv\n",
    "!wget https://raw.githubusercontent.com/paolodeangelis/Sistemi_a_combustione/main/data/lab2/velprof-space.csv"
   ]
  },
  {
   "cell_type": "markdown",
   "metadata": {
    "id": "dUxOmbg2zSjx"
   },
   "source": [
    "### Read Reynolds (the labels for our model)\n",
    "\n",
    "We'll start by reading the Reynolds data, which serves as the labels for our model."
   ]
  },
  {
   "cell_type": "code",
   "execution_count": null,
   "metadata": {
    "colab": {
     "base_uri": "https://localhost:8080/",
     "height": 206
    },
    "id": "uq00UhcGwRiW",
    "outputId": "e81cd6a1-5f96-41c0-808b-c034b9538c87"
   },
   "outputs": [],
   "source": [
    "data_Re = pd.read_csv(\"velprof-Re.csv\", index_col=False)\n",
    "data_Re.head()"
   ]
  },
  {
   "cell_type": "markdown",
   "metadata": {
    "id": "wea1geIGzWwx"
   },
   "source": [
    "### Read the data file (the features for our model)\n",
    "\n",
    "Next, we'll read the data file containing the features for our model."
   ]
  },
  {
   "cell_type": "code",
   "execution_count": null,
   "metadata": {
    "colab": {
     "base_uri": "https://localhost:8080/",
     "height": 273
    },
    "id": "rhRwBsmCxuWG",
    "outputId": "1fc4ebef-60b8-4873-b8ec-1d732a365408"
   },
   "outputs": [],
   "source": [
    "data_v = pd.read_csv(\"velprof-data.csv\", index_col=False)\n",
    "data_v.head()"
   ]
  },
  {
   "cell_type": "markdown",
   "metadata": {},
   "source": [
    "Let's also read another data file that contains information about space discretization, which, in our analogy, represents the probe's position."
   ]
  },
  {
   "cell_type": "code",
   "execution_count": null,
   "metadata": {
    "colab": {
     "base_uri": "https://localhost:8080/",
     "height": 273
    },
    "id": "GMg5TsrxNexm",
    "outputId": "f76951a9-cf6f-4309-fe5d-5dbe76c7b190"
   },
   "outputs": [],
   "source": [
    "data_r = pd.read_csv(\"velprof-space.csv\", index_col=False)\n",
    "data_r.head()"
   ]
  },
  {
   "cell_type": "markdown",
   "metadata": {},
   "source": [
    "We can also merge the two datasets, which include both labels and features (it can be useful later)."
   ]
  },
  {
   "cell_type": "code",
   "execution_count": null,
   "metadata": {
    "id": "frCOBJ6C2fnn"
   },
   "outputs": [],
   "source": [
    "data_all = pd.concat([data_v, data_Re], axis=1)"
   ]
  },
  {
   "cell_type": "markdown",
   "metadata": {
    "id": "VCbieJGL5SOl"
   },
   "source": [
    "### Data Inspection and Visualization\n",
    "\n",
    "In this section, we will perform the following tasks:\n",
    "1. Plot a random velocity profile to visually examine the data.\n",
    "2. Compute and create a correlation matrix plot to analyze the relationships between variables."
   ]
  },
  {
   "cell_type": "code",
   "execution_count": null,
   "metadata": {
    "colab": {
     "base_uri": "https://localhost:8080/",
     "height": 309
    },
    "id": "xNrjoZEL5Swe",
    "outputId": "0f2c09ae-7bcd-40e7-9a0f-ca9cabcf92c1"
   },
   "outputs": [],
   "source": [
    "# Create a plot of random data from the datasets\n",
    "fig = plt.figure(figsize=(5, 3))\n",
    "indx = np.random.randint(data_v.shape[0] - 1)\n",
    "\n",
    "# Set the style of the plot to \"seaborn-v0_8-paper\"\n",
    "with plt.style.context(\"seaborn-v0_8-paper\"):\n",
    "    ax = fig.add_subplot(111)\n",
    "\n",
    "    # Plot the data and labels it with Re value\n",
    "    ax.plot(\n",
    "        data_r.iloc[indx, :],\n",
    "        data_v.iloc[indx, 4:],\n",
    "        labels=f\"Re = {data_Re.iloc[indx].values[0]:1.2f}\",\n",
    "    )\n",
    "\n",
    "    # Add a legend, labels, and titles to the plot\n",
    "    ax.legend(loc=\"lower left\")\n",
    "    ax.set_xlabel(\"r (m)\")\n",
    "    ax.set_ylabel(\"u (m/s)\")"
   ]
  },
  {
   "cell_type": "markdown",
   "metadata": {
    "id": "M_ltRySaYhQI"
   },
   "source": [
    "Let's study the data and its correlation"
   ]
  },
  {
   "cell_type": "code",
   "execution_count": null,
   "metadata": {
    "colab": {
     "base_uri": "https://localhost:8080/",
     "height": 590
    },
    "id": "Iuh0b5LFPlin",
    "outputId": "0c4dabe7-9d29-4dac-eb6e-e713bf4d684f"
   },
   "outputs": [],
   "source": [
    "# Correlation Matrix Plot\n",
    "\n",
    "# Define the number of bins and create a figure\n",
    "Nbins = 50\n",
    "fig = plt.figure(figsize=(6, 6))\n",
    "\n",
    "# Define the labels for the correlation matrix\n",
    "labels = [\n",
    "    \"Re(-)\",\n",
    "    \"mu(Pas)\",\n",
    "    \"rho(kg/m3)\",\n",
    "    \"L(m)\",\n",
    "    \"R(m)\",\n",
    "    \"vel[0](m/s)\",\n",
    "    \"vel[1](m/s)\",\n",
    "]\n",
    "N = len(labels)\n",
    "\n",
    "# Calculate the correlation matrix\n",
    "corr_matrix = data_all.corr()\n",
    "\n",
    "# Apply the \"seaborn-v0_8-paper\" style\n",
    "with plt.style.context(\"seaborn-v0_8-paper\"):\n",
    "    grid = fig.add_gridspec(N, N, wspace=0.03, hspace=0.03)\n",
    "    ax = []\n",
    "    cmap = plt.get_cmap(\"Blues\")\n",
    "\n",
    "    for i in range(N):\n",
    "        for j in range(N):\n",
    "            ax.append(fig.add_subplot(grid[i, j]))\n",
    "\n",
    "            # Plot scatter for lower triangle, correlation value for upper triangle, and histograms for diagonal\n",
    "            if j < i:\n",
    "                ax[-1].scatter(data_all[labels[j]], data_all[labels[i]], s=1, alpha=0.1)\n",
    "            elif j > i:\n",
    "                corr = corr_matrix.loc[labels[j], labels[i]]\n",
    "                ax[-1].text(0.5, 0.5, f\"{corr:1.3f}\", ha=\"center\", va=\"center\")\n",
    "                ax[-1].set_facecolor(cmap(np.abs(corr)))\n",
    "                ax[-1].set_xticks([])\n",
    "                ax[-1].set_yticks([])\n",
    "            else:\n",
    "                ax[-1].hist(data_all[labels[i]], bins=Nbins, alpha=0.5)\n",
    "\n",
    "            # Set labels for x and y axes\n",
    "            if j == 0 or i == N - 1:\n",
    "                if j == 0 and i != N - 1:\n",
    "                    ax[-1].set_ylabel(labels[i])\n",
    "                    ax[-1].set_xticklabels([])\n",
    "                elif i == N - 1 and j != 0:\n",
    "                    ax[-1].set_xlabel(labels[j])\n",
    "                    ax[-1].set_yticklabels([])\n",
    "                else:\n",
    "                    ax[-1].set_ylabel(labels[i])\n",
    "                    ax[-1].set_xlabel(labels[j])\n",
    "\n",
    "            # Remove tick labels\n",
    "            ax[-1].set_xticklabels([])\n",
    "            ax[-1].set_yticklabels([])\n",
    "\n",
    "    # Set the title for the correlation matrix\n",
    "    fig.suptitle(\"(Pearson) Correlation matrix\")\n",
    "\n",
    "# Show the plot\n",
    "plt.show()"
   ]
  },
  {
   "cell_type": "markdown",
   "metadata": {
    "id": "-jL2z4K07mzZ"
   },
   "source": [
    "## Downsampling the database\n",
    "\n",
    "The dataset contains too many data points (100,000), so we will reduce it to 5,000 by randomly selecting from the entire database."
   ]
  },
  {
   "cell_type": "code",
   "execution_count": null,
   "metadata": {
    "id": "84bOvbDDVn8z"
   },
   "outputs": [],
   "source": [
    "# Get the total number of data points in data_v\n",
    "Nall = data_v.shape[0]\n",
    "\n",
    "# Define the desired number of smaller data points to select\n",
    "Nsmall = 5000\n",
    "\n",
    "# Initialize a random number generator with a specific seed for reproducibility\n",
    "rand_gen = np.random.default_rng(seed=1234)\n",
    "\n",
    "# Generate a random sample of indices without replacement from the range [0, Nall)\n",
    "# This will be used to select a subset of data_v and data_Re\n",
    "indx = rand_gen.choice(np.arange(Nall), size=Nsmall, replace=False)\n",
    "\n",
    "# Create smaller subsets of data_v and data_Re based on the randomly selected indices\n",
    "data_v_small = data_v.iloc[indx, :]\n",
    "data_Re_small = data_Re.iloc[indx, :]"
   ]
  },
  {
   "cell_type": "markdown",
   "metadata": {
    "id": "4r2sqhPeBNJA"
   },
   "source": [
    "let's store it as `.csv` (comma-separated values)"
   ]
  },
  {
   "cell_type": "code",
   "execution_count": null,
   "metadata": {
    "id": "G3yWskJZBP5u"
   },
   "outputs": [],
   "source": [
    "data_v_small.to_csv(\"small-data.csv\", index=False)\n",
    "data_Re_small.to_csv(\"small-Re.csv\", index=False)"
   ]
  },
  {
   "cell_type": "markdown",
   "metadata": {
    "id": "ZW8Xxqkj_gqw"
   },
   "source": [
    "## Model 1: Binary Classification\n",
    "\n",
    "In this section, we will employ our Neural-Network model for binary classification with the primary goal of distinguishing between turbulent and non-turbulent conditions. It's essential to clarify that, within the context of our database, \"non-turbulent\" encompasses both laminar and transitional conditions. Please note that for transitional conditions, the velocity profile results are obtained through interpolation, which may exhibit empirical inaccuracy."
   ]
  },
  {
   "cell_type": "markdown",
   "metadata": {
    "id": "MCp3ul3GFDUI"
   },
   "source": [
    "### Setup database\n",
    "\n",
    "We load the features and the labels of our first model."
   ]
  },
  {
   "cell_type": "code",
   "execution_count": null,
   "metadata": {
    "id": "YsuC9LV7FUgh"
   },
   "outputs": [],
   "source": [
    "features = pd.read_csv(\"small-data.csv\", index_col=False).iloc[\n",
    "    :, 4:\n",
    "]  # Note: we drop the first 4 columns to study only the velocity profile\n",
    "labels = pd.read_csv(\"small-Re.csv\", index_col=False)"
   ]
  },
  {
   "cell_type": "markdown",
   "metadata": {},
   "source": [
    "Display the first few rows of the features."
   ]
  },
  {
   "cell_type": "code",
   "execution_count": null,
   "metadata": {
    "colab": {
     "base_uri": "https://localhost:8080/",
     "height": 273
    },
    "id": "tutRAhKkGH6e",
    "outputId": "ce9647ac-5967-4def-9c98-48633ebd9521"
   },
   "outputs": [],
   "source": [
    "features.head()"
   ]
  },
  {
   "cell_type": "markdown",
   "metadata": {},
   "source": [
    "Display the first few rows of the labels."
   ]
  },
  {
   "cell_type": "code",
   "execution_count": null,
   "metadata": {
    "colab": {
     "base_uri": "https://localhost:8080/",
     "height": 206
    },
    "id": "O_aJe56njcUu",
    "outputId": "d25e2d2e-2d08-449e-d49a-d939a7a8778a"
   },
   "outputs": [],
   "source": [
    "labels.head()"
   ]
  },
  {
   "cell_type": "markdown",
   "metadata": {
    "id": "Ot3bq9CWjaHX"
   },
   "source": [
    "Next, we will convert the labels from numerical (`float`) to boolean (`bool`) using the following criteria:\n",
    "\n",
    "* `True` when the flow is turbulent ($Re \\ge 10^4$).\n",
    "* `False` when the flow is non-turbulent, which includes both laminar and transitional regimes ($Re < 10^4$)."
   ]
  },
  {
   "cell_type": "code",
   "execution_count": null,
   "metadata": {
    "id": "mBWgcn8xB0cO"
   },
   "outputs": [],
   "source": [
    "labels_Re = labels.pop(\"Re(-)\")\n",
    "labels[\"Turbolent\"] = labels_Re >= 1e4"
   ]
  },
  {
   "cell_type": "markdown",
   "metadata": {},
   "source": [
    "Display the first few rows of the updated labels."
   ]
  },
  {
   "cell_type": "code",
   "execution_count": null,
   "metadata": {
    "colab": {
     "base_uri": "https://localhost:8080/",
     "height": 206
    },
    "id": "gf4WNC7OkcJu",
    "outputId": "05f1e07e-5f51-41bc-b989-bb711733d369"
   },
   "outputs": [],
   "source": [
    "labels.head()"
   ]
  },
  {
   "cell_type": "markdown",
   "metadata": {
    "id": "NuEFFf5G_ODX"
   },
   "source": [
    "To create a training and test dataset, we perform an 80/20 split. \n",
    "\n",
    "The purpose of this split is to reserve a portion of the data for testing the model's performance while ensuring that the two sets have a statistically similar distribution of features and labels. Since the database is already shuffled, we can conveniently take the first 1000 data points as the test set, given the total dataset size of 5000 items."
   ]
  },
  {
   "cell_type": "code",
   "execution_count": null,
   "metadata": {
    "id": "zhgLDXeS-ilW"
   },
   "outputs": [],
   "source": [
    "# Splitting the dataset into training and test sets\n",
    "# Training set (80% of the data)\n",
    "labels_train = labels.iloc[1000:, :]\n",
    "features_train = features.iloc[1000:, :]\n",
    "labels_Re_train = labels_Re.iloc[1000:]\n",
    "\n",
    "# Test set (20% of the data)\n",
    "labels_test = labels.iloc[:1000, :]\n",
    "features_test = features.iloc[:1000, :]\n",
    "labels_Re_test = labels_Re.iloc[:1000]"
   ]
  },
  {
   "cell_type": "markdown",
   "metadata": {
    "id": "m1o08OhLlWjg"
   },
   "source": [
    "### Storing\n",
    "\n",
    "We will store the datasets and labels in a structured folder for future use."
   ]
  },
  {
   "cell_type": "code",
   "execution_count": null,
   "metadata": {
    "id": "vMrHqRUT-2Yh"
   },
   "outputs": [],
   "source": [
    "pathlib.Path(\"model_1\").mkdir(parents=True, exist_ok=True)  # Make a folder\n",
    "# Make train and test subfolders\n",
    "pathlib.Path(os.path.join(\"model_1\", \"train\")).mkdir(exist_ok=True)\n",
    "pathlib.Path(os.path.join(\"model_1\", \"test\")).mkdir(exist_ok=True)\n",
    "# Storing\n",
    "labels_train.to_csv(os.path.join(\"model_1\", \"train\", \"labels.csv\"), index=False)\n",
    "labels_test.to_csv(os.path.join(\"model_1\", \"test\", \"labels.csv\"), index=False)\n",
    "features_train.to_csv(os.path.join(\"model_1\", \"train\", \"features.csv\"), index=False)\n",
    "features_test.to_csv(os.path.join(\"model_1\", \"test\", \"features.csv\"), index=False)"
   ]
  },
  {
   "cell_type": "markdown",
   "metadata": {},
   "source": [
    "### First Try\n",
    "\n",
    "#### Building the Model with Keras and TensorFlow\n",
    "\n",
    "Now we define a function to create our neural network model using Keras and TensorFlow. This involves designing the layers, specifying their connections, and defining their behavior, including activation functions, regularization, dropout, and more.\n",
    "\n",
    "In a neural network, a *layer* serves as a fundamental building block responsible for processing data and extracting features. Layers are combined to form the architecture of the neural network. Each layer consists of one or more \"neurons\" (also known as \"nodes\" or \"units\").\n",
    "\n",
    "For our first model, we need to include the following types of layers:\n",
    "\n",
    "* **Input Layer**: This is the initial layer that receives raw input data. Its primary role is to pass the data to subsequent layers. The input layer typically has one neuron for each feature present in the input data.\n",
    "\n",
    "* **Hidden Layers**: These intermediate layers sit between the input and output layers. Hidden layers perform complex transformations on the data, enabling the network to learn and extract features from the input. Each neuron in a hidden layer receives input from multiple neurons in the previous layer.\n",
    "\n",
    "* **Output Layer**: The final layer in the neural network is responsible for producing the model's predictions. The number of neurons in the output layer depends on the nature of the problem being addressed. For binary classification (True/False or 0/1), a single neuron is common in the output layer. In multiclass classification or regression tasks, the number of output neurons can vary.\n",
    "\n",
    "In addition to layers, we also introduce the concept of an *activation function*. An activation function is a critical element within each neuron of a neural network. It dictates how the output of a neuron is calculated based on its input. The activation function introduces non-linearity into the model, allowing it to learn complex patterns and relationships within the data.\n",
    "\n",
    "Common activation functions include:\n",
    "\n",
    "* **ReLU (Rectified Linear Unit)**: ReLU is one of the most widely used activation functions. It returns the input value if it's positive and zero if it's negative. Mathematically, it can be represented as \\(f(x) = \\max(0, x)\\). ReLU is effective in training deep networks and addressing the vanishing gradient problem.\n",
    "\n",
    "* **Sigmoid**: The sigmoid activation function is commonly used in the output layer of binary classification models. It squashes the output into a range between 0 and 1, which can be interpreted as a probability. Mathematically, it's expressed as \\(f(x) = \\frac{1}{1 + e^{-x}}\\).\n",
    "\n",
    "* **Tanh (Hyperbolic Tangent)**: Tanh is similar to the sigmoid function but maps values to the range between -1 and 1. It is often used in hidden layers. Mathematically, it's defined as \\(f(x) = \\frac{e^{x} - e^{-x}}{e^{x} + e^{-x}}\\).\n",
    "\n",
    "The choice of the activation function depends on the specific problem and the architecture of the network. Each activation function has its own strengths and weaknesses, and selecting the right one is a crucial part of the network design process.\n",
    "\n",
    "In our case, we use the `relu` (Rectified Linear Unit) activation function in the first hidden layer and a smoother function like `sigmoid` for the output layer.\n"
   ]
  },
  {
   "cell_type": "code",
   "execution_count": null,
   "metadata": {
    "id": "RToY7LfOluwF"
   },
   "outputs": [],
   "source": [
    "def build_model_1(n_cols: int) -> tf.keras.models.Sequential:\n",
    "    \"\"\"\n",
    "    Build a the first possible architecture for our neural network model.\n",
    "\n",
    "    Args:\n",
    "        n_cols (int): Number of input features.\n",
    "\n",
    "    Returns:\n",
    "        tf.keras.models.Sequential: A Keras Sequential model.\n",
    "    \"\"\"\n",
    "    model = Sequential(\n",
    "        [\n",
    "            # Input layer with the specified input shape\n",
    "            layers.InputLayer(input_shape=(n_cols,), name=\"input_layer\"),\n",
    "            # Add the first hidden layer with 64 perceptron and ReLU activation\n",
    "            layers.Dense(64, activation=\"relu\", name=\"hidden_layer_1\"),\n",
    "            # Add the output layer with a single perceptron (we expect a True/False answer) and sigmoid activation\n",
    "            layers.Dense(1, activation=\"sigmoid\", name=\"output_layer\"),\n",
    "        ]\n",
    "    )\n",
    "    return model"
   ]
  },
  {
   "cell_type": "markdown",
   "metadata": {
    "id": "6mwLYp_WAkK1"
   },
   "source": [
    "Let's call the function to build our model."
   ]
  },
  {
   "cell_type": "code",
   "execution_count": null,
   "metadata": {
    "id": "8Foqg8JhAksQ"
   },
   "outputs": [],
   "source": [
    "model = build_model_1(features.shape[1])"
   ]
  },
  {
   "cell_type": "markdown",
   "metadata": {
    "id": "Pl6f1wJQBX14"
   },
   "source": [
    "#### Model Summary and Structure Visualization\n",
    "\n",
    "Let's examine the summary of our compiled model and visualize its architecture.\n",
    "\n",
    "Given that the input data has 50 features and the first hidden layer consists of 64 neurons (each with weights $w$ and biases $b$), we have the following:\n",
    "\n",
    "- Number of parameters in the first hidden layer ($\\mathbf{w}_{h1}$): $50 \\times 64 = 3200$\n",
    "- Number of parameters in the first hidden layer biases ($\\mathbf{b}_{h1}$): $1 \\times 64 = 64$\n",
    "\n",
    "In addition, considering the output layer:\n",
    "\n",
    "- Number of parameters in the output layer weights ($\\mathbf{w}_{o}$): $64 \\times 1 = 64$\n",
    "- Number of parameters in the output layer biases ($\\mathbf{b}_{o}$): $64 \\times 1 = 1$\n",
    "\n",
    "This results in a total of 3329 degrees of freedom (dofs) within our model."
   ]
  },
  {
   "cell_type": "code",
   "execution_count": null,
   "metadata": {
    "colab": {
     "base_uri": "https://localhost:8080/"
    },
    "id": "OswAkDOgCdOs",
    "outputId": "257ab9b4-6be3-43a8-c6fc-2634f5d489c0"
   },
   "outputs": [],
   "source": [
    "model.summary()"
   ]
  },
  {
   "cell_type": "code",
   "execution_count": null,
   "metadata": {
    "colab": {
     "base_uri": "https://localhost:8080/",
     "height": 118
    },
    "id": "FraaL19gBh0h",
    "outputId": "e90faec2-44ed-4a1f-fb07-4e342bdee1e1"
   },
   "outputs": [],
   "source": [
    "tf.keras.utils.plot_model(\n",
    "    model=model, rankdir=\"LR\", dpi=72, show_shapes=True, show_layer_activations=True\n",
    ")"
   ]
  },
  {
   "cell_type": "markdown",
   "metadata": {},
   "source": [
    "#### Model Compilation\n",
    "\n",
    "Now we will compile our neural network model. Model compilation involves defining key components, such as the loss function, optimizer, learning rate, and evaluation metrics.\n",
    "\n",
    "##### Loss Function\n",
    "\n",
    "For our binary classification task, we use the Binary Cross-Entropy loss function. The *Binary Cross-Entropy* loss is calculated as:\n",
    "\n",
    "$\\text{Binary Cross-Entropy Loss} = -\\frac{1}{N}\\sum_{i=1}^{N}\\left(y_i \\log(p_i) + (1 - y_i) \\log(1 - p_i)\\right) $\n",
    "\n",
    "where $N$ is the number of samples, $y_i$ represents the true labels, and $p_i$ is the predicted probability of the positive class."
   ]
  },
  {
   "cell_type": "code",
   "execution_count": null,
   "metadata": {},
   "outputs": [],
   "source": [
    "loss = losses.BinaryCrossentropy(from_logits=True)"
   ]
  },
  {
   "cell_type": "markdown",
   "metadata": {},
   "source": [
    "##### Optimizer\n",
    "\n",
    "We use the *Adam* optimizer, a popular choice for training neural networks. The [Adam optimization algorithm](https://doi.org/10.48550/arXiv.1412.6980) is a neural network-specific adaptation of the [Stochastic Gradient Descent (SGD)](https://en.wikipedia.org/wiki/Stochastic_gradient_descent) method."
   ]
  },
  {
   "cell_type": "code",
   "execution_count": null,
   "metadata": {},
   "outputs": [],
   "source": [
    "optimizer = optimizers.Adam(learning_rate=1e-2, beta_1=0.9, beta_2=0.999, epsilon=1e-08)"
   ]
  },
  {
   "cell_type": "markdown",
   "metadata": {},
   "source": [
    "##### Metrics\n",
    "\n",
    "Metrics are functions needed to measure the behavior of our model. There are many to choose from depending on the task of the model. For our case:\n",
    "\n",
    "- **Accuracy**: This metric measures the overall classification accuracy of the model. It is calculated as the ratio of correct predictions to the total number of samples.\n",
    "\n",
    "- **Binary Accuracy**: It's a specific metric for binary classification tasks. We use a threshold of 0.5 to determine binary predictions. Binary accuracy is computed as:\n",
    "\n",
    "$ \\text{Accuracy} = \\frac{\\text{Number of Correct Predictions}}{\\text{Total Number of Predictions}} $"
   ]
  },
  {
   "cell_type": "code",
   "execution_count": null,
   "metadata": {},
   "outputs": [],
   "source": [
    "metrics = [\n",
    "    metrics.Accuracy(),\n",
    "    metrics.BinaryAccuracy(threshold=0.5),\n",
    "]"
   ]
  },
  {
   "cell_type": "markdown",
   "metadata": {},
   "source": [
    "\n",
    "##### Compilation\n",
    "\n",
    "Finally, we compile the model by specifying the optimizer, loss function, and metrics."
   ]
  },
  {
   "cell_type": "code",
   "execution_count": null,
   "metadata": {},
   "outputs": [],
   "source": [
    "model.compile(\n",
    "    optimizer,\n",
    "    loss,\n",
    "    metrics,\n",
    ")"
   ]
  },
  {
   "cell_type": "markdown",
   "metadata": {
    "id": "pBArdA58HErL"
   },
   "source": [
    "#### Training\n",
    "In training, we define two key parameters:"
   ]
  },
  {
   "cell_type": "code",
   "execution_count": null,
   "metadata": {
    "id": "ULdIIY_fHKBx"
   },
   "outputs": [],
   "source": [
    "batch_size = 512\n",
    "epochs = 100"
   ]
  },
  {
   "cell_type": "markdown",
   "metadata": {},
   "source": [
    "* **Batch Size**: It specifies the number of training examples used in each iteration. A smaller batch size updates the model more frequently, while a larger one may improve training efficiency but requiring more volatile memory (RAM).\n",
    "\n",
    "* **Epochs**: Each epoch represents one pass through the entire training dataset. It controls how many times the model iterates over the data, influencing convergence and potential overfitting."
   ]
  },
  {
   "cell_type": "markdown",
   "metadata": {},
   "source": [
    "Let's (finally) start the training process."
   ]
  },
  {
   "cell_type": "code",
   "execution_count": null,
   "metadata": {
    "colab": {
     "base_uri": "https://localhost:8080/"
    },
    "id": "2Uz4jwPtHGB7",
    "outputId": "058c75a9-5a0c-4834-81f6-6ca2a31de13c"
   },
   "outputs": [],
   "source": [
    "history = model.fit(\n",
    "    np.array(features_train),  # before to feed the data we convert it into an array\n",
    "    np.array(labels_train).astype(\"float\"),\n",
    "    batch_size,\n",
    "    epochs,\n",
    "    validation_data=(\n",
    "        np.array(features_test),\n",
    "        np.array(labels_test).astype(\"float\"),\n",
    "    ),  # test-set\n",
    "    verbose=1,  # 0 = silent, 1 = progress bar, 2 = one line per epoch\n",
    ")"
   ]
  },
  {
   "cell_type": "markdown",
   "metadata": {
    "id": "-loZjQNrOjLN"
   },
   "source": [
    "#### Plot Training Progress\n",
    "\n",
    "Now, we can plot the training progress."
   ]
  },
  {
   "cell_type": "code",
   "execution_count": null,
   "metadata": {
    "id": "tVUl8PLKMdac"
   },
   "outputs": [],
   "source": [
    "# Plot traing loop\n",
    "train_binary_accuracy = np.array(history.history[\"binary_accuracy\"])\n",
    "test_binary_accuracy = np.array(history.history[\"val_binary_accuracy\"])\n",
    "train_loss = np.array(history.history[\"loss\"])\n",
    "test_loss = np.array(history.history[\"val_loss\"])\n",
    "\n",
    "\n",
    "epochs_i = np.arange(1, train_loss.shape[0] + 1)"
   ]
  },
  {
   "cell_type": "code",
   "execution_count": null,
   "metadata": {
    "colab": {
     "base_uri": "https://localhost:8080/",
     "height": 333
    },
    "id": "oJ_iSIsjQh38",
    "outputId": "72a3fc22-de64-420f-dfa2-325cd10d4cf8"
   },
   "outputs": [],
   "source": [
    "fig = plt.figure(figsize=(6, 3.3))\n",
    "with plt.style.context(\"seaborn-v0_8-paper\"):\n",
    "    ax = fig.add_subplot(111)\n",
    "    ax_twin = ax.twinx()\n",
    "    a1 = ax.plot(\n",
    "        epochs_i,\n",
    "        train_binary_accuracy * 100,\n",
    "        color=\"k\",\n",
    "        ls=\"-\",\n",
    "        labels=\"Binary accuracy (train)\",\n",
    "    )\n",
    "    a2 = ax.plot(\n",
    "        epochs_i,\n",
    "        test_binary_accuracy * 100,\n",
    "        color=\"k\",\n",
    "        ls=\"--\",\n",
    "        labels=\"Binary accuracy (test)\",\n",
    "    )\n",
    "    l1 = ax_twin.plot(epochs_i, train_loss, color=\"r\", ls=\"-\", labels=\"Loss (train)\")\n",
    "    l2 = ax_twin.plot(epochs_i, test_loss, color=\"r\", ls=\"--\", labels=\"Loss (test)\")\n",
    "    ax.set_xlabel(\"Epochs [-]\")\n",
    "    ax.set_ylabel(\"Binary accuracy [%]\")\n",
    "    ax_twin.set_ylabel(\"Loss [-]\")\n",
    "    ax_twin.legend(\n",
    "        a1 + a2 + l1 + l2,\n",
    "        [\n",
    "            \"Binary accuracy (train)\",\n",
    "            \"Binary accuracy (test)\",\n",
    "            \"Loss (train)\",\n",
    "            \"Loss (test)\",\n",
    "        ],\n",
    "        loc=\"center right\",\n",
    "    )\n",
    "plt.show()"
   ]
  },
  {
   "cell_type": "markdown",
   "metadata": {},
   "source": [
    "#### Model result analysis\n",
    "\n",
    "Let's compare the model's predictions with the Reynolds number."
   ]
  },
  {
   "cell_type": "code",
   "execution_count": null,
   "metadata": {
    "colab": {
     "base_uri": "https://localhost:8080/"
    },
    "id": "3z01ZChgQpV8",
    "outputId": "dc218a11-d891-497d-ca8c-98fdab949346"
   },
   "outputs": [],
   "source": [
    "# Predictions are generated using the model over the test set,\n",
    "# which the model has never seen during training.\n",
    "predictions = model.predict(np.array(features_test))"
   ]
  },
  {
   "cell_type": "code",
   "execution_count": null,
   "metadata": {
    "colab": {
     "base_uri": "https://localhost:8080/",
     "height": 332
    },
    "id": "FaNAI-wLQ9Um",
    "outputId": "349669d0-b358-40ea-d7c3-36d1f9e1ed0e"
   },
   "outputs": [],
   "source": [
    "fig = plt.figure(figsize=(7, 3.3))\n",
    "with plt.style.context(\"seaborn-v0_8-paper\"):\n",
    "    ax = fig.add_subplot(111)\n",
    "    axins = ax.inset_axes([0.3, 0.3, 0.65, 0.54])\n",
    "    ax.scatter(labels_Re_test, predictions, s=7, alpha=0.4)\n",
    "    axins.scatter(labels_Re_test, predictions, s=7, alpha=0.4)\n",
    "    axins.set_xlim([0, 12000])\n",
    "    ax.indicate_inset_zoom(axins, edgecolor=\"black\")\n",
    "    ax.axvline(2e3, lw=1, color=\"k\", ls=\":\")\n",
    "    ax.axvline(1e4, lw=1, color=\"k\", ls=\":\")\n",
    "    ax.set_xlabel(\"Re [-]\")\n",
    "    ax.set_ylabel(\"Turbulence probability [-]\")"
   ]
  },
  {
   "cell_type": "markdown",
   "metadata": {
    "id": "RyECwdpVtE2j"
   },
   "source": [
    "In the following code cell, we define functions for deeper analysis, which we can use also later in the project."
   ]
  },
  {
   "cell_type": "code",
   "execution_count": null,
   "metadata": {
    "id": "e--qgHt3tJcD"
   },
   "outputs": [],
   "source": [
    "def compute_confusion_matrix(labels, predicted):\n",
    "    \"\"\"\n",
    "    Compute the confusion matrix and return its elements along with the indices of TP, TN, FP, and FN.\n",
    "\n",
    "    Args:\n",
    "        labels (array-like): The actual binary classification labels (0 or 1).\n",
    "        predicted (array-like): The predicted binary classification labels (0 or 1).\n",
    "\n",
    "    Returns:\n",
    "        numpy.ndarray: The 2x2 confusion matrix.\n",
    "        list: Indices of True Positives (TP)\n",
    "        list: Indices of True Negatives (TN)\n",
    "        list: Indices of False Positives (FP)\n",
    "        list: Indices of False Negatives (FN)\n",
    "    \"\"\"\n",
    "    if len(labels) != len(predicted):\n",
    "        raise ValueError(\"Input arrays must have the same length.\")\n",
    "\n",
    "    confusion_matrix = np.zeros((2, 2), dtype=int)\n",
    "    TP_indices, TN_indices, FP_indices, FN_indices = [], [], [], []\n",
    "\n",
    "    for i, (l, p) in enumerate(zip(labels, predicted)):\n",
    "        confusion_matrix[l][p] += 1\n",
    "        if l == 1 and p == 1:\n",
    "            TP_indices.append(i)\n",
    "        elif l == 0 and p == 0:\n",
    "            TN_indices.append(i)\n",
    "        elif l == 0 and p == 1:\n",
    "            FP_indices.append(i)\n",
    "        elif l == 1 and p == 0:\n",
    "            FN_indices.append(i)\n",
    "\n",
    "    return confusion_matrix, TP_indices, TN_indices, FP_indices, FN_indices\n",
    "\n",
    "def plot_conf_matrix(ax, confusion_matrix, class_names, cmap, title=\"Confusion Matrix\"):\n",
    "    \"\"\"\n",
    "    Plot the confusion matrix with percentages.\n",
    "\n",
    "    Args:\n",
    "        ax: Matplotlib axes to plot the matrix.\n",
    "        confusion_matrix (numpy.ndarray): The confusion matrix.\n",
    "        class_names: Class names for labeling.\n",
    "        cmap: Colormap for the plot.\n",
    "        title (str): Title for the plot.\n",
    "    \"\"\"\n",
    "    conf_matrix_perc = (confusion_matrix.T / confusion_matrix.sum(axis=1)).T * 100.0\n",
    "    cm = ax.imshow(\n",
    "        conf_matrix_perc, interpolation=\"nearest\", cmap=cmap, vmax=100.0, vmin=0.0\n",
    "    )\n",
    "    ax.set_title(title)\n",
    "    plt.colorbar(cm)\n",
    "\n",
    "    tick_marks = np.arange(len(class_names))\n",
    "    ax.set_xticks(tick_marks, class_names)\n",
    "    ax.set_yticks(tick_marks, class_names)\n",
    "    ax.set_yticklabels(class_names, rotation=90, ha=\"right\", va=\"center\")\n",
    "    for i in range(len(class_names)):\n",
    "        for j in range(len(class_names)):\n",
    "            ax.text(\n",
    "                j,\n",
    "                i,\n",
    "                f\"{conf_matrix_perc[i, j]:3.2f} %\",\n",
    "                horizontalalignment=\"center\",\n",
    "                color=\"k\",\n",
    "            )\n",
    "\n",
    "    ax.set_ylabel(\"True labels\")\n",
    "    ax.set_xlabel(\"Predicted labels\")\n",
    "\n",
    "def plot_velocity_conf_matrix(axs, cm_indices, velocity, class_names, title):\n",
    "    \"\"\"\n",
    "    Plot velocity profiles for TP, TN, FP, and FN.\n",
    "\n",
    "    Args:\n",
    "        axs: Matplotlib axes for subplots.\n",
    "        cm_indices: Confusion matrix indices.\n",
    "        velocity: Array of velocity profiles.\n",
    "        class_names: Class names for labeling.\n",
    "        title (str): Title for the plot.\n",
    "    \"\"\"\n",
    "    velocity = np.asarray(velocity)\n",
    "    r = np.linspace(0, 1, velocity.shape[1])\n",
    "    for i in range(2):\n",
    "        for j in range(2):\n",
    "            for k in cm_indices[i][j]:\n",
    "                axs[i][j].plot(r, velocity[k, :])\n",
    "            axs[i][j].set_yticks([np.mean(axs[i][j].get_ylim())], [class_names[i]])\n",
    "            axs[i][j].set_xticks([np.mean(axs[i][j].get_xlim())], [class_names[j])\n",
    "            axs[i][j].set_yticklabels(\n",
    "                [class_names[i]], rotation=90, ha=\"right\", va=\"center\"\n",
    "            )\n",
    "    ax.set_ylabel(\"True labels\")\n",
    "    axs[0][0].set_ylabel(\"True labels\")\n",
    "    axs[1][1].set_xlabel(\"Predicted labels\")\n",
    "    axs[0][1].set_xticklabels([])\n",
    "    axs[0][1].set_yticklabels([])\n",
    "    axs[1][1].set_yticklabels([])\n",
    "    axs[0][0].yaxis.set_label_coords(-0.22, 0.0, transform=axs[0][0].transAxes)\n",
    "    axs[1][1].xaxis.set_label_coords(0.0, -0.22, transform=axs[1][1].transAxes)\n",
    "    axs[0][0].set_title(title, loc=\"right\", fontdict={\"ha\": \"center\"})"
   ]
  },
  {
   "cell_type": "markdown",
   "metadata": {},
   "source": [
    "Now, let's compute the confusion matrix and plot it."
   ]
  },
  {
   "cell_type": "code",
   "execution_count": null,
   "metadata": {
    "colab": {
     "base_uri": "https://localhost:8080/",
     "height": 376
    },
    "id": "QPYY9jNYtSu2",
    "outputId": "625475cb-a916-4215-90cb-45c5eb8f0d6c"
   },
   "outputs": [],
   "source": [
    "conf_matrix, i_TP, i_TN, i_FP, i_FN = compute_confusion_matrix(\n",
    "    np.squeeze(np.array(labels_test).astype(int)),\n",
    "    np.squeeze(predictions > 0.5).astype(int),\n",
    ")\n",
    "\n",
    "fig = plt.figure(figsize=(14, 3.6))\n",
    "with plt.style.context(\"seaborn-v0_8-paper\"):\n",
    "    grid = fig.add_gridspec(2, 8, wspace=0.0, hspace=0.0)\n",
    "    ax_cm = fig.add_subplot(grid[:, :2])\n",
    "    plot_conf_matrix(ax_cm, conf_matrix, [\"Laminar\", \"Turbulent\"], \"summer\")\n",
    "    ax_cm_p = []\n",
    "    for i in range(2):\n",
    "        ax_ = []\n",
    "        for j in range(2):\n",
    "            ax_.append(fig.add_subplot(grid[i, j + 3]))\n",
    "        ax_cm_p.append(ax_)\n",
    "\n",
    "    ax_cm_pn = []\n",
    "    for i in range(2):\n",
    "        ax_ = []\n",
    "        for j in range(2):\n",
    "            ax_.append(fig.add_subplot(grid[i, j + 6]))\n",
    "        ax_cm_pn.append(ax_)\n",
    "\n",
    "    cm_i = [[i_TN, i_FP], [i_FN, i_TP]]\n",
    "    plot_velocity_conf_matrix(\n",
    "        ax_cm_p, cm_i, features_test, [\"Laminar\", \"Turbulent\"], \"Veloecity profiles\"\n",
    "    )\n",
    "    plot_velocity_conf_matrix(\n",
    "        ax_cm_pn,\n",
    "        cm_i,\n",
    "        (features_test.T / features_test.max(axis=1).values).T,\n",
    "        [\"Laminar\", \"Turbulent\"],\n",
    "        \"Veloecity profiles normalized\",\n",
    "    )\n",
    "\n",
    "\n",
    "plt.show()"
   ]
  },
  {
   "cell_type": "markdown",
   "metadata": {
    "id": "w6Ucd0vhAwO8"
   },
   "source": [
    "### What if we increse the model depth\n",
    "\n",
    "We are going to add a hiden layer"
   ]
  },
  {
   "cell_type": "code",
   "execution_count": null,
   "metadata": {
    "id": "MpALJK4KBVnK"
   },
   "outputs": [],
   "source": [
    "def build_model_1_deeper(n_cols):\n",
    "    model = tf.keras.Sequential(\n",
    "        [\n",
    "            tf.keras.layers.InputLayer(input_shape=(n_cols,), name=\"in\"),\n",
    "            tf.keras.layers.Dense(64, activation=\"relu\", name=\"h1\"),\n",
    "            tf.keras.layers.Dense(64, activation=\"relu\", name=\"h2\"),\n",
    "            tf.keras.layers.Dense(1, activation=\"sigmoid\", name=\"out\"),\n",
    "        ]\n",
    "    )\n",
    "    return model"
   ]
  },
  {
   "cell_type": "markdown",
   "metadata": {
    "id": "5kUupBdmBVnK"
   },
   "source": [
    "Let us call the function and build the model"
   ]
  },
  {
   "cell_type": "code",
   "execution_count": null,
   "metadata": {
    "id": "2RYS51i8BVnL"
   },
   "outputs": [],
   "source": [
    "model_v1 = build_model_1_deeper(features.shape[1])"
   ]
  },
  {
   "cell_type": "markdown",
   "metadata": {
    "id": "ZTbyZv6YBVnL"
   },
   "source": [
    "And let us see if if is all in order"
   ]
  },
  {
   "cell_type": "code",
   "execution_count": null,
   "metadata": {
    "colab": {
     "base_uri": "https://localhost:8080/"
    },
    "id": "FG1HAYFhBVnL",
    "outputId": "70b74f8b-5731-4994-fbb7-e11cbe214cfd"
   },
   "outputs": [],
   "source": [
    "model_v1.summary()"
   ]
  },
  {
   "cell_type": "code",
   "execution_count": null,
   "metadata": {
    "colab": {
     "base_uri": "https://localhost:8080/",
     "height": 118
    },
    "id": "mFZLChbYBVnM",
    "outputId": "52332d8d-2e2a-4129-e53f-535de12bdcdb"
   },
   "outputs": [],
   "source": [
    "tf.keras.utils.plot_model(\n",
    "    model=model_v1, rankdir=\"LR\", dpi=72, show_shapes=True, show_layer_activations=True\n",
    ")"
   ]
  },
  {
   "cell_type": "markdown",
   "metadata": {
    "id": "Btea2sQjB16Z"
   },
   "source": [
    "Now we compile the model"
   ]
  },
  {
   "cell_type": "code",
   "execution_count": null,
   "metadata": {
    "id": "-f9MAeOzBVnM"
   },
   "outputs": [],
   "source": [
    "optimizer = tf.keras.optimizers.Adam(\n",
    "    learning_rate=1e-2, beta_1=0.9, beta_2=0.999, epsilon=1e-08\n",
    ")\n",
    "loss = tf.keras.losses.BinaryCrossentropy(from_logits=True)\n",
    "metrics = [\n",
    "    tf.keras.metrics.Accuracy(),\n",
    "    tf.keras.metrics.BinaryAccuracy(threshold=0.5),\n",
    "]\n",
    "\n",
    "model_v1.compile(\n",
    "    optimizer,\n",
    "    loss,\n",
    "    metrics,\n",
    ")"
   ]
  },
  {
   "cell_type": "markdown",
   "metadata": {
    "id": "nrfKl3_yB4Q5"
   },
   "source": [
    "Training"
   ]
  },
  {
   "cell_type": "code",
   "execution_count": null,
   "metadata": {
    "id": "i_I4thlFBVnN"
   },
   "outputs": [],
   "source": [
    "batch_size = 512\n",
    "epochs = 100"
   ]
  },
  {
   "cell_type": "code",
   "execution_count": null,
   "metadata": {
    "colab": {
     "base_uri": "https://localhost:8080/"
    },
    "id": "ZogMonCUBVnN",
    "outputId": "b607094d-cd6a-48c2-eec2-4bf03545f408"
   },
   "outputs": [],
   "source": [
    "history_v1 = model_v1.fit(\n",
    "    np.array(features_train),  # before to feed the data we convert it into an array\n",
    "    np.array(labels_train).astype(\"float\"),\n",
    "    batch_size,\n",
    "    epochs,\n",
    "    validation_data=(\n",
    "        np.array(features_test),\n",
    "        np.array(labels_test).astype(\"float\"),\n",
    "    ),  # test-set\n",
    "    verbose=1,  # 0 = silent, 1 = progress bar, 2 = one line per epoch\n",
    ")"
   ]
  },
  {
   "cell_type": "markdown",
   "metadata": {
    "id": "ql_yna9fBVnN"
   },
   "source": [
    "Now we plot the training"
   ]
  },
  {
   "cell_type": "code",
   "execution_count": null,
   "metadata": {
    "id": "9I5_yNl6BVnO"
   },
   "outputs": [],
   "source": [
    "# Plot traing loop\n",
    "train_binary_accuracy_v1 = np.array(history_v1.history[\"binary_accuracy\"])\n",
    "test_binary_accuracy_v1 = np.array(history_v1.history[\"val_binary_accuracy\"])\n",
    "train_loss_v1 = np.array(history_v1.history[\"loss\"])\n",
    "test_loss_v1 = np.array(history_v1.history[\"val_loss\"])\n",
    "\n",
    "\n",
    "epochs_i = np.arange(1, train_loss_v1.shape[0] + 1)"
   ]
  },
  {
   "cell_type": "code",
   "execution_count": null,
   "metadata": {
    "colab": {
     "base_uri": "https://localhost:8080/",
     "height": 332
    },
    "id": "lYTd7NOdBVnO",
    "outputId": "a2b6060c-52c8-413e-edf8-5e5ed91c36c1"
   },
   "outputs": [],
   "source": [
    "fig = plt.figure(figsize=(6, 3.3))\n",
    "with plt.style.context(\"seaborn-v0_8-paper\"):\n",
    "    ax = fig.add_subplot(111)\n",
    "    ax_twin = ax.twinx()\n",
    "    a1 = ax.plot(\n",
    "        epochs_i,\n",
    "        train_binary_accuracy_v1 * 100,\n",
    "        color=\"k\",\n",
    "        ls=\"-\",\n",
    "        labels=\"Binary accuracy (train)\",\n",
    "    )\n",
    "    a2 = ax.plot(\n",
    "        epochs_i,\n",
    "        test_binary_accuracy_v1 * 100,\n",
    "        color=\"k\",\n",
    "        ls=\"--\",\n",
    "        labels=\"Binary accuracy (test)\",\n",
    "    )\n",
    "    l1 = ax_twin.plot(epochs_i, train_loss_v1, color=\"r\", ls=\"-\", labels=\"Loss (train)\")\n",
    "    l2 = ax_twin.plot(epochs_i, test_loss_v1, color=\"r\", ls=\"--\", labels=\"Loss (test)\")\n",
    "    ax.set_xlabel(\"Epochs [-]\")\n",
    "    ax.set_ylabel(\"Binary accuracy [%]\")\n",
    "    ax_twin.set_ylabel(\"Loss [-]\")\n",
    "    ax_twin.legend(\n",
    "        a1 + a2 + l1 + l2,\n",
    "        [\n",
    "            \"Binary accuracy (train)\",\n",
    "            \"Binary accuracy (test)\",\n",
    "            \"Loss (train)\",\n",
    "            \"Loss (test)\",\n",
    "        ],\n",
    "        loc=\"center right\",\n",
    "    )\n",
    "plt.show()"
   ]
  },
  {
   "cell_type": "markdown",
   "metadata": {
    "id": "EGIlWwOmBVnO"
   },
   "source": [
    "Now we compere the prediction respect the Reynolds number"
   ]
  },
  {
   "cell_type": "code",
   "execution_count": null,
   "metadata": {
    "colab": {
     "base_uri": "https://localhost:8080/"
    },
    "id": "e4l08P12BVnP",
    "outputId": "15b97424-b351-4a16-9263-23872ccbdb5d"
   },
   "outputs": [],
   "source": [
    "predictions_v1 = model_v1.predict(np.array(features_test))"
   ]
  },
  {
   "cell_type": "code",
   "execution_count": null,
   "metadata": {
    "colab": {
     "base_uri": "https://localhost:8080/",
     "height": 332
    },
    "id": "Ab5tJpVUBVnP",
    "outputId": "3c0d3ec4-8e82-4ada-c78b-cc68fa714986"
   },
   "outputs": [],
   "source": [
    "fig = plt.figure(figsize=(7, 3.3))\n",
    "with plt.style.context(\"seaborn-v0_8-paper\"):\n",
    "    ax = fig.add_subplot(111)\n",
    "    axins = ax.inset_axes([0.3, 0.3, 0.65, 0.54])\n",
    "    ax.scatter(labels_Re_test, predictions_v1, s=7, alpha=0.4)\n",
    "    axins.scatter(labels_Re_test, predictions_v1, s=7, alpha=0.4)\n",
    "    axins.set_xlim([0, 12000])\n",
    "    ax.indicate_inset_zoom(axins, edgecolor=\"black\")\n",
    "    ax.axvline(2e3, lw=1, color=\"k\", ls=\":\")\n",
    "    ax.axvline(1e4, lw=1, color=\"k\", ls=\":\")\n",
    "    ax.set_xlabel(\"Re [-]\")\n",
    "    ax.set_ylabel(\"Turbulence probability [-]\")"
   ]
  },
  {
   "cell_type": "code",
   "execution_count": null,
   "metadata": {
    "colab": {
     "base_uri": "https://localhost:8080/",
     "height": 376
    },
    "id": "66MyZcfRELYu",
    "outputId": "89dcad0e-cf66-4abc-b295-059d6086900b"
   },
   "outputs": [],
   "source": [
    "conf_matrix, i_TP, i_TN, i_FP, i_FN = compute_confusion_matrix(\n",
    "    np.squeeze(np.array(labels_test).astype(int)),\n",
    "    np.squeeze(predictions_v1 > 0.5).astype(int),\n",
    ")\n",
    "\n",
    "fig = plt.figure(figsize=(14, 3.6))\n",
    "with plt.style.context(\"seaborn-v0_8-paper\"):\n",
    "    grid = fig.add_gridspec(2, 8, wspace=0.0, hspace=0.0)\n",
    "    ax_cm = fig.add_subplot(grid[:, :2])\n",
    "    plot_conf_matrix(ax_cm, conf_matrix, [\"Laminar\", \"Turbulent\"], \"summer\")\n",
    "    ax_cm_p = []\n",
    "    for i in range(2):\n",
    "        ax_ = []\n",
    "        for j in range(2):\n",
    "            ax_.append(fig.add_subplot(grid[i, j + 3]))\n",
    "        ax_cm_p.append(ax_)\n",
    "\n",
    "    ax_cm_pn = []\n",
    "    for i in range(2):\n",
    "        ax_ = []\n",
    "        for j in range(2):\n",
    "            ax_.append(fig.add_subplot(grid[i, j + 6]))\n",
    "        ax_cm_pn.append(ax_)\n",
    "\n",
    "    cm_i = [[i_TN, i_FP], [i_FN, i_TP]]\n",
    "    plot_velocity_conf_matrix(\n",
    "        ax_cm_p, cm_i, features_test, [\"Laminar\", \"Turbulent\"], \"Veloecity profiles\"\n",
    "    )\n",
    "    plot_velocity_conf_matrix(\n",
    "        ax_cm_pn,\n",
    "        cm_i,\n",
    "        (features_test.T / features_test.max(axis=1).values).T,\n",
    "        [\"Laminar\", \"Turbulent\"],\n",
    "        \"Veloecity profiles normalized\",\n",
    "    )\n",
    "\n",
    "\n",
    "plt.show()"
   ]
  },
  {
   "cell_type": "markdown",
   "metadata": {
    "id": "FXYl3AnwxQ7-"
   },
   "source": [
    "### What if we increade the database"
   ]
  },
  {
   "cell_type": "markdown",
   "metadata": {
    "id": "zZGzLLrZxSQv"
   },
   "source": [
    "Let's build a medium size database with 40'000 points\n",
    "\n"
   ]
  },
  {
   "cell_type": "code",
   "execution_count": null,
   "metadata": {
    "id": "mTATP3YFxSQv"
   },
   "outputs": [],
   "source": [
    "Nall = data_v.shape[0]\n",
    "Nsmall = 40000\n",
    "\n",
    "rand_gen = np.random.default_rng(seed=1234)\n",
    "indx = rand_gen.choice(np.arange(Nall), size=Nsmall, replace=False)\n",
    "\n",
    "data_v_medium = data_v.iloc[indx, :]\n",
    "data_Re_medium = data_Re.iloc[indx, :]"
   ]
  },
  {
   "cell_type": "markdown",
   "metadata": {
    "id": "M7OwM6J_xSQw"
   },
   "source": [
    "let's store it"
   ]
  },
  {
   "cell_type": "code",
   "execution_count": null,
   "metadata": {
    "id": "VJHwDgahxSQw"
   },
   "outputs": [],
   "source": [
    "data_v_medium.to_csv(\"medium-data.csv\", index=False)\n",
    "data_Re_medium.to_csv(\"medium-Re.csv\", index=False)"
   ]
  },
  {
   "cell_type": "markdown",
   "metadata": {
    "id": "2J47g3k7yDPz"
   },
   "source": [
    "as before we reload the data for the *features* and the *labels* of our model, and split it in training and test set\n",
    "\n"
   ]
  },
  {
   "cell_type": "code",
   "execution_count": null,
   "metadata": {
    "id": "5rdCQHJuyDP1"
   },
   "outputs": [],
   "source": [
    "features_v2 = pd.read_csv(\"medium-data.csv\", index_col=False).iloc[\n",
    "    :, 4:\n",
    "]  # note: we drop the first 4 colomns to study only the velocity profile\n",
    "labels_v2 = pd.read_csv(\"medium-Re.csv\", index_col=False)"
   ]
  },
  {
   "cell_type": "code",
   "execution_count": null,
   "metadata": {
    "id": "oHVmnYYgyDP3"
   },
   "outputs": [],
   "source": [
    "labels_Re_v2 = labels_v2.pop(\"Re(-)\")\n",
    "labels_v2[\"Turbolent\"] = labels_Re_v2 >= 1e4"
   ]
  },
  {
   "cell_type": "code",
   "execution_count": null,
   "metadata": {
    "id": "dff7f8ISyDP4"
   },
   "outputs": [],
   "source": [
    "labels_train_v2 = labels_v2.iloc[8000:, :]\n",
    "labels_test_v2 = labels_v2.iloc[:8000, :]\n",
    "features_train_v2 = features_v2.iloc[8000:, :]\n",
    "features_test_v2 = features_v2.iloc[:8000, :]\n",
    "# the Re number will be useful later\n",
    "labels_Re_train_v2 = labels_Re_v2.iloc[8000:]\n",
    "labels_Re_test_v2 = labels_Re_v2.iloc[:8000]"
   ]
  },
  {
   "cell_type": "markdown",
   "metadata": {
    "id": "Z_-hIJtCyDP5"
   },
   "source": [
    "Storing"
   ]
  },
  {
   "cell_type": "code",
   "execution_count": null,
   "metadata": {
    "id": "3pJc_lT7yDP5"
   },
   "outputs": [],
   "source": [
    "pathlib.Path(\"model_1\").mkdir(parents=True, exist_ok=True)  # make a folder\n",
    "# make train and test subfolder\n",
    "pathlib.Path(os.path.join(\"model_1\", \"train\")).mkdir(exist_ok=True)\n",
    "pathlib.Path(os.path.join(\"model_1\", \"test\")).mkdir(exist_ok=True)\n",
    "# storin\n",
    "labels_train.to_csv(os.path.join(\"model_1\", \"train\", \"labels_v2.csv\"), index=False)\n",
    "labels_test.to_csv(os.path.join(\"model_1\", \"test\", \"labels_v2.csv\"), index=False)\n",
    "features_train.to_csv(os.path.join(\"model_1\", \"train\", \"features_v2.csv\"), index=False)\n",
    "features_test.to_csv(os.path.join(\"model_1\", \"test\", \"features_v2.csv\"), index=False)"
   ]
  },
  {
   "cell_type": "markdown",
   "metadata": {
    "id": "apOP-lRhyDP5"
   },
   "source": [
    "We now build the intila version of our model and compile it"
   ]
  },
  {
   "cell_type": "code",
   "execution_count": null,
   "metadata": {
    "id": "QuHbt__VyDP7"
   },
   "outputs": [],
   "source": [
    "model_v2 = build_model_1(features_v2.shape[1])"
   ]
  },
  {
   "cell_type": "code",
   "execution_count": null,
   "metadata": {
    "colab": {
     "base_uri": "https://localhost:8080/"
    },
    "id": "svspvTOMyDP8",
    "outputId": "fc63d516-7428-4a71-8b12-621534505760"
   },
   "outputs": [],
   "source": [
    "model_v2.summary()"
   ]
  },
  {
   "cell_type": "code",
   "execution_count": null,
   "metadata": {
    "colab": {
     "base_uri": "https://localhost:8080/",
     "height": 118
    },
    "id": "ksEaiYqryDP8",
    "outputId": "192eb073-aafa-4b66-bc48-667d8504617f"
   },
   "outputs": [],
   "source": [
    "tf.keras.utils.plot_model(\n",
    "    model=model_v2, rankdir=\"LR\", dpi=72, show_shapes=True, show_layer_activations=True\n",
    ")"
   ]
  },
  {
   "cell_type": "code",
   "execution_count": null,
   "metadata": {
    "id": "b7bjv0SOyDP9"
   },
   "outputs": [],
   "source": [
    "optimizer = tf.keras.optimizers.Adam(\n",
    "    learning_rate=1e-2, beta_1=0.9, beta_2=0.999, epsilon=1e-08\n",
    ")\n",
    "loss = tf.keras.losses.BinaryCrossentropy(from_logits=True)\n",
    "metrics = [\n",
    "    tf.keras.metrics.Accuracy(),\n",
    "    tf.keras.metrics.BinaryAccuracy(threshold=0.5),\n",
    "]\n",
    "\n",
    "model_v2.compile(\n",
    "    optimizer,\n",
    "    loss,\n",
    "    metrics,\n",
    ")"
   ]
  },
  {
   "cell_type": "markdown",
   "metadata": {
    "id": "Ma14dwV8yDP9"
   },
   "source": [
    "Training"
   ]
  },
  {
   "cell_type": "code",
   "execution_count": null,
   "metadata": {
    "id": "3vmhWQwWyDP9"
   },
   "outputs": [],
   "source": [
    "batch_size = 512\n",
    "epochs = 100"
   ]
  },
  {
   "cell_type": "code",
   "execution_count": null,
   "metadata": {
    "colab": {
     "base_uri": "https://localhost:8080/"
    },
    "id": "ZrN02POnyDP-",
    "outputId": "8f031118-91a7-475c-9965-f62b2526e3bd"
   },
   "outputs": [],
   "source": [
    "history_v2 = model_v2.fit(\n",
    "    np.array(features_train_v2),  # before to feed the data we convert it into an array\n",
    "    np.array(labels_train_v2).astype(\"float\"),\n",
    "    batch_size,\n",
    "    epochs,\n",
    "    validation_data=(\n",
    "        np.array(features_test_v2),\n",
    "        np.array(labels_test_v2).astype(\"float\"),\n",
    "    ),  # test-set\n",
    "    verbose=1,  # 0 = silent, 1 = progress bar, 2 = one line per epoch\n",
    ")"
   ]
  },
  {
   "cell_type": "markdown",
   "metadata": {
    "id": "k4b8JJBkyDP-"
   },
   "source": [
    "Now we perfome the usual analisys"
   ]
  },
  {
   "cell_type": "code",
   "execution_count": null,
   "metadata": {
    "id": "h0gR-RrbyDP-"
   },
   "outputs": [],
   "source": [
    "# Plot traing loop\n",
    "train_binary_accuracy_v2 = np.array(history_v2.history[\"binary_accuracy\"])\n",
    "test_binary_accuracy_v2 = np.array(history_v2.history[\"val_binary_accuracy\"])\n",
    "train_loss_v2 = np.array(history_v2.history[\"loss\"])\n",
    "test_loss_v2 = np.array(history_v2.history[\"val_loss\"])\n",
    "\n",
    "\n",
    "epochs_i = np.arange(1, train_loss_v2.shape[0] + 1)"
   ]
  },
  {
   "cell_type": "code",
   "execution_count": null,
   "metadata": {
    "colab": {
     "base_uri": "https://localhost:8080/",
     "height": 332
    },
    "id": "JuvMevPpyDP_",
    "outputId": "be31c483-f9eb-4d20-8cc9-17632681e828"
   },
   "outputs": [],
   "source": [
    "fig = plt.figure(figsize=(6, 3.3))\n",
    "with plt.style.context(\"seaborn-v0_8-paper\"):\n",
    "    ax = fig.add_subplot(111)\n",
    "    ax_twin = ax.twinx()\n",
    "    a1 = ax.plot(\n",
    "        epochs_i,\n",
    "        train_binary_accuracy_v2 * 100,\n",
    "        color=\"k\",\n",
    "        ls=\"-\",\n",
    "        labels=\"Binary accuracy (train)\",\n",
    "    )\n",
    "    a2 = ax.plot(\n",
    "        epochs_i,\n",
    "        test_binary_accuracy_v2 * 100,\n",
    "        color=\"k\",\n",
    "        ls=\"--\",\n",
    "        labels=\"Binary accuracy (test)\",\n",
    "    )\n",
    "    l1 = ax_twin.plot(epochs_i, train_loss_v2, color=\"r\", ls=\"-\", labels=\"Loss (train)\")\n",
    "    l2 = ax_twin.plot(epochs_i, test_loss_v2, color=\"r\", ls=\"--\", labels=\"Loss (test)\")\n",
    "    ax.set_xlabel(\"Epochs [-]\")\n",
    "    ax.set_ylabel(\"Binary accuracy [%]\")\n",
    "    ax_twin.set_ylabel(\"Loss [-]\")\n",
    "    ax_twin.legend(\n",
    "        a1 + a2 + l1 + l2,\n",
    "        [\n",
    "            \"Binary accuracy (train)\",\n",
    "            \"Binary accuracy (test)\",\n",
    "            \"Loss (train)\",\n",
    "            \"Loss (test)\",\n",
    "        ],\n",
    "        loc=\"center right\",\n",
    "    )\n",
    "plt.show()"
   ]
  },
  {
   "cell_type": "code",
   "execution_count": null,
   "metadata": {
    "colab": {
     "base_uri": "https://localhost:8080/"
    },
    "id": "qInfEGvvyDP_",
    "outputId": "3fa65e5f-fa66-416c-dddf-e5762c52e422"
   },
   "outputs": [],
   "source": [
    "predictions_v2 = model.predict(np.array(features_test_v2))"
   ]
  },
  {
   "cell_type": "code",
   "execution_count": null,
   "metadata": {
    "colab": {
     "base_uri": "https://localhost:8080/",
     "height": 332
    },
    "id": "4yP62wTmyDQA",
    "outputId": "170a148d-ff40-40f6-a124-537f58b59339"
   },
   "outputs": [],
   "source": [
    "fig = plt.figure(figsize=(7, 3.3))\n",
    "with plt.style.context(\"seaborn-v0_8-paper\"):\n",
    "    ax = fig.add_subplot(111)\n",
    "    axins = ax.inset_axes([0.3, 0.3, 0.65, 0.54])\n",
    "    ax.scatter(labels_Re_test_v2, predictions_v2, s=7, alpha=0.4)\n",
    "    axins.scatter(labels_Re_test_v2, predictions_v2, s=7, alpha=0.4)\n",
    "    axins.set_xlim([0, 12000])\n",
    "    ax.indicate_inset_zoom(axins, edgecolor=\"black\")\n",
    "    ax.axvline(2e3, lw=1, color=\"k\", ls=\":\")\n",
    "    ax.axvline(1e4, lw=1, color=\"k\", ls=\":\")\n",
    "    ax.set_xlabel(\"Re [-]\")\n",
    "    ax.set_ylabel(\"Turbulence probability [-]\")"
   ]
  },
  {
   "cell_type": "markdown",
   "metadata": {
    "id": "89gYRIkuyDQA"
   },
   "source": [
    "Futher analysis"
   ]
  },
  {
   "cell_type": "code",
   "execution_count": null,
   "metadata": {
    "colab": {
     "base_uri": "https://localhost:8080/",
     "height": 376
    },
    "id": "B6cqorIIyDQB",
    "outputId": "f5548dbc-58db-47aa-c900-33fc82a2a0ef"
   },
   "outputs": [],
   "source": [
    "conf_matrix, i_TP, i_TN, i_FP, i_FN = compute_confusion_matrix(\n",
    "    np.squeeze(np.array(labels_test_v2).astype(int)),\n",
    "    np.squeeze(predictions_v2 > 0.5).astype(int),\n",
    ")\n",
    "\n",
    "fig = plt.figure(figsize=(14, 3.6))\n",
    "with plt.style.context(\"seaborn-v0_8-paper\"):\n",
    "    grid = fig.add_gridspec(2, 8, wspace=0.0, hspace=0.0)\n",
    "    ax_cm = fig.add_subplot(grid[:, :2])\n",
    "    plot_conf_matrix(\n",
    "        ax_cm, conf_matrix, [\"Laminar\", \"Turbulent\"], \"summer\", title=\"CM Model v0\"\n",
    "    )\n",
    "    ax_cm_p = []\n",
    "    for i in range(2):\n",
    "        ax_ = []\n",
    "        for j in range(2):\n",
    "            ax_.append(fig.add_subplot(grid[i, j + 3]))\n",
    "        ax_cm_p.append(ax_)\n",
    "\n",
    "    ax_cm_pn = []\n",
    "    for i in range(2):\n",
    "        ax_ = []\n",
    "        for j in range(2):\n",
    "            ax_.append(fig.add_subplot(grid[i, j + 6]))\n",
    "        ax_cm_pn.append(ax_)\n",
    "\n",
    "    cm_i = [[i_TN, i_FP], [i_FN, i_TP]]\n",
    "    plot_velocity_conf_matrix(\n",
    "        ax_cm_p, cm_i, features_test_v2, [\"Laminar\", \"Turbulent\"], \"Veloecity profiles\"\n",
    "    )\n",
    "    plot_velocity_conf_matrix(\n",
    "        ax_cm_pn,\n",
    "        cm_i,\n",
    "        (features_test_v2.T / features_test_v2.max(axis=1).values).T,\n",
    "        [\"Laminar\", \"Turbulent\"],\n",
    "        \"Veloecity profiles normalized\",\n",
    "    )\n",
    "\n",
    "    plt.show()"
   ]
  },
  {
   "cell_type": "markdown",
   "metadata": {
    "id": "yC0HH4gO1Eg9"
   },
   "source": [
    "### Conclusion\n",
    "\n",
    "Let's compare the 3 setup"
   ]
  },
  {
   "cell_type": "code",
   "execution_count": null,
   "metadata": {
    "colab": {
     "base_uri": "https://localhost:8080/",
     "height": 336
    },
    "id": "k3FOQ2jW1HkI",
    "outputId": "9992cf07-6ff9-492b-9fac-d9d2cbcabbeb"
   },
   "outputs": [],
   "source": [
    "fig = plt.figure(figsize=(6, 3.3))\n",
    "with plt.style.context(\"seaborn-v0_8-paper\"):\n",
    "    ax = fig.add_subplot(111)\n",
    "    ax_twin = ax.twinx()\n",
    "    ax_twin.plot(np.nan, np.nan, color=\"k\", ls=\":\", labels=\"Binary accuracy (train)\")\n",
    "    ax_twin.plot(np.nan, np.nan, color=\"k\", ls=\"-\", labels=\"Binary accuracy (test)\")\n",
    "    ax_twin.plot(np.nan, np.nan, color=\"r\", ls=\":\", labels=\"Loss (train)\")\n",
    "    ax_twin.plot(np.nan, np.nan, color=\"r\", ls=\"-\", labels=\"Loss (test)\")\n",
    "    ax.plot(\n",
    "        epochs_i,\n",
    "        train_binary_accuracy * 100,\n",
    "        color=\"k\",\n",
    "        ls=\":\",\n",
    "        marker=\"o\",\n",
    "        markevery=5,\n",
    "        mfc=\"none\",\n",
    "        mew=1,\n",
    "    )\n",
    "    ax.plot(\n",
    "        epochs_i,\n",
    "        train_binary_accuracy_v1 * 100,\n",
    "        color=\"k\",\n",
    "        ls=\":\",\n",
    "        marker=\"s\",\n",
    "        markevery=5,\n",
    "        mfc=\"none\",\n",
    "        mew=1,\n",
    "    )\n",
    "    ax.plot(\n",
    "        epochs_i,\n",
    "        train_binary_accuracy_v2 * 100,\n",
    "        color=\"k\",\n",
    "        ls=\":\",\n",
    "        marker=\"^\",\n",
    "        markevery=5,\n",
    "        mfc=\"none\",\n",
    "        mew=1,\n",
    "    )\n",
    "    ax.plot(\n",
    "        epochs_i,\n",
    "        test_binary_accuracy * 100,\n",
    "        color=\"k\",\n",
    "        ls=\"-\",\n",
    "        marker=\"o\",\n",
    "        markevery=5,\n",
    "        mfc=\"none\",\n",
    "        mew=1,\n",
    "        labels=\"Model v0\",\n",
    "    )\n",
    "    ax.plot(\n",
    "        epochs_i,\n",
    "        test_binary_accuracy_v1 * 100,\n",
    "        color=\"k\",\n",
    "        ls=\"-\",\n",
    "        marker=\"s\",\n",
    "        markevery=5,\n",
    "        mfc=\"none\",\n",
    "        mew=1,\n",
    "        labels=\"Model v1\",\n",
    "    )\n",
    "    ax.plot(\n",
    "        epochs_i,\n",
    "        test_binary_accuracy_v2 * 100,\n",
    "        color=\"k\",\n",
    "        ls=\"-\",\n",
    "        marker=\"^\",\n",
    "        markevery=5,\n",
    "        mfc=\"none\",\n",
    "        mew=1,\n",
    "        labels=\"Model v2\",\n",
    "    )\n",
    "\n",
    "    ax_twin.plot(\n",
    "        epochs_i,\n",
    "        train_loss,\n",
    "        color=\"r\",\n",
    "        ls=\":\",\n",
    "        marker=\"o\",\n",
    "        markevery=10,\n",
    "        mfc=\"none\",\n",
    "        mew=1,\n",
    "    )\n",
    "    ax_twin.plot(\n",
    "        epochs_i,\n",
    "        train_loss_v1,\n",
    "        color=\"r\",\n",
    "        ls=\":\",\n",
    "        marker=\"s\",\n",
    "        markevery=10,\n",
    "        mfc=\"none\",\n",
    "        mew=1,\n",
    "    )\n",
    "    ax_twin.plot(\n",
    "        epochs_i,\n",
    "        train_loss_v2,\n",
    "        color=\"r\",\n",
    "        ls=\":\",\n",
    "        marker=\"^\",\n",
    "        markevery=10,\n",
    "        mfc=\"none\",\n",
    "        mew=1,\n",
    "    )\n",
    "    ax_twin.plot(\n",
    "        epochs_i,\n",
    "        test_loss,\n",
    "        color=\"r\",\n",
    "        ls=\"-\",\n",
    "        marker=\"o\",\n",
    "        markevery=10,\n",
    "        mfc=\"none\",\n",
    "        mew=1,\n",
    "    )\n",
    "    ax_twin.plot(\n",
    "        epochs_i,\n",
    "        test_loss_v1,\n",
    "        color=\"r\",\n",
    "        ls=\"-\",\n",
    "        marker=\"s\",\n",
    "        markevery=10,\n",
    "        mfc=\"none\",\n",
    "        mew=1,\n",
    "    )\n",
    "    ax_twin.plot(\n",
    "        epochs_i,\n",
    "        test_loss_v2,\n",
    "        color=\"r\",\n",
    "        ls=\"-\",\n",
    "        marker=\"^\",\n",
    "        markevery=10,\n",
    "        mfc=\"none\",\n",
    "        mew=1,\n",
    "    )\n",
    "    ax.set_xlabel(\"Epochs [-]\")\n",
    "    ax.set_ylabel(\"Binary accuracy [%]\")\n",
    "    ax.set_ylim([98, 100])\n",
    "    ax_twin.set_ylabel(\"Loss [-]\")\n",
    "    ax_twin.legend(loc=\"upper left\", bbox_to_anchor=(1.2, 1.0))\n",
    "    ax.legend(loc=\"lower left\", bbox_to_anchor=(1.2, 0.0))\n",
    "    # ax_twin.legend(a1+a2+l1+l2, ['Binary accuracy (train)', 'Binary accuracy (test)', 'Loss (train)', 'Loss (test)'], loc='center right')\n",
    "plt.show()"
   ]
  },
  {
   "cell_type": "code",
   "execution_count": null,
   "metadata": {
    "colab": {
     "base_uri": "https://localhost:8080/",
     "height": 329
    },
    "id": "Vs8TLJRt5Llg",
    "outputId": "4d80f053-5266-45f9-fb14-8b7e9b620172"
   },
   "outputs": [],
   "source": [
    "conf_matrix, _, _, _, _ = compute_confusion_matrix(\n",
    "    np.squeeze(np.array(labels_test).astype(int)),\n",
    "    np.squeeze(predictions > 0.5).astype(int),\n",
    ")\n",
    "conf_matrix_v1, _, _, _, _ = compute_confusion_matrix(\n",
    "    np.squeeze(np.array(labels_test).astype(int)),\n",
    "    np.squeeze(predictions_v1 > 0.5).astype(int),\n",
    ")\n",
    "conf_matrix_v2, _, _, _, _ = compute_confusion_matrix(\n",
    "    np.squeeze(np.array(labels_test_v2).astype(int)),\n",
    "    np.squeeze(predictions_v2 > 0.5).astype(int),\n",
    ")\n",
    "\n",
    "fig = plt.figure(figsize=(14, 3.6))\n",
    "with plt.style.context(\"seaborn-v0_8-paper\"):\n",
    "    grid = fig.add_gridspec(2, 8, wspace=0.0, hspace=0.0)\n",
    "    ax_cm_0 = fig.add_subplot(grid[:, :2])\n",
    "    ax_cm_1 = fig.add_subplot(grid[:, 3:5])\n",
    "    ax_cm_2 = fig.add_subplot(grid[:, 6:])\n",
    "\n",
    "    plot_conf_matrix(\n",
    "        ax_cm_0, conf_matrix, [\"Laminar\", \"Turbulent\"], \"summer\", title=\"CM Model v0\"\n",
    "    )\n",
    "    plot_conf_matrix(\n",
    "        ax_cm_1, conf_matrix_v1, [\"Laminar\", \"Turbulent\"], \"summer\", title=\"CM Model v1\"\n",
    "    )\n",
    "    plot_conf_matrix(\n",
    "        ax_cm_2, conf_matrix_v2, [\"Laminar\", \"Turbulent\"], \"summer\", title=\"CM Model v2\"\n",
    "    )\n",
    "\n",
    "    plt.show()"
   ]
  },
  {
   "cell_type": "code",
   "execution_count": null,
   "metadata": {
    "id": "Kh-rusTnBkZW"
   },
   "outputs": [],
   "source": []
  }
 ],
 "metadata": {
  "colab": {
   "provenance": []
  },
  "kernelspec": {
   "display_name": "Python 3",
   "name": "python3"
  },
  "language_info": {
   "codemirror_mode": {
    "name": "ipython",
    "version": 3
   },
   "file_extension": ".py",
   "mimetype": "text/x-python",
   "name": "python",
   "nbconvert_exporter": "python",
   "pygments_lexer": "ipython3",
   "version": "3.11.5"
  }
 },
 "nbformat": 4,
 "nbformat_minor": 0
}
