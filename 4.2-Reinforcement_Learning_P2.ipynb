{
  "cells": [
    {
      "cell_type": "markdown",
      "metadata": {
        "id": "CmIEfJaUTyNH"
      },
      "source": [
        "# Reinforcement Learning - an introduction (Part 2)"
      ]
    },
    {
      "cell_type": "markdown",
      "metadata": {
        "id": "F5pGX7IdTyNN"
      },
      "source": [
        "[![Open In Colab](https://colab.research.google.com/assets/colab-badge.svg)](https://colab.research.google.com/github/paolodeangelis/Sistemi_a_combustione/blob/main/4.2-Reinforcement_Learning_P2.ipynb)"
      ]
    },
    {
      "cell_type": "markdown",
      "source": [
        "# **1. Setup**\n"
      ],
      "metadata": {
        "id": "6MbMQP0b7zGg"
      }
    },
    {
      "cell_type": "markdown",
      "source": [
        "### **Install Packages**"
      ],
      "metadata": {
        "id": "gg4Vl1FH_yVm"
      }
    },
    {
      "cell_type": "code",
      "execution_count": 1,
      "metadata": {
        "id": "oyYkz0Vc7xNE",
        "colab": {
          "base_uri": "https://localhost:8080/"
        },
        "outputId": "140f9727-c272-4686-ce84-d6f6783ffb7d"
      },
      "outputs": [
        {
          "output_type": "stream",
          "name": "stdout",
          "text": [
            "Reading package lists... Done\n",
            "Building dependency tree... Done\n",
            "Reading state information... Done\n",
            "python3-opengl is already the newest version (3.1.5+dfsg-1).\n",
            "swig is already the newest version (4.0.2-1ubuntu1).\n",
            "cmake is already the newest version (3.22.1-1ubuntu1.22.04.1).\n",
            "ffmpeg is already the newest version (7:4.4.2-0ubuntu0.22.04.1).\n",
            "xvfb is already the newest version (2:21.1.4-2ubuntu1.7~22.04.2).\n",
            "0 upgraded, 0 newly installed, 0 to remove and 15 not upgraded.\n",
            "Requirement already satisfied: stable-baselines3==2.0.0a5 in /usr/local/lib/python3.10/dist-packages (2.0.0a5)\n",
            "Requirement already satisfied: gymnasium[box2d] in /usr/local/lib/python3.10/dist-packages (0.28.1)\n",
            "Requirement already satisfied: huggingface_sb3 in /usr/local/lib/python3.10/dist-packages (3.0)\n",
            "Requirement already satisfied: pyvirtualdisplay in /usr/local/lib/python3.10/dist-packages (3.0)\n",
            "Requirement already satisfied: imageio[ffmpeg] in /usr/local/lib/python3.10/dist-packages (2.31.6)\n",
            "Requirement already satisfied: numpy in /usr/local/lib/python3.10/dist-packages (from stable-baselines3==2.0.0a5) (1.23.5)\n",
            "Requirement already satisfied: torch>=1.11 in /usr/local/lib/python3.10/dist-packages (from stable-baselines3==2.0.0a5) (2.1.0+cu118)\n",
            "Requirement already satisfied: cloudpickle in /usr/local/lib/python3.10/dist-packages (from stable-baselines3==2.0.0a5) (2.2.1)\n",
            "Requirement already satisfied: pandas in /usr/local/lib/python3.10/dist-packages (from stable-baselines3==2.0.0a5) (1.5.3)\n",
            "Requirement already satisfied: matplotlib in /usr/local/lib/python3.10/dist-packages (from stable-baselines3==2.0.0a5) (3.7.1)\n",
            "Requirement already satisfied: jax-jumpy>=1.0.0 in /usr/local/lib/python3.10/dist-packages (from gymnasium[box2d]) (1.0.0)\n",
            "Requirement already satisfied: typing-extensions>=4.3.0 in /usr/local/lib/python3.10/dist-packages (from gymnasium[box2d]) (4.5.0)\n",
            "Requirement already satisfied: farama-notifications>=0.0.1 in /usr/local/lib/python3.10/dist-packages (from gymnasium[box2d]) (0.0.4)\n",
            "Requirement already satisfied: box2d-py==2.3.5 in /usr/local/lib/python3.10/dist-packages (from gymnasium[box2d]) (2.3.5)\n",
            "Requirement already satisfied: pygame==2.1.3 in /usr/local/lib/python3.10/dist-packages (from gymnasium[box2d]) (2.1.3)\n",
            "Requirement already satisfied: swig==4.* in /usr/local/lib/python3.10/dist-packages (from gymnasium[box2d]) (4.1.1.post1)\n",
            "Requirement already satisfied: huggingface-hub~=0.8 in /usr/local/lib/python3.10/dist-packages (from huggingface_sb3) (0.19.4)\n",
            "Requirement already satisfied: pyyaml~=6.0 in /usr/local/lib/python3.10/dist-packages (from huggingface_sb3) (6.0.1)\n",
            "Requirement already satisfied: wasabi in /usr/local/lib/python3.10/dist-packages (from huggingface_sb3) (1.1.2)\n",
            "Requirement already satisfied: pillow<10.1.0,>=8.3.2 in /usr/local/lib/python3.10/dist-packages (from imageio[ffmpeg]) (9.4.0)\n",
            "Requirement already satisfied: imageio-ffmpeg in /usr/local/lib/python3.10/dist-packages (from imageio[ffmpeg]) (0.4.9)\n",
            "Requirement already satisfied: psutil in /usr/local/lib/python3.10/dist-packages (from imageio[ffmpeg]) (5.9.5)\n",
            "Requirement already satisfied: filelock in /usr/local/lib/python3.10/dist-packages (from huggingface-hub~=0.8->huggingface_sb3) (3.13.1)\n",
            "Requirement already satisfied: fsspec>=2023.5.0 in /usr/local/lib/python3.10/dist-packages (from huggingface-hub~=0.8->huggingface_sb3) (2023.6.0)\n",
            "Requirement already satisfied: requests in /usr/local/lib/python3.10/dist-packages (from huggingface-hub~=0.8->huggingface_sb3) (2.31.0)\n",
            "Requirement already satisfied: tqdm>=4.42.1 in /usr/local/lib/python3.10/dist-packages (from huggingface-hub~=0.8->huggingface_sb3) (4.66.1)\n",
            "Requirement already satisfied: packaging>=20.9 in /usr/local/lib/python3.10/dist-packages (from huggingface-hub~=0.8->huggingface_sb3) (23.2)\n",
            "Requirement already satisfied: sympy in /usr/local/lib/python3.10/dist-packages (from torch>=1.11->stable-baselines3==2.0.0a5) (1.12)\n",
            "Requirement already satisfied: networkx in /usr/local/lib/python3.10/dist-packages (from torch>=1.11->stable-baselines3==2.0.0a5) (3.2.1)\n",
            "Requirement already satisfied: jinja2 in /usr/local/lib/python3.10/dist-packages (from torch>=1.11->stable-baselines3==2.0.0a5) (3.1.2)\n",
            "Requirement already satisfied: triton==2.1.0 in /usr/local/lib/python3.10/dist-packages (from torch>=1.11->stable-baselines3==2.0.0a5) (2.1.0)\n",
            "Requirement already satisfied: setuptools in /usr/local/lib/python3.10/dist-packages (from imageio-ffmpeg->imageio[ffmpeg]) (67.7.2)\n",
            "Requirement already satisfied: contourpy>=1.0.1 in /usr/local/lib/python3.10/dist-packages (from matplotlib->stable-baselines3==2.0.0a5) (1.2.0)\n",
            "Requirement already satisfied: cycler>=0.10 in /usr/local/lib/python3.10/dist-packages (from matplotlib->stable-baselines3==2.0.0a5) (0.12.1)\n",
            "Requirement already satisfied: fonttools>=4.22.0 in /usr/local/lib/python3.10/dist-packages (from matplotlib->stable-baselines3==2.0.0a5) (4.45.1)\n",
            "Requirement already satisfied: kiwisolver>=1.0.1 in /usr/local/lib/python3.10/dist-packages (from matplotlib->stable-baselines3==2.0.0a5) (1.4.5)\n",
            "Requirement already satisfied: pyparsing>=2.3.1 in /usr/local/lib/python3.10/dist-packages (from matplotlib->stable-baselines3==2.0.0a5) (3.1.1)\n",
            "Requirement already satisfied: python-dateutil>=2.7 in /usr/local/lib/python3.10/dist-packages (from matplotlib->stable-baselines3==2.0.0a5) (2.8.2)\n",
            "Requirement already satisfied: pytz>=2020.1 in /usr/local/lib/python3.10/dist-packages (from pandas->stable-baselines3==2.0.0a5) (2023.3.post1)\n",
            "Requirement already satisfied: six>=1.5 in /usr/local/lib/python3.10/dist-packages (from python-dateutil>=2.7->matplotlib->stable-baselines3==2.0.0a5) (1.16.0)\n",
            "Requirement already satisfied: MarkupSafe>=2.0 in /usr/local/lib/python3.10/dist-packages (from jinja2->torch>=1.11->stable-baselines3==2.0.0a5) (2.1.3)\n",
            "Requirement already satisfied: charset-normalizer<4,>=2 in /usr/local/lib/python3.10/dist-packages (from requests->huggingface-hub~=0.8->huggingface_sb3) (3.3.2)\n",
            "Requirement already satisfied: idna<4,>=2.5 in /usr/local/lib/python3.10/dist-packages (from requests->huggingface-hub~=0.8->huggingface_sb3) (3.6)\n",
            "Requirement already satisfied: urllib3<3,>=1.21.1 in /usr/local/lib/python3.10/dist-packages (from requests->huggingface-hub~=0.8->huggingface_sb3) (2.0.7)\n",
            "Requirement already satisfied: certifi>=2017.4.17 in /usr/local/lib/python3.10/dist-packages (from requests->huggingface-hub~=0.8->huggingface_sb3) (2023.11.17)\n",
            "Requirement already satisfied: mpmath>=0.19 in /usr/local/lib/python3.10/dist-packages (from sympy->torch>=1.11->stable-baselines3==2.0.0a5) (1.3.0)\n"
          ]
        }
      ],
      "source": [
        "# Install necessary packages\n",
        "!apt install swig cmake ffmpeg xvfb python3-opengl\n",
        "!pip install stable-baselines3==2.0.0a5 gymnasium[box2d] huggingface_sb3 pyvirtualdisplay imageio[ffmpeg]"
      ]
    },
    {
      "cell_type": "markdown",
      "source": [
        "The Next Cell will force the notebook runtime to restart. This is to ensure all the new libraries installed will be used."
      ],
      "metadata": {
        "id": "-v81BfAd7yWc"
      }
    },
    {
      "cell_type": "code",
      "source": [
        "import os\n",
        "os.kill(os.getpid(), 9)"
      ],
      "metadata": {
        "id": "FaiyY-Fn_EZg"
      },
      "execution_count": null,
      "outputs": []
    },
    {
      "cell_type": "markdown",
      "source": [
        "### **Start Virtual Display**"
      ],
      "metadata": {
        "id": "DAlous3h_OrZ"
      }
    },
    {
      "cell_type": "code",
      "source": [
        "from pyvirtualdisplay import Display\n",
        "virtual_display = Display(visible=0, size=(1400, 900))\n",
        "virtual_display.start()"
      ],
      "metadata": {
        "id": "xblUYFLM_ZGr",
        "colab": {
          "base_uri": "https://localhost:8080/"
        },
        "outputId": "f3448bb5-2009-4e4a-c7ef-4a16f21cd8f2"
      },
      "execution_count": 1,
      "outputs": [
        {
          "output_type": "execute_result",
          "data": {
            "text/plain": [
              "<pyvirtualdisplay.display.Display at 0x7866a9b7d7b0>"
            ]
          },
          "metadata": {},
          "execution_count": 1
        }
      ]
    },
    {
      "cell_type": "markdown",
      "source": [
        "# Model 2: [Frozen Lake](https://gymnasium.farama.org/environments/toy_text/frozen_lake/)"
      ],
      "metadata": {
        "id": "27yFBqm6nA4b"
      }
    },
    {
      "cell_type": "markdown",
      "source": [
        "### Step1: Environment and Parameter Setup\n",
        "load libraries"
      ],
      "metadata": {
        "id": "rLtXEwmXnG6K"
      }
    },
    {
      "cell_type": "code",
      "source": [
        "from pathlib import Path\n",
        "from typing import NamedTuple\n",
        "import matplotlib.pyplot as plt\n",
        "import numpy as np\n",
        "import pandas as pd\n",
        "import seaborn as sns\n",
        "from tqdm import tqdm\n",
        "import gymnasium as gym\n",
        "from gymnasium.envs.toy_text.frozen_lake import generate_random_map"
      ],
      "metadata": {
        "id": "TqAt57CvnW7X"
      },
      "execution_count": 2,
      "outputs": []
    },
    {
      "cell_type": "markdown",
      "source": [
        "In this section, we define the hyperparameters and configuration parameters using a `NamedTuple` called `Params`. These parameters include the total number of episodes, learning rate, discounting rate (gamma), exploration probability (epsilon), map size, seed for reproducibility, slippery environment flag, number of runs, action size, state size, probability of tiles being frozen, and the folder where plots will be saved.\n",
        "\n",
        "We also set the random number generator (`rng`) seed and create the FrozenLake environment using Gym. The environment's description is generated with random frozen tiles based on the specified probability (`proba_frozen`). The action and state sizes are determined based on the environment's properties."
      ],
      "metadata": {
        "id": "eLunf4RwnWII"
      }
    },
    {
      "cell_type": "code",
      "source": [
        "# Define hyperparameters and configuration parameters using a NamedTuple\n",
        "class Params(NamedTuple):\n",
        "    total_episodes: int  # Total episodes\n",
        "    learning_rate: float  # Learning rate\n",
        "    gamma: float  # Discounting rate\n",
        "    epsilon: float  # Exploration probability\n",
        "    map_size: int  # Number of tiles on one side of the squared environment\n",
        "    seed: int  # Define a seed for reproducible results\n",
        "    is_slippery: bool  # Slippery environment flag\n",
        "    n_runs: int  # Number of runs\n",
        "    action_size: int  # Number of possible actions\n",
        "    state_size: int  # Number of possible states\n",
        "    proba_frozen: float  # Probability that a tile is frozen\n",
        "    savefig_folder: Path  # Root folder to save plots\n",
        "\n",
        "# Initialize hyperparameters and configuration parameters\n",
        "params = Params(\n",
        "    total_episodes=5000,\n",
        "    learning_rate=0.5,\n",
        "    gamma=0.95,\n",
        "    epsilon=0.1,\n",
        "    map_size=6,\n",
        "    seed=123,\n",
        "    is_slippery=False,\n",
        "    n_runs=4,\n",
        "    action_size=None,\n",
        "    state_size=None,\n",
        "    proba_frozen=0.9,\n",
        "    savefig_folder=Path(\"../../_static/img/tutorials/\"),\n",
        ")\n",
        "\n",
        "# Set the seed\n",
        "rng = np.random.default_rng(params.seed)\n",
        "\n",
        "# Create the figure folder if it doesn't exist\n",
        "params.savefig_folder.mkdir(parents=True, exist_ok=True)\n",
        "\n",
        "# Create the FrozenLake environment with specified parameters\n",
        "env = gym.make(\n",
        "    \"FrozenLake-v1\",\n",
        "    is_slippery=params.is_slippery,\n",
        "    render_mode=\"rgb_array\",\n",
        "    desc=generate_random_map(\n",
        "        size=params.map_size, p=params.proba_frozen, seed=params.seed\n",
        "    ),\n",
        ")\n",
        "\n",
        "params = params._replace(action_size=env.action_space.n)\n",
        "params = params._replace(state_size=env.observation_space.n)\n"
      ],
      "metadata": {
        "id": "PBuLakXvnIyd"
      },
      "execution_count": 3,
      "outputs": []
    },
    {
      "cell_type": "markdown",
      "source": [
        "### Step 2: Q-Learning Agent Definition\n",
        "\n",
        "In this section, we define the Q-learning agent class (`Qlearning`). The agent is initialized with learning rate, discounting rate (gamma), state size, and action size as parameters. The Q-table is initialized with zeros.\n",
        "\n",
        "The `update` method implements the Q-learning update equation to update Q-values based on the difference between the current estimate and actual rewards. This equation is expressed as:\n",
        "\n",
        "$$\n",
        "Q(s, a) \\leftarrow Q(s, a) + \\alpha \\cdot \\left( R(s, a) + \\gamma \\cdot \\max_{a'} Q(s', a') - Q(s, a) \\right)\n",
        "$$\n",
        "\n",
        "Where:\n",
        "- $ Q(s, a) $ is the current estimate of the Q-value for state 's' and action 'a.'\n",
        "- $ \\alpha $ is the learning rate.\n",
        "- $ R(s, a) $ is the immediate reward received after taking action 'a' in state 's.'\n",
        "- $ \\gamma $ is the discounting rate.\n",
        "- $ \\max_{a'} Q(s', a') $ is the maximum Q-value among possible actions in the next state 's'.\n",
        "\n",
        "The `reset_qtable` method initializes the Q-table with zeros."
      ],
      "metadata": {
        "id": "RMBs9GPhnt9T"
      }
    },
    {
      "cell_type": "code",
      "source": [
        "class Qlearning:\n",
        "    def __init__(self, learning_rate, gamma, state_size, action_size):\n",
        "        \"\"\"\n",
        "        Initialize the Q-learning agent.\n",
        "\n",
        "        Args:\n",
        "            learning_rate (float): The learning rate.\n",
        "            gamma (float): The discounting rate.\n",
        "            state_size (int): Number of possible states.\n",
        "            action_size (int): Number of possible actions.\n",
        "        \"\"\"\n",
        "        self.state_size = state_size\n",
        "        self.action_size = action_size\n",
        "        self.learning_rate = learning_rate\n",
        "        self.gamma = gamma\n",
        "        self.reset_qtable()\n",
        "\n",
        "    def update(self, state, action, reward, new_state):\n",
        "        \"\"\"\n",
        "        Update the Q-table using the Q-learning algorithm.\n",
        "\n",
        "        Args:\n",
        "            state (int): Current state.\n",
        "            action (int): Chosen action.\n",
        "            reward (float): Reward received.\n",
        "            new_state (int): New state after taking action.\n",
        "\n",
        "        Returns:\n",
        "            float: Updated Q-value.\n",
        "        \"\"\"\n",
        "        delta = (\n",
        "            reward\n",
        "            + self.gamma * np.max(self.qtable[new_state, :])\n",
        "            - self.qtable[state, action]\n",
        "        )\n",
        "        q_update = self.qtable[state, action] + self.learning_rate * delta\n",
        "        return q_update\n",
        "\n",
        "    def reset_qtable(self):\n",
        "        \"\"\"Reset the Q-table.\"\"\"\n",
        "        self.qtable = np.zeros((self.state_size, self.action_size))"
      ],
      "metadata": {
        "id": "5n_1gf4Unu_7"
      },
      "execution_count": 4,
      "outputs": []
    },
    {
      "cell_type": "markdown",
      "source": [
        "### Step 3: Epsilon-Greedy Exploration Strategy\n",
        "\n",
        "In this section, we define the Epsilon-Greedy exploration strategy class (`EpsilonGreedy`). The strategy is initialized with an exploration probability `epsilon`. The `choose_action` method implements the Epsilon-Greedy strategy to select an action based on whether exploration or exploitation should be performed.\n",
        "\n",
        "Exploration: With probability `epsilon`, a random action is chosen.\n",
        "Exploitation: With probability `1 - epsilon`, the action with the highest Q-value in the current state is selected. If there are multiple actions with the same maximum Q-value, one is chosen randomly."
      ],
      "metadata": {
        "id": "BrYpz2G-n9He"
      }
    },
    {
      "cell_type": "code",
      "source": [
        "class EpsilonGreedy:\n",
        "    def __init__(self, epsilon):\n",
        "        \"\"\"\n",
        "        Initialize the Epsilon-Greedy exploration strategy.\n",
        "\n",
        "        Args:\n",
        "            epsilon (float): Exploration probability.\n",
        "        \"\"\"\n",
        "        self.epsilon = epsilon\n",
        "\n",
        "    def choose_action(self, action_space, state, qtable):\n",
        "        \"\"\"\n",
        "        Choose an action based on the Epsilon-Greedy strategy.\n",
        "\n",
        "        Args:\n",
        "            action_space: Action space of the environment.\n",
        "            state (int): Current state.\n",
        "            qtable: Q-table of the agent.\n",
        "\n",
        "        Returns:\n",
        "            int: Chosen action.\n",
        "        \"\"\"\n",
        "        explor_exploit_tradeoff = rng.uniform(0, 1)\n",
        "\n",
        "        if explor_exploit_tradeoff < self.epsilon:\n",
        "\n",
        "\n",
        "            action = action_space.sample()\n",
        "        else:\n",
        "            if np.all(qtable[state, :]) == qtable[state, 0]:\n",
        "                action = action_space.sample()\n",
        "            else:\n",
        "                action = np.argmax(qtable[state, :])\n",
        "        return action"
      ],
      "metadata": {
        "id": "RybS7o-jn60o"
      },
      "execution_count": 5,
      "outputs": []
    },
    {
      "cell_type": "markdown",
      "source": [
        "### Step 4: Training Loop\n",
        "\n",
        "In this section, we execute the training loop. The outer loop (`run`) runs multiple times to account for stochasticity. Within each run, we reset the Q-table using `learner.reset_qtable()`.\n",
        "\n",
        "The inner loop (`episode`) represents each training episode. We reset the environment, initialize step count and total rewards, and enter the episode loop. In the episode loop, we select actions using the Epsilon-Greedy strategy, perform actions in the environment, and update the Q-table using the Q-learning update equation.\n",
        "\n",
        "We log the rewards, steps, and Q-tables for analysis. The `tqdm` progress bar is used to visualize the progress of training episodes within each run.\n",
        "\n",
        "### Section 5: Analysis and Visualization\n",
        "\n",
        "In this section, you can perform analysis and visualization of training results using the logged data (e.g., rewards, Q-tables)."
      ],
      "metadata": {
        "id": "NA3mGARIoL13"
      }
    },
    {
      "cell_type": "code",
      "source": [
        "learner = Qlearning(\n",
        "    learning_rate=params.learning_rate,\n",
        "    gamma=params.gamma,\n",
        "    state_size=params.state_size,\n",
        "    action_size=params.action_size,\n",
        ")\n",
        "explorer = EpsilonGreedy(\n",
        "    epsilon=params.epsilon,\n",
        ")\n",
        "\n",
        "# Initialize arrays to store rewards, steps, episodes, and Q-tables\n",
        "rewards = np.zeros((params.total_episodes, params.n_runs))\n",
        "steps = np.zeros((params.total_episodes, params.n_runs))\n",
        "episodes = np.arange(params.total_episodes)\n",
        "qtables = np.zeros((params.n_runs, params.state_size, params.action_size))\n",
        "all_states = []\n",
        "all_actions = []\n",
        "\n",
        "# Training loop\n",
        "for run in range(params.n_runs):  # Run multiple times for stochasticity\n",
        "    learner.reset_qtable()  # Reset Q-table between runs\n",
        "\n",
        "    for episode in tqdm(\n",
        "        episodes, desc=f\"Run {run}/{params.n_runs} - Episodes\", leave=False\n",
        "    ):\n",
        "        state = env.reset(seed=params.seed)[0]  # Reset the environment\n",
        "        step = 0\n",
        "        done = False\n",
        "        total_rewards = 0\n",
        "\n",
        "        while not done:\n",
        "            action = explorer.choose_action(\n",
        "                action_space=env.action_space, state=state, qtable=learner.qtable\n",
        "            )\n",
        "\n",
        "            all_states.append(state)\n",
        "            all_actions.append(action)\n",
        "\n",
        "            new_state, reward, terminated, truncated, info = env.step(action)\n",
        "\n",
        "            done = terminated or truncated\n",
        "\n",
        "            learner.qtable[state, action] = learner.update(\n",
        "                state, action, reward, new_state\n",
        "            )\n",
        "\n",
        "            total_rewards += reward\n",
        "            step += 1\n",
        "\n",
        "            state = new_state\n",
        "\n",
        "        rewards[episode, run] = total_rewards\n",
        "        steps[episode, run] = step\n",
        "    qtables[run, :, :] = learner.qtable"
      ],
      "metadata": {
        "colab": {
          "base_uri": "https://localhost:8080/"
        },
        "id": "qWXSD_-5oPy-",
        "outputId": "b93f6a9e-c42a-4c9a-fb51-658bfe58f2fa"
      },
      "execution_count": 6,
      "outputs": [
        {
          "output_type": "stream",
          "name": "stderr",
          "text": []
        }
      ]
    },
    {
      "cell_type": "markdown",
      "source": [
        "### Visualization"
      ],
      "metadata": {
        "id": "IoTFfZ7tou23"
      }
    },
    {
      "cell_type": "code",
      "source": [
        "import gymnasium as gym\n",
        "from gymnasium.utils.save_video import save_video\n",
        "env = gym.make(\n",
        "    \"FrozenLake-v1\",\n",
        "    is_slippery=params.is_slippery,\n",
        "    render_mode=\"rgb_array_list\",\n",
        "    desc=generate_random_map(\n",
        "        size=params.map_size, p=params.proba_frozen, seed=params.seed\n",
        "    ),\n",
        ")\n",
        "_ = env.reset()\n",
        "step_starting_index = 0\n",
        "episode_index = 0\n",
        "explorer.epsilon = 0.0\n",
        "for step_index in range(199):\n",
        "    action = explorer.choose_action(\n",
        "        action_space=env.action_space, state=state, qtable=learner.qtable\n",
        "    )\n",
        "\n",
        "    # Log all states and actions\n",
        "    all_states.append(state)\n",
        "    all_actions.append(action)\n",
        "\n",
        "    learner.qtable[state, action] = learner.update(\n",
        "        state, action, reward, new_state\n",
        "    )\n",
        "    # Take the action (a) and observe the outcome state(s') and reward (r)\n",
        "    new_state, reward, terminated, truncated, info = env.step(action)\n",
        "    # Our new state is state\n",
        "    state = new_state\n",
        "    _, _, terminated, truncated, _ = env.step(action)\n",
        "\n",
        "    if terminated or truncated:\n",
        "        save_video(\n",
        "            env.render(),\n",
        "            \"videos\",\n",
        "            fps=env.metadata[\"render_fps\"],\n",
        "            step_starting_index=step_starting_index,\n",
        "            episode_index=episode_index\n",
        "        )\n",
        "        step_starting_index = step_index + 1\n",
        "        episode_index += 1\n",
        "        env.reset()\n",
        "env.close()\n"
      ],
      "metadata": {
        "id": "95AOAJ37gGgq",
        "outputId": "1cc02d91-dd75-4e13-cb44-42f1f167d1d6",
        "colab": {
          "base_uri": "https://localhost:8080/"
        }
      },
      "execution_count": 7,
      "outputs": [
        {
          "output_type": "stream",
          "name": "stdout",
          "text": [
            "Moviepy - Building video /content/videos/rl-video-episode-0.mp4.\n",
            "Moviepy - Writing video /content/videos/rl-video-episode-0.mp4\n",
            "\n"
          ]
        },
        {
          "output_type": "stream",
          "name": "stderr",
          "text": []
        },
        {
          "output_type": "stream",
          "name": "stdout",
          "text": [
            "Moviepy - Done !\n",
            "Moviepy - video ready /content/videos/rl-video-episode-0.mp4\n",
            "Moviepy - Building video /content/videos/rl-video-episode-1.mp4.\n",
            "Moviepy - Writing video /content/videos/rl-video-episode-1.mp4\n",
            "\n"
          ]
        },
        {
          "output_type": "stream",
          "name": "stderr",
          "text": [
            "                                                   "
          ]
        },
        {
          "output_type": "stream",
          "name": "stdout",
          "text": [
            "Moviepy - Done !\n",
            "Moviepy - video ready /content/videos/rl-video-episode-1.mp4\n"
          ]
        },
        {
          "output_type": "stream",
          "name": "stderr",
          "text": [
            "\r"
          ]
        },
        {
          "output_type": "stream",
          "name": "stdout",
          "text": [
            "Moviepy - Building video /content/videos/rl-video-episode-8.mp4.\n",
            "Moviepy - Writing video /content/videos/rl-video-episode-8.mp4\n",
            "\n"
          ]
        },
        {
          "output_type": "stream",
          "name": "stderr",
          "text": []
        },
        {
          "output_type": "stream",
          "name": "stdout",
          "text": [
            "Moviepy - Done !\n",
            "Moviepy - video ready /content/videos/rl-video-episode-8.mp4\n",
            "Moviepy - Building video /content/videos/rl-video-episode-27.mp4.\n",
            "Moviepy - Writing video /content/videos/rl-video-episode-27.mp4\n",
            "\n"
          ]
        },
        {
          "output_type": "stream",
          "name": "stderr",
          "text": [
            "                                                   "
          ]
        },
        {
          "output_type": "stream",
          "name": "stdout",
          "text": [
            "Moviepy - Done !\n",
            "Moviepy - video ready /content/videos/rl-video-episode-27.mp4\n"
          ]
        },
        {
          "output_type": "stream",
          "name": "stderr",
          "text": [
            "\r"
          ]
        }
      ]
    },
    {
      "cell_type": "code",
      "source": [
        "from IPython.display import HTML\n",
        "from base64 import b64encode\n",
        "mp4 = open('/content/videos/rl-video-episode-0.mp4','rb').read()\n",
        "data_url = \"data:video/mp4;base64,\" + b64encode(mp4).decode()\n",
        "HTML(\"\"\"\n",
        "<video width=600 controls>\n",
        "      <source src=\"%s\" type=\"video/mp4\">\n",
        "</video>\n",
        "\"\"\" % data_url)"
      ],
      "metadata": {
        "id": "rDNfYdamXPfz",
        "outputId": "fb023029-1b1b-4ede-f4f2-0fcb3416ba6f",
        "colab": {
          "base_uri": "https://localhost:8080/",
          "height": 621
        }
      },
      "execution_count": 8,
      "outputs": [
        {
          "output_type": "execute_result",
          "data": {
            "text/plain": [
              "<IPython.core.display.HTML object>"
            ],
            "text/html": [
              "\n",
              "<video width=600 controls>\n",
              "      <source src=\"data:video/mp4;base64,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\" type=\"video/mp4\">\n",
              "</video>\n"
            ]
          },
          "metadata": {},
          "execution_count": 8
        }
      ]
    },
    {
      "cell_type": "markdown",
      "source": [
        "# Model 3: [Blackjack](https://gymnasium.farama.org/environments/toy_text/blackjack/)"
      ],
      "metadata": {
        "id": "YwTIIoV4pmgt"
      }
    },
    {
      "cell_type": "markdown",
      "source": [
        "### Step1: Environment and Parameter Setup\n",
        "load libraries"
      ],
      "metadata": {
        "id": "3ttDm5U6pmgt"
      }
    },
    {
      "cell_type": "code",
      "source": [
        "from pathlib import Path\n",
        "from typing import NamedTuple\n",
        "import matplotlib.pyplot as plt\n",
        "import numpy as np\n",
        "import pandas as pd\n",
        "import seaborn as sns\n",
        "from tqdm import tqdm\n",
        "import gymnasium as gym"
      ],
      "metadata": {
        "id": "MdxjF8xopmgu"
      },
      "execution_count": 12,
      "outputs": []
    },
    {
      "cell_type": "markdown",
      "source": [
        "In this section, we define the hyperparameters and configuration parameters using a `NamedTuple` called `Params`. These parameters include the total number of episodes, learning rate, discounting rate (gamma), exploration probability (epsilon), map size, seed for reproducibility, slippery environment flag, number of runs, action size, state size, probability of tiles being frozen, and the folder where plots will be saved.\n",
        "\n",
        "We also set the random number generator (`rng`) seed and create the FrozenLake environment using Gym. The environment's description is generated with random frozen tiles based on the specified probability (`proba_frozen`). The action and state sizes are determined based on the environment's properties."
      ],
      "metadata": {
        "id": "tilatw2Jpmgu"
      }
    },
    {
      "cell_type": "code",
      "source": [
        "# Define hyperparameters and configuration parameters using a NamedTuple\n",
        "class Params(NamedTuple):\n",
        "    total_episodes: int  # Total episodes\n",
        "    learning_rate: float  # Learning rate\n",
        "    seed: int  # Define a seed for reproducible results\n",
        "    n_runs: int  # Number of runs\n",
        "    action_size: int  # Number of possible actions\n",
        "    state_size: int  # Number of possible states\n",
        "    proba_frozen: float  # Probability that a tile is frozen\n",
        "    savefig_folder: Path  # Root folder to save plots\n",
        "    n_episodes : int\n",
        "    start_epsilon : float\n",
        "    epsilon_decay : float\n",
        "    final_epsilon : float\n",
        "\n",
        "# Initialize hyperparameters and configuration parameters\n",
        "start_epsilon = 1.0\n",
        "n_episodes = 100_000\n",
        "params = Params(\n",
        "    total_episodes=5000,\n",
        "    learning_rate = 0.01,\n",
        "    n_episodes = n_episodes,\n",
        "    start_epsilon = start_epsilon,\n",
        "    epsilon_decay = start_epsilon / (n_episodes / 2),  # reduce the exploration over time\n",
        "    final_epsilon = 0.1,\n",
        "    seed=123,\n",
        "    n_runs=4,\n",
        "    action_size=None,\n",
        "    state_size=None,\n",
        "    proba_frozen=0.9,\n",
        "    savefig_folder=Path(\"../../_static/img/tutorials/\"),\n",
        ")\n",
        "\n",
        "# Set the seed\n",
        "rng = np.random.default_rng(params.seed)\n",
        "\n",
        "# Create the figure folder if it doesn't exist\n",
        "params.savefig_folder.mkdir(parents=True, exist_ok=True)\n",
        "\n",
        "# Create the FrozenLake environment with specified parameters\n",
        "env = gym.make('Blackjack-v1',render_mode=\"rgb_array\", natural=False, sab=False)\n",
        "\n",
        "params = params._replace(action_size=env.action_space.n)\n",
        "params = params._replace(state_size=env.observation_space)\n"
      ],
      "metadata": {
        "id": "4OiAtunTpmgu"
      },
      "execution_count": 33,
      "outputs": []
    },
    {
      "cell_type": "markdown",
      "source": [
        "### Step 2: Q-Learning Agent Definition\n",
        "\n",
        "In this section, we define the Q-learning agent class (`Qlearning`). The agent is initialized with learning rate, discounting rate (gamma), state size, and action size as parameters. The Q-table is initialized with zeros.\n",
        "\n",
        "The `update` method implements the Q-learning update equation to update Q-values based on the difference between the current estimate and actual rewards. This equation is expressed as:\n",
        "\n",
        "$$\n",
        "Q(s, a) \\leftarrow Q(s, a) + \\alpha \\cdot \\left( R(s, a) + \\gamma \\cdot \\max_{a'} Q(s', a') - Q(s, a) \\right)\n",
        "$$\n",
        "\n",
        "Where:\n",
        "- $ Q(s, a) $ is the current estimate of the Q-value for state 's' and action 'a.'\n",
        "- $ \\alpha $ is the learning rate.\n",
        "- $ R(s, a) $ is the immediate reward received after taking action 'a' in state 's.'\n",
        "- $ \\gamma $ is the discounting rate.\n",
        "- $ \\max_{a'} Q(s', a') $ is the maximum Q-value among possible actions in the next state 's'.\n",
        "\n",
        "The `reset_qtable` method initializes the Q-table with zeros."
      ],
      "metadata": {
        "id": "N9Fj0dFPpmgu"
      }
    },
    {
      "cell_type": "code",
      "source": [
        "from collections import defaultdict\n",
        "\n",
        "\n",
        "class BlackjackAgent:\n",
        "    def __init__(\n",
        "        self,\n",
        "        learning_rate: float,\n",
        "        initial_epsilon: float,\n",
        "        epsilon_decay: float,\n",
        "        final_epsilon: float,\n",
        "        discount_factor: float = 0.95,\n",
        "    ):\n",
        "        \"\"\"Initialize a Reinforcement Learning agent with an empty dictionary\n",
        "        of state-action values (q_values), a learning rate and an epsilon.\n",
        "\n",
        "        Args:\n",
        "            learning_rate: The learning rate\n",
        "            initial_epsilon: The initial epsilon value\n",
        "            epsilon_decay: The decay for epsilon\n",
        "            final_epsilon: The final epsilon value\n",
        "            discount_factor: The discount factor for computing the Q-value\n",
        "        \"\"\"\n",
        "        self.q_values = defaultdict(lambda: np.zeros(env.action_space.n))\n",
        "\n",
        "        self.lr = learning_rate\n",
        "        self.discount_factor = discount_factor\n",
        "\n",
        "        self.epsilon = initial_epsilon\n",
        "        self.epsilon_decay = epsilon_decay\n",
        "        self.final_epsilon = final_epsilon\n",
        "\n",
        "        self.training_error = []\n",
        "\n",
        "    def get_action(self, obs: tuple[int, int, bool]) -> int:\n",
        "        \"\"\"\n",
        "        Returns the best action with probability (1 - epsilon)\n",
        "        otherwise a random action with probability epsilon to ensure exploration.\n",
        "        \"\"\"\n",
        "        # with probability epsilon return a random action to explore the environment\n",
        "        if np.random.random() < self.epsilon:\n",
        "            return env.action_space.sample()\n",
        "\n",
        "        # with probability (1 - epsilon) act greedily (exploit)\n",
        "        else:\n",
        "            return int(np.argmax(self.q_values[obs]))\n",
        "\n",
        "    def update(\n",
        "        self,\n",
        "        obs: tuple[int, int, bool],\n",
        "        action: int,\n",
        "        reward: float,\n",
        "        terminated: bool,\n",
        "        next_obs: tuple[int, int, bool],\n",
        "    ):\n",
        "        \"\"\"Updates the Q-value of an action.\"\"\"\n",
        "        future_q_value = (not terminated) * np.max(self.q_values[next_obs])\n",
        "        temporal_difference = (\n",
        "            reward + self.discount_factor * future_q_value - self.q_values[obs][action]\n",
        "        )\n",
        "\n",
        "        self.q_values[obs][action] = (\n",
        "            self.q_values[obs][action] + self.lr * temporal_difference\n",
        "        )\n",
        "        self.training_error.append(temporal_difference)\n",
        "\n",
        "    def decay_epsilon(self):\n",
        "        self.epsilon = max(self.final_epsilon, self.epsilon - self.epsilon_decay)"
      ],
      "metadata": {
        "id": "4pAD4BuMpmgu"
      },
      "execution_count": 34,
      "outputs": []
    },
    {
      "cell_type": "code",
      "source": [
        "agent = BlackjackAgent(\n",
        "    learning_rate=params.learning_rate,\n",
        "    initial_epsilon=params.start_epsilon,\n",
        "    epsilon_decay=params.epsilon_decay,\n",
        "    final_epsilon=params.final_epsilon,\n",
        ")"
      ],
      "metadata": {
        "id": "_NLD4K9yrhCx"
      },
      "execution_count": 35,
      "outputs": []
    },
    {
      "cell_type": "markdown",
      "source": [
        "### Step 4: Training Loop\n",
        "\n",
        "In this section, we execute the training loop. The outer loop (`run`) runs multiple times to account for stochasticity. Within each run, we reset the Q-table using `learner.reset_qtable()`.\n",
        "\n",
        "The inner loop (`episode`) represents each training episode. We reset the environment, initialize step count and total rewards, and enter the episode loop. In the episode loop, we select actions using the Epsilon-Greedy strategy, perform actions in the environment, and update the Q-table using the Q-learning update equation.\n",
        "\n",
        "We log the rewards, steps, and Q-tables for analysis. The `tqdm` progress bar is used to visualize the progress of training episodes within each run.\n"
      ],
      "metadata": {
        "id": "3eHyjsHzpmgv"
      }
    },
    {
      "cell_type": "code",
      "source": [
        "env = gym.wrappers.RecordEpisodeStatistics(env, deque_size=n_episodes)\n",
        "for episode in tqdm(range(n_episodes)):\n",
        "    obs, info = env.reset()\n",
        "    done = False\n",
        "\n",
        "    # play one episode\n",
        "    while not done:\n",
        "        action = agent.get_action(obs)\n",
        "        next_obs, reward, terminated, truncated, info = env.step(action)\n",
        "\n",
        "        # update the agent\n",
        "        agent.update(obs, action, reward, terminated, next_obs)\n",
        "\n",
        "        # update if the environment is done and the current obs\n",
        "        done = terminated or truncated\n",
        "        obs = next_obs\n",
        "\n",
        "    agent.decay_epsilon()"
      ],
      "metadata": {
        "outputId": "c636aca8-d061-412b-fe96-7dfc2e6ac65b",
        "colab": {
          "base_uri": "https://localhost:8080/"
        },
        "id": "Lp6QxbL4pmgv"
      },
      "execution_count": 36,
      "outputs": [
        {
          "output_type": "stream",
          "name": "stderr",
          "text": [
            "100%|██████████| 100000/100000 [00:25<00:00, 3958.85it/s]\n"
          ]
        }
      ]
    },
    {
      "cell_type": "markdown",
      "source": [
        "### Visualization"
      ],
      "metadata": {
        "id": "NhUBUFnYpmgv"
      }
    },
    {
      "cell_type": "code",
      "source": [
        "import gymnasium as gym\n",
        "from gymnasium.utils.save_video import save_video\n",
        "env = gym.make('Blackjack-v1',render_mode=\"rgb_array_list\", natural=False, sab=False)\n",
        "\n",
        "state, info = env.reset()\n",
        "step_starting_index = 0\n",
        "episode_index = 0\n",
        "explorer.epsilon = 0.0\n",
        "for step_index in range(199):\n",
        "    action = agent.get_action(state)\n",
        "    # Take the action (a) and observe the outcome state(s') and reward (r)\n",
        "    new_state, reward, terminated, truncated, info = env.step(action)\n",
        "\n",
        "    # update the agent\n",
        "    agent.update(state, action, reward, terminated, new_state)\n",
        "\n",
        "    # Our new state is state\n",
        "    state = new_state\n",
        "    _, _, terminated, truncated, _ = env.step(action)\n",
        "\n",
        "    if terminated or truncated:\n",
        "        save_video(\n",
        "            env.render(),\n",
        "            \"videos\",\n",
        "            fps=env.metadata[\"render_fps\"],\n",
        "            step_starting_index=step_starting_index,\n",
        "            episode_index=episode_index\n",
        "        )\n",
        "        step_starting_index = step_index + 1\n",
        "        episode_index += 1\n",
        "        state, info = env.reset()\n",
        "env.close()\n"
      ],
      "metadata": {
        "outputId": "6952362e-8585-4181-e6bf-75a2bfc10e13",
        "colab": {
          "base_uri": "https://localhost:8080/"
        },
        "id": "yeHWsf2Wpmgv"
      },
      "execution_count": 37,
      "outputs": [
        {
          "output_type": "stream",
          "name": "stdout",
          "text": [
            "Moviepy - Building video /content/videos/rl-video-episode-0.mp4.\n",
            "Moviepy - Writing video /content/videos/rl-video-episode-0.mp4\n",
            "\n"
          ]
        },
        {
          "output_type": "stream",
          "name": "stderr",
          "text": []
        },
        {
          "output_type": "stream",
          "name": "stdout",
          "text": [
            "Moviepy - Done !\n",
            "Moviepy - video ready /content/videos/rl-video-episode-0.mp4\n",
            "Moviepy - Building video /content/videos/rl-video-episode-1.mp4.\n",
            "Moviepy - Writing video /content/videos/rl-video-episode-1.mp4\n",
            "\n"
          ]
        },
        {
          "output_type": "stream",
          "name": "stderr",
          "text": [
            "                                                  "
          ]
        },
        {
          "output_type": "stream",
          "name": "stdout",
          "text": [
            "Moviepy - Done !\n",
            "Moviepy - video ready /content/videos/rl-video-episode-1.mp4\n"
          ]
        },
        {
          "output_type": "stream",
          "name": "stderr",
          "text": [
            "\r"
          ]
        },
        {
          "output_type": "stream",
          "name": "stdout",
          "text": [
            "Moviepy - Building video /content/videos/rl-video-episode-8.mp4.\n",
            "Moviepy - Writing video /content/videos/rl-video-episode-8.mp4\n",
            "\n"
          ]
        },
        {
          "output_type": "stream",
          "name": "stderr",
          "text": [
            "                                                  "
          ]
        },
        {
          "output_type": "stream",
          "name": "stdout",
          "text": [
            "Moviepy - Done !\n",
            "Moviepy - video ready /content/videos/rl-video-episode-8.mp4\n"
          ]
        },
        {
          "output_type": "stream",
          "name": "stderr",
          "text": [
            "\r"
          ]
        },
        {
          "output_type": "stream",
          "name": "stdout",
          "text": [
            "Moviepy - Building video /content/videos/rl-video-episode-27.mp4.\n",
            "Moviepy - Writing video /content/videos/rl-video-episode-27.mp4\n",
            "\n"
          ]
        },
        {
          "output_type": "stream",
          "name": "stderr",
          "text": [
            "                                                  "
          ]
        },
        {
          "output_type": "stream",
          "name": "stdout",
          "text": [
            "Moviepy - Done !\n",
            "Moviepy - video ready /content/videos/rl-video-episode-27.mp4\n"
          ]
        },
        {
          "output_type": "stream",
          "name": "stderr",
          "text": [
            "\r"
          ]
        },
        {
          "output_type": "stream",
          "name": "stdout",
          "text": [
            "Moviepy - Building video /content/videos/rl-video-episode-64.mp4.\n",
            "Moviepy - Writing video /content/videos/rl-video-episode-64.mp4\n",
            "\n"
          ]
        },
        {
          "output_type": "stream",
          "name": "stderr",
          "text": [
            "                                                  "
          ]
        },
        {
          "output_type": "stream",
          "name": "stdout",
          "text": [
            "Moviepy - Done !\n",
            "Moviepy - video ready /content/videos/rl-video-episode-64.mp4\n"
          ]
        },
        {
          "output_type": "stream",
          "name": "stderr",
          "text": [
            "\r"
          ]
        },
        {
          "output_type": "stream",
          "name": "stdout",
          "text": [
            "Moviepy - Building video /content/videos/rl-video-episode-125.mp4.\n",
            "Moviepy - Writing video /content/videos/rl-video-episode-125.mp4\n",
            "\n"
          ]
        },
        {
          "output_type": "stream",
          "name": "stderr",
          "text": [
            "                                                  "
          ]
        },
        {
          "output_type": "stream",
          "name": "stdout",
          "text": [
            "Moviepy - Done !\n",
            "Moviepy - video ready /content/videos/rl-video-episode-125.mp4\n"
          ]
        },
        {
          "output_type": "stream",
          "name": "stderr",
          "text": [
            "\r"
          ]
        }
      ]
    },
    {
      "cell_type": "code",
      "source": [
        "from IPython.display import HTML\n",
        "from base64 import b64encode\n",
        "mp4 = open('/content/videos/rl-video-episode-64.mp4','rb').read()\n",
        "data_url = \"data:video/mp4;base64,\" + b64encode(mp4).decode()\n",
        "HTML(\"\"\"\n",
        "<video width=600 controls>\n",
        "      <source src=\"%s\" type=\"video/mp4\">\n",
        "</video>\n",
        "\"\"\" % data_url)"
      ],
      "metadata": {
        "outputId": "452dac0a-8393-4976-d83d-3ffee4faa737",
        "colab": {
          "base_uri": "https://localhost:8080/",
          "height": 521
        },
        "id": "N6vz8aoEpmgw"
      },
      "execution_count": 42,
      "outputs": [
        {
          "output_type": "execute_result",
          "data": {
            "text/plain": [
              "<IPython.core.display.HTML object>"
            ],
            "text/html": [
              "\n",
              "<video width=600 controls>\n",
              "      <source src=\"data:video/mp4;base64,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\" type=\"video/mp4\">\n",
              "</video>\n"
            ]
          },
          "metadata": {},
          "execution_count": 42
        }
      ]
    },
    {
      "cell_type": "code",
      "source": [],
      "metadata": {
        "id": "CSL8_xDktkEN"
      },
      "execution_count": null,
      "outputs": []
    }
  ],
  "metadata": {
    "language_info": {
      "name": "python"
    },
    "colab": {
      "provenance": [],
      "toc_visible": true
    },
    "kernelspec": {
      "name": "python3",
      "display_name": "Python 3"
    }
  },
  "nbformat": 4,
  "nbformat_minor": 0
}